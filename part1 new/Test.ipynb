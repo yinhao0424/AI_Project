{
 "cells": [
  {
   "cell_type": "code",
   "execution_count": 13,
   "metadata": {},
   "outputs": [],
   "source": [
    "import numpy as np\n",
    "import pandas as pd\n",
    "from random import randrange\n",
    "from random import choice\n",
    "from collections import Counter"
   ]
  },
  {
   "cell_type": "markdown",
   "metadata": {},
   "source": [
    "## Board"
   ]
  },
  {
   "cell_type": "code",
   "execution_count": 1,
   "metadata": {},
   "outputs": [],
   "source": [
    "def nearStates(state):\n",
    "    near_states = []\n",
    "    #\n",
    "    # For each state [column] it checks if the neighboring columns are empty\n",
    "    for row in range(3):\n",
    "        for col in range(3):\n",
    "            # If different:\n",
    "            # then the current iteration col is available to move around\n",
    "            # since state [] stores the value of the columns where the queens are\n",
    "            if col != state[row]:\n",
    "                aux = list(state)\n",
    "                aux[row] = col  # Switch column to empty\n",
    "                near_states.append(list(aux))  # And include in the list of nearStates\n",
    "    return near_states"
   ]
  },
  {
   "cell_type": "code",
   "execution_count": 11,
   "metadata": {},
   "outputs": [],
   "source": [
    "def heuristic(state):\n",
    "    # define a,b,c como contadores\n",
    "    a, b, c = [Counter() for i in range(3)]\n",
    "    # count how many queens the values ​​have (a, b, c)\n",
    "    # so that you get for example how many queens has the value of a = 1\n",
    "    for row, col in enumerate(state):\n",
    "        a[col] += 1\n",
    "        b[row - col] += 1\n",
    "        c[row + col] += 1\n",
    "    h = 0  # start collisions with 0\n",
    "    # scans the counting structures (a, b, c) just increasing the collision value\n",
    "    # case for some value of (a / b / c)> 1 since cnt is done [key] -1\n",
    "    # divides to remove double counts\n",
    "    for count in [a, b, c]:\n",
    "        for key in count:\n",
    "            h += count[key] * (count[key] - 1) / 2\n",
    "    return -h"
   ]
  },
  {
   "cell_type": "code",
   "execution_count": 9,
   "metadata": {},
   "outputs": [
    {
     "name": "stdout",
     "output_type": "stream",
     "text": [
      "[2, 0, 1]\n"
     ]
    }
   ],
   "source": [
    "state=list(randrange(3) for i in range(3))\n",
    "print(state)"
   ]
  },
  {
   "cell_type": "code",
   "execution_count": 10,
   "metadata": {},
   "outputs": [
    {
     "data": {
      "text/plain": [
       "[[0, 0, 1], [1, 0, 1], [2, 1, 1], [2, 2, 1], [2, 0, 0], [2, 0, 2]]"
      ]
     },
     "execution_count": 10,
     "metadata": {},
     "output_type": "execute_result"
    }
   ],
   "source": [
    "nearStates(state)"
   ]
  },
  {
   "cell_type": "code",
   "execution_count": 14,
   "metadata": {},
   "outputs": [
    {
     "data": {
      "text/plain": [
       "-1.0"
      ]
     },
     "execution_count": 14,
     "metadata": {},
     "output_type": "execute_result"
    }
   ],
   "source": [
    "heuristic(state)"
   ]
  },
  {
   "cell_type": "markdown",
   "metadata": {},
   "source": [
    "## Hill Climbing"
   ]
  },
  {
   "cell_type": "code",
   "execution_count": 15,
   "metadata": {},
   "outputs": [],
   "source": [
    "def hill_climbing(problem):\n",
    "    # Calls neighboards with higher heuristics (because we use -h)\n",
    "    current = problem.initial()\n",
    "    while True:\n",
    "        neighbours = problem.nearStates(current)\n",
    "        if not neighbours:\n",
    "            break\n",
    "        # shuffle(neighbours)\n",
    "        neighbour = max(neighbours, key=lambda state: problem.heuristic(state))\n",
    "        if problem.heuristic(neighbour) <= problem.heuristic(current):\n",
    "            break\n",
    "        current = neighbour\n",
    "    return current\n",
    "\n",
    "\n",
    "# HC com random restart\n",
    "def random_restart(problem, limit=10):\n",
    "    state = problem.initial()\n",
    "    count = 0\n",
    "    while problem.goal_test(state) == False and count < limit:\n",
    "        state = hill_climbing(problem)\n",
    "        count += 1\n",
    "    return state"
   ]
  },
  {
   "cell_type": "code",
   "execution_count": 17,
   "metadata": {},
   "outputs": [],
   "source": [
    "class NQueensSearch():\n",
    "    # Modelo de um estado\n",
    "    #\n",
    "    # State: ([line_queens],\n",
    "    #        (a, b, c),\n",
    "    #        (h)\n",
    "    #\n",
    "    # Onde:\n",
    "    # a: guarda o valor da coluna das rainhas\n",
    "    # b: guarda l-c das rainhas\n",
    "    # c: guarda l+c das rainhas\n",
    "    # h: valor da heuristica do estado\n",
    "    # A verificacao se da para cada rainha do tabuleiro, onde e testado\n",
    "    # se existe outra rainha ja visitada com os mesmos valores de a,b,c.\n",
    "    # caso exista, nao e um estado objetivo\n",
    "\n",
    "    def __init__(self, N):\n",
    "        self.N = N\n",
    "\n",
    "    # Estado inicial:\n",
    "    #   Retorna o estado inicial a partir do size\n",
    "    def initial(self):\n",
    "        return list(randrange(self.N) for i in range(self.N))\n",
    "\n",
    "    # Teste de objetivo:\n",
    "    #\n",
    "    # Tests if any row / column / diagonal is populated by more than one queen\n",
    "    def goal_test(self, state):\n",
    "        a, b, c = (set() for i in range(3))\n",
    "        for row, col in enumerate(state):\n",
    "            if col in a or row - col in b or row + col in c:\n",
    "                return False\n",
    "            a.add(col)\n",
    "            b.add(row - col)\n",
    "            c.add(row + col)\n",
    "        return True\n",
    "\n",
    "    # Heuristica: h\n",
    "    #   Numero de pares de rainhas se atacando\n",
    "    def heuristic(self, state):\n",
    "        # define a,b,c como contadores\n",
    "        a, b, c = [Counter() for i in range(3)]\n",
    "        # contar quantas rainhas tem o os valores (a,b,c)\n",
    "        # de forma que se obtem por exemplo quantas rainhas tem o valor de a=1\n",
    "        for row, col in enumerate(state):\n",
    "            a[col] += 1\n",
    "            b[row - col] += 1\n",
    "            c[row + col] += 1\n",
    "        h = 0  # inicia as colisoes com 0\n",
    "        # varre as estruturas de contagem (a,b,c) apenas incrementando o valor das colisoes\n",
    "        # caso para algum valor de (a/b/c)>1 ja que e feito cnt[key]-1\n",
    "        # divide para retirar contagens dobradas\n",
    "        for count in [a, b, c]:\n",
    "            for key in count:\n",
    "                h += count[key] * (count[key] - 1) / 2\n",
    "        return -h\n",
    "\n",
    "    # Children ou estados vizinhos: children[]\n",
    "    #   Returns all accessible states from the current one by moving the pieces by column\n",
    "    def nearStates(self, state):\n",
    "        near_states = []\n",
    "        #\n",
    "        # For each state [column] it checks if the neighboring columns are empty\n",
    "        for row in range(self.N):\n",
    "            for col in range(self.N):\n",
    "                # If different:\n",
    "                # then the current iteration col is available to move around\n",
    "                # since state [] stores the value of the columns where the queens are\n",
    "                if col != state[row]:\n",
    "                    aux = list(state)\n",
    "                    aux[row] = col  # Switch column to empty\n",
    "                    near_states.append(list(aux))  # And include in the list of nearStates\n",
    "        return near_states"
   ]
  },
  {
   "cell_type": "code",
   "execution_count": 21,
   "metadata": {},
   "outputs": [],
   "source": [
    "queen = NQueensSearch(4)"
   ]
  },
  {
   "cell_type": "code",
   "execution_count": 22,
   "metadata": {},
   "outputs": [
    {
     "data": {
      "text/plain": [
       "[2, 3, 3, 0]"
      ]
     },
     "execution_count": 22,
     "metadata": {},
     "output_type": "execute_result"
    }
   ],
   "source": [
    "queen.initial()"
   ]
  },
  {
   "cell_type": "code",
   "execution_count": 24,
   "metadata": {},
   "outputs": [
    {
     "data": {
      "text/plain": [
       "-2.0"
      ]
     },
     "execution_count": 24,
     "metadata": {},
     "output_type": "execute_result"
    }
   ],
   "source": [
    "queen.heuristic(queen.initial())"
   ]
  },
  {
   "cell_type": "code",
   "execution_count": 26,
   "metadata": {},
   "outputs": [],
   "source": [
    "neighbours = queen.nearStates(queen.initial())"
   ]
  },
  {
   "cell_type": "code",
   "execution_count": 27,
   "metadata": {},
   "outputs": [
    {
     "data": {
      "text/plain": [
       "[[0, 3, 3, 1],\n",
       " [1, 3, 3, 1],\n",
       " [2, 3, 3, 1],\n",
       " [3, 0, 3, 1],\n",
       " [3, 1, 3, 1],\n",
       " [3, 2, 3, 1],\n",
       " [3, 3, 0, 1],\n",
       " [3, 3, 1, 1],\n",
       " [3, 3, 2, 1],\n",
       " [3, 3, 3, 0],\n",
       " [3, 3, 3, 2],\n",
       " [3, 3, 3, 3]]"
      ]
     },
     "execution_count": 27,
     "metadata": {},
     "output_type": "execute_result"
    }
   ],
   "source": [
    "neighbours"
   ]
  },
  {
   "cell_type": "code",
   "execution_count": 28,
   "metadata": {},
   "outputs": [],
   "source": [
    "neighbour = max(neighbours, key=lambda state: queen.heuristic(state))"
   ]
  },
  {
   "cell_type": "code",
   "execution_count": 29,
   "metadata": {},
   "outputs": [
    {
     "data": {
      "text/plain": [
       "[3, 0, 3, 1]"
      ]
     },
     "execution_count": 29,
     "metadata": {},
     "output_type": "execute_result"
    }
   ],
   "source": [
    "neighbour"
   ]
  },
  {
   "cell_type": "code",
   "execution_count": 23,
   "metadata": {},
   "outputs": [
    {
     "data": {
      "text/plain": [
       "[1, 3, 0, 2]"
      ]
     },
     "execution_count": 23,
     "metadata": {},
     "output_type": "execute_result"
    }
   ],
   "source": [
    "hill_climbing(queen)"
   ]
  },
  {
   "cell_type": "code",
   "execution_count": 32,
   "metadata": {},
   "outputs": [
    {
     "ename": "ValueError",
     "evalue": "min() arg is an empty sequence",
     "output_type": "error",
     "traceback": [
      "\u001b[0;31m---------------------------------------------------------------------------\u001b[0m",
      "\u001b[0;31mValueError\u001b[0m                                Traceback (most recent call last)",
      "\u001b[0;32m<ipython-input-32-3c78c26a251d>\u001b[0m in \u001b[0;36m<module>\u001b[0;34m()\u001b[0m\n\u001b[0;32m----> 1\u001b[0;31m \u001b[0mh1\u001b[0m \u001b[0;34m=\u001b[0m \u001b[0mmin\u001b[0m\u001b[0;34m(\u001b[0m\u001b[0;34m[\u001b[0m\u001b[0;34m]\u001b[0m\u001b[0;34m)\u001b[0m\u001b[0;34m**\u001b[0m\u001b[0;36m2\u001b[0m\u001b[0;34m\u001b[0m\u001b[0;34m\u001b[0m\u001b[0m\n\u001b[0m\u001b[1;32m      2\u001b[0m \u001b[0mh1\u001b[0m\u001b[0;34m\u001b[0m\u001b[0;34m\u001b[0m\u001b[0m\n",
      "\u001b[0;31mValueError\u001b[0m: min() arg is an empty sequence"
     ]
    }
   ],
   "source": [
    "h1 = min([])**2\n",
    "h1"
   ]
  },
  {
   "cell_type": "code",
   "execution_count": null,
   "metadata": {},
   "outputs": [],
   "source": []
  }
 ],
 "metadata": {
  "kernelspec": {
   "display_name": "Python 3",
   "language": "python",
   "name": "python3"
  },
  "language_info": {
   "codemirror_mode": {
    "name": "ipython",
    "version": 3
   },
   "file_extension": ".py",
   "mimetype": "text/x-python",
   "name": "python",
   "nbconvert_exporter": "python",
   "pygments_lexer": "ipython3",
   "version": "3.7.2"
  }
 },
 "nbformat": 4,
 "nbformat_minor": 2
}
