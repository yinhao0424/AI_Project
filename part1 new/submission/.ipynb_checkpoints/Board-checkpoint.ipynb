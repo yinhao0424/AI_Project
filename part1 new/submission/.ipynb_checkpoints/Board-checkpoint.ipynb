{
 "cells": [
  {
   "cell_type": "code",
   "execution_count": 139,
   "metadata": {},
   "outputs": [],
   "source": [
    "import numpy as np\n",
    "import copy"
   ]
  },
  {
   "cell_type": "code",
   "execution_count": 128,
   "metadata": {},
   "outputs": [],
   "source": [
    "class Queen():\n",
    "\n",
    "    def input_board(self, filename):\n",
    "        \"\"\"\n",
    "        input: filename\n",
    "        output: a array like matrix\n",
    "        ex:\n",
    "        array([[0., 0., 0., 0., 0.],\n",
    "           [0., 0., 0., 0., 2.],\n",
    "           [0., 0., 0., 4., 0.],\n",
    "           [0., 3., 0., 0., 0.],\n",
    "           [9., 0., 1., 0., 0.]])\n",
    "        \"\"\"\n",
    "        state = np.genfromtxt(filename, delimiter=',')\n",
    "        state[np.isnan(state)] = 0\n",
    "        return state\n",
    "    \n",
    "    def heuristic_1(self, state):\n",
    "        \"\"\"\n",
    "        H1: The lightest Queen across all pairs of Queens attacking each other.\n",
    "        ex: min(3,9, 9,1, 3,1, 4,2) = 1**1\n",
    "        input: state\n",
    "        ex: \n",
    "        array([[0., 0., 0., 0., 0.],\n",
    "           [0., 0., 0., 0., 2.],\n",
    "           [0., 0., 0., 4., 0.],\n",
    "           [0., 3., 0., 0., 0.],\n",
    "           [9., 0., 1., 0., 0.]])\n",
    "        output: H1 score\n",
    "        \"\"\"\n",
    "        board = np.nonzero(state.T)[1]\n",
    "        min_attact = []\n",
    "        for i in range(len(board)):\n",
    "            for j in range(i+1,len(board)):\n",
    "                # check same rows attack\n",
    "                if board[i] == board[j]:\n",
    "                    min_attact.append(min(state[board[i],i],state[board[j],j]))\n",
    "                # check diagonally attack\n",
    "                offset = j-i\n",
    "                if board[i] == board[j] - offset or board[i] == board[j] + offset:\n",
    "                    min_attact.append(min(state[board[i],i],state[board[j],j]))\n",
    "\n",
    "        h1 = min(min_attact)**2\n",
    "            \n",
    "        return h1\n",
    "    \n",
    "    def heuristic_2(self,state):\n",
    "        \"\"\"\n",
    "        H2: Sum across every pair of attacking Queens the weight of the lightest Queen.\n",
    "        ex: min(3,9)**2 + min(9,1)**2 + min(3,1)**2 + min(4,2)**2 = 3**2 +1**2 +1**2 +2**2  = 15\n",
    "        input: state\n",
    "        output: H2 score\n",
    "        \"\"\"\n",
    "        board = np.nonzero(state.T)[1]\n",
    "        min_attact = []\n",
    "        for i in range(len(board)):\n",
    "            for j in range(i+1,len(board)):\n",
    "                # check same rows attack\n",
    "                if board[i] == board[j]:\n",
    "                    min_attact.append(min(state[board[i],i],state[board[j],j]))\n",
    "                # check diagonally attack\n",
    "                offset = j-i\n",
    "                if board[i] == board[j] - offset or board[i] == board[j] + offset:\n",
    "                    min_attact.append(min(state[board[i],i],state[board[j],j]))\n",
    "\n",
    "        h2 = sum([i**2 for i in min_attact])        \n",
    "        return h2\n",
    "    \n",
    "    def near_state(self,state):\n",
    "        \"\"\"\n",
    "        input: state\n",
    "        output: a list of all possible neighbours\n",
    "        \"\"\"\n",
    "        board = np.nonzero(state.T)[1]\n",
    "        near_states = []\n",
    "\n",
    "        for col in range(len(board)):\n",
    "            for row in range(len(board)):\n",
    "                if row != board[col]:\n",
    "                    neighbour = copy.deepcopy(state)\n",
    "                    neighbour[row,col] = state[board[col],col]\n",
    "                    neighbour[board[col],col] = 0\n",
    "\n",
    "                    near_states.append(neighbour)\n",
    "        \n",
    "        return near_states\n",
    "    \n",
    "        "
   ]
  },
  {
   "cell_type": "code",
   "execution_count": 129,
   "metadata": {},
   "outputs": [
    {
     "name": "stdout",
     "output_type": "stream",
     "text": [
      "[[0. 0. 0. 0. 0.]\n",
      " [0. 0. 0. 0. 2.]\n",
      " [0. 0. 0. 4. 0.]\n",
      " [0. 3. 0. 0. 0.]\n",
      " [9. 0. 1. 0. 0.]]\n",
      "1.0\n",
      "15.0\n"
     ]
    }
   ],
   "source": [
    "q = Queen()\n",
    "state = q.input_board('heavy queens board.csv')\n",
    "h1 = q.heuristic_1(state)\n",
    "h2 = q.heuristic_2(state)\n",
    "print(state)\n",
    "print(h1)\n",
    "print(h2)\n"
   ]
  },
  {
   "cell_type": "code",
   "execution_count": 141,
   "metadata": {},
   "outputs": [
    {
     "data": {
      "text/plain": [
       "array([[0., 0., 0., 0., 0.],\n",
       "       [0., 0., 0., 0., 2.],\n",
       "       [0., 0., 0., 4., 0.],\n",
       "       [0., 3., 0., 0., 0.],\n",
       "       [9., 0., 1., 0., 0.]])"
      ]
     },
     "execution_count": 141,
     "metadata": {},
     "output_type": "execute_result"
    }
   ],
   "source": [
    "x = 'heavy queens board.csv'\n",
    "def input_board(x):\n",
    "    file_array = np.genfromtxt(x, delimiter=',')\n",
    "    file_array[np.isnan(file_array)] = 0\n",
    "    return file_array\n",
    "state = input_board(x)\n",
    "state"
   ]
  },
  {
   "cell_type": "code",
   "execution_count": 117,
   "metadata": {},
   "outputs": [],
   "source": [
    "## h1\n",
    "def h1(board):\n",
    "    \n",
    "    min_attact = []\n",
    "    for i in range(len(board)):\n",
    "        for j in range(i+1,len(board)):\n",
    "            # check same rows attack\n",
    "            if board[i] == board[j]:\n",
    "                min_attact.append(min(state[board[i],i],state[board[j],j]))\n",
    "            # check diagonally attack\n",
    "            offset = j-i\n",
    "            if board[i] == board[j] - offset or board[i] == board[j] + offset:\n",
    "                min_attact.append(min(state[board[i],i],state[board[j],j]))\n",
    "    \n",
    "    h = min(min_attact)**2\n",
    "    return h"
   ]
  },
  {
   "cell_type": "code",
   "execution_count": 118,
   "metadata": {},
   "outputs": [],
   "source": [
    "## h2\n",
    "def h2(board):\n",
    "    \n",
    "    min_attact = []\n",
    "    for i in range(len(board)):\n",
    "        for j in range(i+1,len(board)):\n",
    "            # check same rows attack\n",
    "            if board[i] == board[j]:\n",
    "                min_attact.append(min(state[board[i],i],state[board[j],j]))\n",
    "            # check diagonally attack\n",
    "            offset = j-i\n",
    "            if board[i] == board[j] - offset or board[i] == board[j] + offset:\n",
    "                min_attact.append(min(state[board[i],i],state[board[j],j]))\n",
    "    \n",
    "    h = sum([i**2 for i in min_attact])\n",
    "    return h"
   ]
  },
  {
   "cell_type": "code",
   "execution_count": 82,
   "metadata": {},
   "outputs": [],
   "source": [
    "row_attact=dict()\n",
    "diagonal_attact_left = dict()\n",
    "diagonal_attact_right = dict()\n",
    "for col,row in enumerate([4,3,4,2,1]):\n",
    "    row_attact.setdefault(row, []).append([row,col])\n",
    "    diagonal_attact_left.setdefault(col-row, []).append([row,col])\n",
    "    diagonal_attact_right.setdefault(row+col, []).append([row,col])\n",
    "print(row_attact)\n",
    "print(diagonal_attact_left)\n",
    "print(diagonal_attact_right)"
   ]
  },
  {
   "cell_type": "code",
   "execution_count": 142,
   "metadata": {},
   "outputs": [
    {
     "data": {
      "text/plain": [
       "array([[0., 0., 0., 0., 0.],\n",
       "       [0., 0., 0., 0., 2.],\n",
       "       [0., 0., 0., 4., 0.],\n",
       "       [0., 3., 0., 0., 0.],\n",
       "       [9., 0., 1., 0., 0.]])"
      ]
     },
     "execution_count": 142,
     "metadata": {},
     "output_type": "execute_result"
    }
   ],
   "source": [
    "state"
   ]
  },
  {
   "cell_type": "code",
   "execution_count": 143,
   "metadata": {},
   "outputs": [],
   "source": [
    "board = np.nonzero(state.T)[1]"
   ]
  },
  {
   "cell_type": "code",
   "execution_count": 151,
   "metadata": {},
   "outputs": [
    {
     "name": "stdout",
     "output_type": "stream",
     "text": [
      "[[9. 0. 0. 0. 0.]\n",
      " [0. 0. 0. 0. 2.]\n",
      " [0. 0. 0. 4. 0.]\n",
      " [0. 3. 0. 0. 0.]\n",
      " [0. 0. 1. 0. 0.]]\n",
      "20\n"
     ]
    }
   ],
   "source": [
    "near_states = []\n",
    "\n",
    "# For each state [column] it checks if the neighboring columns are empty\n",
    "for col in range(len(board)):\n",
    "    for row in range(len(board)):\n",
    "        if row != board[col]:\n",
    "            neighbour = copy.deepcopy(state)\n",
    "            neighbour[row,col] = state[board[col],col]\n",
    "            neighbour[board[col],col] = 0\n",
    "            \n",
    "            near_states.append(neighbour)\n",
    "print(near_states[0])\n",
    "print(len(near_states))"
   ]
  },
  {
   "cell_type": "code",
   "execution_count": null,
   "metadata": {},
   "outputs": [],
   "source": []
  },
  {
   "cell_type": "code",
   "execution_count": null,
   "metadata": {},
   "outputs": [],
   "source": []
  },
  {
   "cell_type": "code",
   "execution_count": null,
   "metadata": {},
   "outputs": [],
   "source": []
  },
  {
   "cell_type": "code",
   "execution_count": null,
   "metadata": {},
   "outputs": [],
   "source": []
  }
 ],
 "metadata": {
  "kernelspec": {
   "display_name": "Python 3",
   "language": "python",
   "name": "python3"
  },
  "language_info": {
   "codemirror_mode": {
    "name": "ipython",
    "version": 3
   },
   "file_extension": ".py",
   "mimetype": "text/x-python",
   "name": "python",
   "nbconvert_exporter": "python",
   "pygments_lexer": "ipython3",
   "version": "3.7.2"
  }
 },
 "nbformat": 4,
 "nbformat_minor": 2
}
