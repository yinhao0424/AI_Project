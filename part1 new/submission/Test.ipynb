{
 "cells": [
  {
   "cell_type": "code",
   "execution_count": 18,
   "metadata": {},
   "outputs": [],
   "source": [
    "import numpy as np\n",
    "# from sympy.utilities.iterables import multiset_permutations\n",
    "import random\n",
    "from itertools import count\n",
    "from queue import PriorityQueue\n",
    "\n",
    "tie = count()  # global (serves as a tie breaker for elements with same fitness in the priority Queue )\n",
    "import time"
   ]
  },
  {
   "cell_type": "code",
   "execution_count": null,
   "metadata": {},
   "outputs": [],
   "source": []
  },
  {
   "cell_type": "code",
   "execution_count": 17,
   "metadata": {},
   "outputs": [],
   "source": [
    "class Map:\n",
    "    def __init__(self, input):\n",
    "        self.given_map = []\n",
    "        self.input = input\n",
    "        self.industry = 0\n",
    "        self.residential = 0\n",
    "        self.commercial = 0\n",
    "\n",
    "    def get_map(self):\n",
    "        with open(self.input) as f:\n",
    "            # whenever \\n is encountered splitlines will break and take the encountered part aas a string\n",
    "            my_list = f.read().splitlines()\n",
    "\n",
    "        # my_list = [x.strip() for x in my_list.split(',')]\n",
    "        self.industry = int(my_list[0])\n",
    "        self.residential = int(my_list[1])\n",
    "        self.commercial = int(my_list[2])\n",
    "        for i in range(3):\n",
    "            del my_list[0]\n",
    "\n",
    "        for i in range(len(my_list)):\n",
    "            self.given_map.append(my_list[i].split(','))\n",
    "\n",
    "        for i in range(len(self.given_map)):\n",
    "            for j in range(len(self.given_map[0])):\n",
    "                if self.given_map[i][j].isdigit():\n",
    "                    self.given_map[i][j] = int(self.given_map[i][j])\n",
    "                elif self.given_map[i][j] == 'X':\n",
    "                    self.given_map[i][j] = 10\n",
    "                elif self.given_map[i][j] == 'S':\n",
    "                    self.given_map[i][j] = 11\n",
    "\n",
    "        # coverting into array\n",
    "        self.given_map = np.array(self.given_map)\n",
    "\n",
    "\n",
    "class Environment(Map):\n",
    "    def __init__(self, input):\n",
    "        Map.__init__(self, input)\n",
    "        self.get_map()\n",
    "        self.score = 0\n",
    "        self.manhattan_check_non_res = np.array([[-1, -1], [-1, 0], [-1, 1], [0, -1], [0, 1], [1, -1],\n",
    "                                                 [1, 0], [1, 1], [0, -2], [0, 2], [2, 0], [-2, 0]])\n",
    "        # self.manhattan_check_res = np.array([[-1, -1], [-1, 0], [-1, 1], [0, -1], [0, 1], [1, -1],\n",
    "        #                        [1, 0], [1, 1], [0, -2], [0, 2], [2, 0], [-2, 0]])\n",
    "        self.manhattan_check_res = np.array([[-1, -1], [-1, 0], [-1, 1], [0, -1], [0, 1], [1, -1],\n",
    "                                             [1, 0], [1, 1], [-2, -2], [-2, 0], [-2, 2], [0, -2], [0, 2], [2, -2],\n",
    "                                             [2, 0], [2, 2],\n",
    "                                             [0, -3], [0, 3], [3, 0], [-3, 0]])\n",
    "        self.i_indices = []\n",
    "        self.r_indices = []\n",
    "        self.c_indices = []\n",
    "        self.a = []\n",
    "\n",
    "    def get_score(self, my_map):\n",
    "        self.score = 0\n",
    "        x_indices = np.asarray(np.where(self.given_map == 10)).T\n",
    "        s_indices = np.asarray(np.where(self.given_map == 11)).T\n",
    "        i_indices = np.asarray(np.where(my_map == 12)).T\n",
    "        r_indices = np.asarray(np.where(my_map == 13)).T\n",
    "        c_indices = np.asarray(np.where(my_map == 14)).T\n",
    "        # print(x_indices)\n",
    "        # print(s_indices)\n",
    "        # print(i_indices)\n",
    "        # print(r_indices)\n",
    "        # print(c_indices)\n",
    "        for indices in x_indices:\n",
    "            x_neighbours = self.manhattan_check_non_res + indices\n",
    "            x_neighbours = (x_neighbours.T[:, x_neighbours.T.min(axis=0) >= 0]).T\n",
    "            for i, j in x_neighbours:\n",
    "                # print(i,j)\n",
    "                try:\n",
    "                    if my_map[i, j] == 12:\n",
    "                        # print('1')\n",
    "                        self.score -= 10\n",
    "                    if my_map[i, j] == 13 or my_map[i, j] == 14:\n",
    "                        # print('2')\n",
    "                        self.score -= 20\n",
    "                except IndexError:\n",
    "                    pass\n",
    "\n",
    "        for indices in s_indices:\n",
    "            if my_map[indices[0], indices[1]] != 12 and my_map[indices[0], indices[1]] != 13 and my_map[\n",
    "                indices[0], indices[1]] != 14:\n",
    "                s_neighbours = self.manhattan_check_non_res + indices\n",
    "                s_neighbours = (s_neighbours.T[:, s_neighbours.T.min(axis=0) >= 0]).T\n",
    "                for i, j in s_neighbours:\n",
    "                    # print(i,j)\n",
    "                    try:\n",
    "                        if my_map[i, j] == 13:\n",
    "                            # print('3')\n",
    "                            self.score += 10\n",
    "                    except IndexError:\n",
    "                        pass\n",
    "\n",
    "        for indices in i_indices:\n",
    "            self.a = indices\n",
    "            i_neighbours = self.manhattan_check_non_res + indices\n",
    "            i_neighbours = (i_neighbours.T[:, i_neighbours.T.min(axis=0) >= 0]).T\n",
    "            for i, j in i_neighbours:\n",
    "                # print(i,j)\n",
    "                try:\n",
    "                    if my_map[i, j] == 12:\n",
    "                        # print('4')\n",
    "                        self.score += 3\n",
    "                except IndexError:\n",
    "                    pass\n",
    "\n",
    "            if self.given_map[indices[0], indices[1]] != 11:\n",
    "                # print('5')\n",
    "                self.score -= self.given_map[indices[0], indices[1]]\n",
    "\n",
    "        for indices in c_indices:\n",
    "            # print(indices)\n",
    "            c_neighbours = self.manhattan_check_non_res + indices\n",
    "            c_neighbours = (c_neighbours.T[:, c_neighbours.T.min(axis=0) >= 0]).T\n",
    "            for i, j in c_neighbours:\n",
    "                # print(i,j)\n",
    "                try:\n",
    "                    if my_map[i, j] == 14:\n",
    "                        # print('6')\n",
    "                        self.score -= 5\n",
    "\n",
    "                except IndexError:\n",
    "                    pass\n",
    "\n",
    "            if self.given_map[indices[0], indices[1]] != 11:\n",
    "                # print('5')\n",
    "                self.score -= self.given_map[indices[0], indices[1]]\n",
    "\n",
    "        for indices in r_indices:\n",
    "            r_neighbours = self.manhattan_check_res + indices\n",
    "            # print(r_neighbours)\n",
    "            r_neighbours = (r_neighbours.T[:, r_neighbours.T.min(axis=0) >= 0]).T\n",
    "            for i, j in r_neighbours:\n",
    "                # print(i,j)\n",
    "                try:\n",
    "                    if my_map[i, j] == 12:\n",
    "                        # print('8')\n",
    "                        self.score -= 5\n",
    "                    if my_map[i, j] == 14:\n",
    "                        # print('9')\n",
    "                        self.score += 5\n",
    "                except IndexError:\n",
    "                    pass\n",
    "\n",
    "            if self.given_map[indices[0], indices[1]] != 11:\n",
    "                # print('5')\n",
    "                self.score -= self.given_map[indices[0], indices[1]]"
   ]
  },
  {
   "cell_type": "code",
   "execution_count": 19,
   "metadata": {},
   "outputs": [],
   "source": [
    "class Genetic_Algortithm(Environment):\n",
    "    def __init__(self, input):\n",
    "        Environment.__init__(self, input)\n",
    "        self.size = 100\n",
    "        self.my_map = []\n",
    "        self.population = []\n",
    "        self.min_sorted_population = PriorityQueue(0)\n",
    "        self.max_sorted_population = PriorityQueue(0)\n",
    "        self.elite = []\n",
    "        self.offspring = []\n",
    "        self.culled = []\n",
    "        self.culled_index = np.zeros(100)\n",
    "        self.population_proper = []\n",
    "        self.time = 0\n",
    "        self.temp_max = 0\n",
    "        self.temp_best = []\n",
    "        self.max_score = float(\"inf\")\n",
    "        self.best_map = []\n",
    "        self.scores = []\n",
    "        self.best_time = 0\n",
    "\n",
    "    def initialize_map(self):\n",
    "        self.my_map = np.zeros(self.given_map.shape).flatten()\n",
    "        self.my_map[0:self.industry] = 12\n",
    "        self.my_map[self.industry:self.residential + self.industry] = 13\n",
    "        self.my_map[self.residential + self.industry:self.residential + self.industry + self.commercial] = 14\n",
    "        random.shuffle(self.my_map)\n",
    "\n",
    "    def populate(self):\n",
    "        i = 0\n",
    "        while True:\n",
    "            self.temp_map = self.my_map.copy()\n",
    "            random.shuffle(self.temp_map)\n",
    "            a = self.temp_map.reshape(self.given_map.shape)\n",
    "            b_1 = a == 12\n",
    "            b_2 = a == 13\n",
    "            b_3 = a == 14\n",
    "            if 10 not in self.given_map[b_1] and 10 not in self.given_map[b_2] and 10 not in self.given_map[b_3]:\n",
    "                self.population.append(a)\n",
    "                i += 1\n",
    "            if i == self.size:\n",
    "                break\n",
    "\n",
    "    '''def populate(self):\n",
    "        i=0\n",
    "        for pops in multiset_permutations(self.my_map):\n",
    "            a = np.array(pops).reshape(self.given_map.shape)\n",
    "            b_1 = a==12\n",
    "            b_2 = a==13\n",
    "            b_3 = a==14\n",
    "            if 10 not in self.given_map[b_1] and 10 not in self.given_map[b_2] and 10 not in self.given_map[b_3]:\n",
    "                self.permutations.append(a)\n",
    "\n",
    "        a = random.sample(range(0,len(self.permutations)),self.size)\n",
    "        for i in a:\n",
    "            self.population.append(self.permutations[i])'''\n",
    "\n",
    "    def sort_population(self):\n",
    "        self.min_sorted_population = PriorityQueue(0)\n",
    "        self.max_sorted_population = PriorityQueue(0)\n",
    "        for my_map in self.population:\n",
    "            self.get_score(my_map)\n",
    "            self.min_sorted_population.put([self.score, next(tie), my_map])\n",
    "            self.max_sorted_population.put([-self.score, next(tie), my_map])\n",
    "\n",
    "    '''def repopulate(self):\n",
    "        self.population_proper = []\n",
    "        self.culled_index = np.zeros(self.size)\n",
    "        for i in self.culled:\n",
    "            self.culled_index = self.culled_index + np.array([int(np.array_equal(i,x)) for x in self.population])\n",
    "            print(sum(self.culled_index))\n",
    "        for i in range(len(self.culled_index)):\n",
    "            if self.culled_index[i]==0:\n",
    "                self.population_proper.append(self.population[i])'''\n",
    "\n",
    "    def repopulate(self):\n",
    "        self.population_proper = []\n",
    "        for i in range(self.size - len(self.culled)):\n",
    "            a = self.min_sorted_population.get()\n",
    "            self.population_proper.append(a[2])\n",
    "\n",
    "    def culling(self):\n",
    "        self.culled = []\n",
    "        for i in range(int(0.1 * self.size)):\n",
    "            b = self.min_sorted_population.get()\n",
    "            self.culled.append(b[2])\n",
    "\n",
    "    def elitism(self):\n",
    "        self.elite = []\n",
    "        for i in range(int(0.1 * self.size)):\n",
    "            a = self.max_sorted_population.get()\n",
    "            if i == 0:\n",
    "                self.temp_max = a[0]\n",
    "                self.temp_best = a[2].copy()\n",
    "            self.elite.append(a[2])\n",
    "\n",
    "    def crossover(self):\n",
    "        '''\n",
    "        Perform mating and produce new offspring\n",
    "        '''\n",
    "        self.offspring = []\n",
    "        numbers = 0\n",
    "        while True:\n",
    "            length = len(self.culled)\n",
    "            int1 = np.random.randint(0, self.size - length)\n",
    "            int2 = np.random.randint(0, self.size - length)\n",
    "            if int1 != int2:\n",
    "                par_1 = self.population_proper[int1]\n",
    "                par_2 = self.population_proper[int2]\n",
    "\n",
    "                # random probability\n",
    "                prob = random.random()\n",
    "\n",
    "                # if prob is less than 0.35, change industrial tiles\n",
    "                if prob < 0.35:\n",
    "                    b_1 = par_1 == 12\n",
    "                    b_2 = par_2 == 12\n",
    "                    if 13 not in par_1[b_2] and 14 not in par_2[b_1] and 13 not in par_2[b_1] and 14 not in par_1[b_2]:\n",
    "                        par_1[b_1] = 0\n",
    "                        par_2[b_2] = 0\n",
    "                        par_1[b_2] = 12\n",
    "                        par_2[b_1] = 12\n",
    "                        self.offspring.append(par_1)\n",
    "                        self.offspring.append(par_2)\n",
    "                        numbers += 2\n",
    "\n",
    "                # if prob is between 0.35 and 0.70, change residential tiles\n",
    "                elif prob >= 0.35 and prob < 0.7:\n",
    "                    b_1 = par_1 == 13\n",
    "                    b_2 = par_2 == 13\n",
    "                    if 12 not in par_1[b_2] and 14 not in par_2[b_1] and 12 not in par_2[b_1] and 14 not in par_1[b_2]:\n",
    "                        par_1[b_1] = 0\n",
    "                        par_2[b_2] = 0\n",
    "                        par_1[b_2] = 13\n",
    "                        par_2[b_1] = 13\n",
    "                        self.offspring.append(par_1)\n",
    "                        self.offspring.append(par_2)\n",
    "                        numbers += 2\n",
    "\n",
    "                elif prob >= 0.7 and prob <= 1.0:\n",
    "                    b_1 = par_1 == 14\n",
    "                    b_2 = par_2 == 14\n",
    "                    if 12 not in par_1[b_2] and 13 not in par_2[b_1] and 12 not in par_2[b_1] and 13 not in par_1[b_2]:\n",
    "                        par_1[b_1] = 0\n",
    "                        par_2[b_2] = 0\n",
    "                        par_1[b_2] = 14\n",
    "                        par_2[b_1] = 14\n",
    "                        self.offspring.append(par_1)\n",
    "                        self.offspring.append(par_2)\n",
    "                        numbers += 2\n",
    "\n",
    "            if numbers == self.size - len(self.elite):\n",
    "                break\n",
    "\n",
    "    def mutate(self):\n",
    "        s = 0\n",
    "        while s < 20:\n",
    "            i = np.random.randint(0, len(self.population_proper))\n",
    "            mutant = self.population_proper[i].copy()\n",
    "            while True:\n",
    "                i1 = np.random.randint(0, self.given_map.shape[0])\n",
    "                i2 = np.random.randint(0, self.given_map.shape[0])\n",
    "                j1 = np.random.randint(0, self.given_map.shape[1])\n",
    "                j2 = np.random.randint(0, self.given_map.shape[1])\n",
    "                if self.given_map[i1, j1] != 10 and self.given_map[i2, j2] != 10:\n",
    "                    break\n",
    "            if mutant[i1, j1] != 0 or mutant[i2, j2] != 0:\n",
    "                a = mutant[i1, j1]\n",
    "                mutant[i1, j1] = mutant[i2, j2]\n",
    "                mutant[i2, j2] = a\n",
    "                self.population_proper[i] = mutant.copy()\n",
    "                s += 1\n",
    "\n",
    "    def evolve(self):\n",
    "        self.initialize_map()\n",
    "        self.populate()\n",
    "        self.time = time.time() + 10\n",
    "        i = 1\n",
    "        while True:\n",
    "            print(\"Generation\", i + 1)\n",
    "            self.sort_population()\n",
    "            self.culling()\n",
    "            # print(len(self.culled))\n",
    "            self.elitism()\n",
    "            if self.temp_max < self.max_score:\n",
    "                self.max_score = self.temp_max\n",
    "                self.best_map = self.temp_best.copy()\n",
    "                self.best_time = 10 - (self.time - time.time())\n",
    "            self.scores.append(-self.max_score)\n",
    "            print(\"Max score of population is\", -self.max_score)\n",
    "            # print(len(self.elite))\n",
    "            self.repopulate()\n",
    "            self.mutate()\n",
    "            # print(len(self.population_proper))\n",
    "            self.crossover()\n",
    "            # print(len(self.offspring))\n",
    "            self.offspring.extend(self.elite)\n",
    "            self.population = self.offspring[:]\n",
    "            # print(len(self.population))\n",
    "            i += 1\n",
    "            if time.time() > self.time:\n",
    "                break\n"
   ]
  },
  {
   "cell_type": "code",
   "execution_count": 21,
   "metadata": {},
   "outputs": [],
   "source": [
    "ga = Genetic_Algortithm('urban 1.txt')\n",
    "ga.initialize_map()\n",
    "ga.populate()\n",
    "ga.sort_population()"
   ]
  },
  {
   "cell_type": "code",
   "execution_count": null,
   "metadata": {},
   "outputs": [],
   "source": []
  },
  {
   "cell_type": "code",
   "execution_count": null,
   "metadata": {},
   "outputs": [],
   "source": []
  },
  {
   "cell_type": "code",
   "execution_count": 22,
   "metadata": {
    "collapsed": true
   },
   "outputs": [
    {
     "name": "stdout",
     "output_type": "stream",
     "text": [
      "[array([[ 0.,  0., 13.,  0.],\n",
      "       [ 0.,  0.,  0.,  0.],\n",
      "       [ 0.,  0., 14., 12.]]), array([[ 0.,  0., 14.,  0.],\n",
      "       [ 0., 13.,  0.,  0.],\n",
      "       [12.,  0.,  0.,  0.]]), array([[ 0.,  0.,  0., 14.],\n",
      "       [ 0.,  0., 12.,  0.],\n",
      "       [13.,  0.,  0.,  0.]]), array([[ 0.,  0., 13., 14.],\n",
      "       [ 0.,  0.,  0.,  0.],\n",
      "       [ 0.,  0.,  0., 12.]]), array([[ 0.,  0.,  0.,  0.],\n",
      "       [12., 13.,  0., 14.],\n",
      "       [ 0.,  0.,  0.,  0.]]), array([[ 0.,  0.,  0., 14.],\n",
      "       [ 0.,  0., 13.,  0.],\n",
      "       [ 0.,  0.,  0., 12.]]), array([[ 0., 13.,  0., 14.],\n",
      "       [ 0.,  0.,  0.,  0.],\n",
      "       [12.,  0.,  0.,  0.]]), array([[ 0.,  0., 13., 12.],\n",
      "       [ 0.,  0.,  0.,  0.],\n",
      "       [ 0.,  0.,  0., 14.]]), array([[ 0.,  0.,  0., 12.],\n",
      "       [ 0.,  0.,  0.,  0.],\n",
      "       [ 0.,  0., 13., 14.]]), array([[ 0.,  0., 12.,  0.],\n",
      "       [14.,  0.,  0.,  0.],\n",
      "       [ 0.,  0.,  0., 13.]]), array([[ 0.,  0.,  0.,  0.],\n",
      "       [ 0., 13., 14.,  0.],\n",
      "       [ 0., 12.,  0.,  0.]]), array([[ 0., 13., 12.,  0.],\n",
      "       [14.,  0.,  0.,  0.],\n",
      "       [ 0.,  0.,  0.,  0.]]), array([[ 0.,  0.,  0.,  0.],\n",
      "       [14.,  0.,  0., 13.],\n",
      "       [ 0.,  0., 12.,  0.]]), array([[ 0.,  0., 14.,  0.],\n",
      "       [ 0.,  0.,  0., 12.],\n",
      "       [ 0., 13.,  0.,  0.]]), array([[ 0., 13.,  0.,  0.],\n",
      "       [ 0.,  0., 12.,  0.],\n",
      "       [14.,  0.,  0.,  0.]]), array([[ 0., 12.,  0.,  0.],\n",
      "       [ 0.,  0.,  0.,  0.],\n",
      "       [ 0.,  0., 13., 14.]]), array([[ 0., 14.,  0.,  0.],\n",
      "       [ 0., 12.,  0.,  0.],\n",
      "       [ 0.,  0.,  0., 13.]]), array([[ 0.,  0.,  0.,  0.],\n",
      "       [ 0., 12.,  0., 13.],\n",
      "       [ 0.,  0., 14.,  0.]]), array([[ 0., 14.,  0.,  0.],\n",
      "       [13.,  0.,  0., 12.],\n",
      "       [ 0.,  0.,  0.,  0.]]), array([[ 0., 12.,  0., 14.],\n",
      "       [ 0.,  0.,  0.,  0.],\n",
      "       [ 0.,  0., 13.,  0.]]), array([[ 0.,  0.,  0.,  0.],\n",
      "       [14., 13.,  0.,  0.],\n",
      "       [12.,  0.,  0.,  0.]]), array([[ 0.,  0.,  0.,  0.],\n",
      "       [ 0.,  0., 13., 12.],\n",
      "       [ 0.,  0., 14.,  0.]]), array([[ 0.,  0.,  0.,  0.],\n",
      "       [13.,  0., 12.,  0.],\n",
      "       [14.,  0.,  0.,  0.]]), array([[ 0.,  0.,  0., 14.],\n",
      "       [ 0.,  0.,  0., 13.],\n",
      "       [12.,  0.,  0.,  0.]]), array([[ 0.,  0.,  0.,  0.],\n",
      "       [ 0.,  0., 13., 12.],\n",
      "       [ 0.,  0., 14.,  0.]]), array([[ 0.,  0.,  0., 13.],\n",
      "       [ 0.,  0., 14.,  0.],\n",
      "       [ 0.,  0.,  0., 12.]]), array([[ 0.,  0.,  0.,  0.],\n",
      "       [ 0.,  0.,  0., 12.],\n",
      "       [ 0.,  0., 13., 14.]]), array([[ 0.,  0., 12.,  0.],\n",
      "       [ 0., 13.,  0., 14.],\n",
      "       [ 0.,  0.,  0.,  0.]]), array([[ 0., 12.,  0., 13.],\n",
      "       [ 0.,  0.,  0.,  0.],\n",
      "       [ 0.,  0.,  0., 14.]]), array([[ 0.,  0.,  0., 12.],\n",
      "       [ 0., 13., 14.,  0.],\n",
      "       [ 0.,  0.,  0.,  0.]]), array([[ 0., 12.,  0.,  0.],\n",
      "       [13.,  0., 14.,  0.],\n",
      "       [ 0.,  0.,  0.,  0.]]), array([[ 0.,  0., 12.,  0.],\n",
      "       [14.,  0.,  0.,  0.],\n",
      "       [ 0.,  0., 13.,  0.]]), array([[ 0.,  0., 12.,  0.],\n",
      "       [ 0.,  0., 13.,  0.],\n",
      "       [ 0.,  0.,  0., 14.]]), array([[ 0.,  0.,  0.,  0.],\n",
      "       [ 0., 13.,  0.,  0.],\n",
      "       [12.,  0., 14.,  0.]]), array([[ 0., 14.,  0.,  0.],\n",
      "       [ 0.,  0., 13., 12.],\n",
      "       [ 0.,  0.,  0.,  0.]]), array([[ 0.,  0.,  0.,  0.],\n",
      "       [ 0.,  0., 13., 12.],\n",
      "       [14.,  0.,  0.,  0.]]), array([[ 0.,  0.,  0.,  0.],\n",
      "       [14.,  0.,  0.,  0.],\n",
      "       [13., 12.,  0.,  0.]]), array([[ 0., 14.,  0.,  0.],\n",
      "       [12.,  0.,  0.,  0.],\n",
      "       [ 0., 13.,  0.,  0.]]), array([[ 0.,  0.,  0.,  0.],\n",
      "       [ 0., 13., 12.,  0.],\n",
      "       [ 0.,  0., 14.,  0.]]), array([[ 0.,  0.,  0.,  0.],\n",
      "       [ 0.,  0., 12.,  0.],\n",
      "       [ 0., 14.,  0., 13.]]), array([[ 0.,  0.,  0.,  0.],\n",
      "       [12., 13., 14.,  0.],\n",
      "       [ 0.,  0.,  0.,  0.]]), array([[ 0.,  0.,  0.,  0.],\n",
      "       [12.,  0.,  0.,  0.],\n",
      "       [ 0., 13., 14.,  0.]]), array([[ 0.,  0.,  0.,  0.],\n",
      "       [ 0.,  0.,  0., 13.],\n",
      "       [14., 12.,  0.,  0.]]), array([[ 0.,  0., 13.,  0.],\n",
      "       [ 0.,  0.,  0.,  0.],\n",
      "       [ 0., 14.,  0., 12.]]), array([[ 0., 13.,  0.,  0.],\n",
      "       [ 0.,  0.,  0.,  0.],\n",
      "       [ 0., 12., 14.,  0.]]), array([[ 0.,  0., 12.,  0.],\n",
      "       [ 0.,  0.,  0., 13.],\n",
      "       [14.,  0.,  0.,  0.]]), array([[ 0.,  0.,  0.,  0.],\n",
      "       [14.,  0.,  0.,  0.],\n",
      "       [ 0.,  0., 12., 13.]]), array([[ 0.,  0.,  0.,  0.],\n",
      "       [ 0., 13.,  0.,  0.],\n",
      "       [ 0.,  0., 12., 14.]]), array([[ 0.,  0., 12.,  0.],\n",
      "       [ 0.,  0.,  0.,  0.],\n",
      "       [13., 14.,  0.,  0.]]), array([[ 0.,  0.,  0., 12.],\n",
      "       [ 0., 13.,  0., 14.],\n",
      "       [ 0.,  0.,  0.,  0.]]), array([[ 0.,  0.,  0.,  0.],\n",
      "       [ 0.,  0.,  0., 14.],\n",
      "       [13.,  0.,  0., 12.]]), array([[ 0.,  0.,  0., 13.],\n",
      "       [ 0.,  0.,  0.,  0.],\n",
      "       [ 0., 14.,  0., 12.]]), array([[ 0.,  0.,  0.,  0.],\n",
      "       [12.,  0.,  0.,  0.],\n",
      "       [ 0.,  0., 13., 14.]]), array([[ 0.,  0.,  0.,  0.],\n",
      "       [13.,  0.,  0.,  0.],\n",
      "       [12.,  0.,  0., 14.]]), array([[ 0.,  0.,  0.,  0.],\n",
      "       [13.,  0.,  0.,  0.],\n",
      "       [12.,  0., 14.,  0.]]), array([[ 0.,  0., 13.,  0.],\n",
      "       [12.,  0.,  0.,  0.],\n",
      "       [14.,  0.,  0.,  0.]]), array([[ 0.,  0., 12.,  0.],\n",
      "       [ 0.,  0.,  0.,  0.],\n",
      "       [14., 13.,  0.,  0.]]), array([[ 0.,  0.,  0.,  0.],\n",
      "       [14., 13.,  0.,  0.],\n",
      "       [ 0.,  0., 12.,  0.]]), array([[ 0.,  0.,  0., 14.],\n",
      "       [12.,  0.,  0., 13.],\n",
      "       [ 0.,  0.,  0.,  0.]]), array([[ 0.,  0.,  0., 14.],\n",
      "       [ 0.,  0., 13., 12.],\n",
      "       [ 0.,  0.,  0.,  0.]]), array([[ 0.,  0., 13.,  0.],\n",
      "       [ 0.,  0.,  0.,  0.],\n",
      "       [ 0., 12., 14.,  0.]]), array([[ 0.,  0., 13., 14.],\n",
      "       [ 0.,  0.,  0.,  0.],\n",
      "       [ 0., 12.,  0.,  0.]]), array([[ 0.,  0.,  0., 14.],\n",
      "       [ 0.,  0.,  0.,  0.],\n",
      "       [ 0.,  0., 12., 13.]]), array([[ 0.,  0., 14.,  0.],\n",
      "       [ 0.,  0.,  0.,  0.],\n",
      "       [12., 13.,  0.,  0.]]), array([[ 0.,  0., 12.,  0.],\n",
      "       [13.,  0.,  0., 14.],\n",
      "       [ 0.,  0.,  0.,  0.]]), array([[ 0.,  0.,  0.,  0.],\n",
      "       [14.,  0.,  0.,  0.],\n",
      "       [ 0.,  0., 13., 12.]]), array([[ 0.,  0.,  0., 12.],\n",
      "       [13.,  0., 14.,  0.],\n",
      "       [ 0.,  0.,  0.,  0.]]), array([[ 0., 12.,  0., 13.],\n",
      "       [ 0.,  0.,  0., 14.],\n",
      "       [ 0.,  0.,  0.,  0.]]), array([[ 0., 14.,  0.,  0.],\n",
      "       [ 0.,  0.,  0.,  0.],\n",
      "       [ 0., 12., 13.,  0.]]), array([[ 0., 14.,  0.,  0.],\n",
      "       [ 0.,  0., 13., 12.],\n",
      "       [ 0.,  0.,  0.,  0.]]), array([[ 0., 14.,  0.,  0.],\n",
      "       [ 0.,  0.,  0., 13.],\n",
      "       [12.,  0.,  0.,  0.]]), array([[ 0.,  0.,  0.,  0.],\n",
      "       [ 0.,  0., 12., 14.],\n",
      "       [ 0.,  0., 13.,  0.]]), array([[ 0.,  0.,  0.,  0.],\n",
      "       [ 0.,  0.,  0., 14.],\n",
      "       [ 0., 13.,  0., 12.]]), array([[ 0.,  0.,  0.,  0.],\n",
      "       [ 0.,  0.,  0.,  0.],\n",
      "       [12., 14., 13.,  0.]]), array([[ 0.,  0., 12.,  0.],\n",
      "       [ 0.,  0., 14.,  0.],\n",
      "       [ 0.,  0.,  0., 13.]]), array([[ 0.,  0., 14.,  0.],\n",
      "       [ 0., 13.,  0.,  0.],\n",
      "       [ 0.,  0., 12.,  0.]]), array([[ 0., 14.,  0.,  0.],\n",
      "       [ 0.,  0.,  0.,  0.],\n",
      "       [ 0.,  0., 12., 13.]]), array([[ 0.,  0.,  0.,  0.],\n",
      "       [ 0., 12.,  0.,  0.],\n",
      "       [14., 13.,  0.,  0.]]), array([[ 0.,  0.,  0.,  0.],\n",
      "       [12.,  0.,  0.,  0.],\n",
      "       [ 0., 13.,  0., 14.]]), array([[ 0., 13.,  0.,  0.],\n",
      "       [ 0.,  0.,  0., 12.],\n",
      "       [ 0., 14.,  0.,  0.]]), array([[ 0.,  0.,  0.,  0.],\n",
      "       [ 0.,  0., 13.,  0.],\n",
      "       [14., 12.,  0.,  0.]]), array([[ 0., 13., 14.,  0.],\n",
      "       [ 0.,  0.,  0.,  0.],\n",
      "       [12.,  0.,  0.,  0.]]), array([[ 0.,  0., 12., 13.],\n",
      "       [ 0.,  0.,  0.,  0.],\n",
      "       [14.,  0.,  0.,  0.]]), array([[ 0., 12.,  0.,  0.],\n",
      "       [ 0.,  0., 14.,  0.],\n",
      "       [ 0.,  0.,  0., 13.]]), array([[ 0., 13., 12.,  0.],\n",
      "       [ 0.,  0.,  0., 14.],\n",
      "       [ 0.,  0.,  0.,  0.]]), array([[ 0.,  0., 12., 14.],\n",
      "       [ 0.,  0., 13.,  0.],\n",
      "       [ 0.,  0.,  0.,  0.]]), array([[ 0.,  0.,  0.,  0.],\n",
      "       [ 0.,  0., 12.,  0.],\n",
      "       [ 0., 13.,  0., 14.]]), array([[ 0.,  0.,  0.,  0.],\n",
      "       [ 0., 12.,  0.,  0.],\n",
      "       [13.,  0.,  0., 14.]]), array([[ 0.,  0.,  0.,  0.],\n",
      "       [ 0., 13.,  0., 14.],\n",
      "       [12.,  0.,  0.,  0.]]), array([[ 0., 12.,  0.,  0.],\n",
      "       [ 0.,  0.,  0.,  0.],\n",
      "       [ 0., 14., 13.,  0.]]), array([[ 0.,  0.,  0.,  0.],\n",
      "       [ 0., 12., 13., 14.],\n",
      "       [ 0.,  0.,  0.,  0.]]), array([[ 0., 13., 14.,  0.],\n",
      "       [ 0.,  0.,  0.,  0.],\n",
      "       [ 0.,  0.,  0., 12.]]), array([[ 0.,  0., 12.,  0.],\n",
      "       [ 0., 14., 13.,  0.],\n",
      "       [ 0.,  0.,  0.,  0.]]), array([[ 0., 13.,  0.,  0.],\n",
      "       [ 0., 14.,  0.,  0.],\n",
      "       [ 0.,  0., 12.,  0.]]), array([[ 0.,  0.,  0.,  0.],\n",
      "       [ 0., 13., 12.,  0.],\n",
      "       [14.,  0.,  0.,  0.]]), array([[ 0.,  0.,  0., 12.],\n",
      "       [ 0.,  0., 14.,  0.],\n",
      "       [ 0.,  0., 13.,  0.]]), array([[ 0.,  0., 13.,  0.],\n",
      "       [14.,  0.,  0.,  0.],\n",
      "       [ 0., 12.,  0.,  0.]]), array([[ 0.,  0.,  0.,  0.],\n",
      "       [ 0.,  0.,  0.,  0.],\n",
      "       [14., 12.,  0., 13.]]), array([[ 0., 13.,  0.,  0.],\n",
      "       [12.,  0.,  0.,  0.],\n",
      "       [ 0., 14.,  0.,  0.]]), array([[ 0.,  0.,  0.,  0.],\n",
      "       [ 0., 14.,  0.,  0.],\n",
      "       [ 0.,  0., 13., 12.]])]\n"
     ]
    }
   ],
   "source": [
    "print(ga.population)"
   ]
  },
  {
   "cell_type": "code",
   "execution_count": 23,
   "metadata": {},
   "outputs": [],
   "source": []
  },
  {
   "cell_type": "code",
   "execution_count": 26,
   "metadata": {},
   "outputs": [],
   "source": [
    "# ga.min_sorted_population.queue"
   ]
  },
  {
   "cell_type": "code",
   "execution_count": 43,
   "metadata": {},
   "outputs": [],
   "source": [
    "a1 = ga.population[0]\n",
    "a2 = ga.population[1]"
   ]
  },
  {
   "cell_type": "code",
   "execution_count": 46,
   "metadata": {},
   "outputs": [],
   "source": [
    "a1[0,0] = 12"
   ]
  },
  {
   "cell_type": "code",
   "execution_count": 47,
   "metadata": {},
   "outputs": [
    {
     "name": "stdout",
     "output_type": "stream",
     "text": [
      "[[12.  0. 13.  0.]\n",
      " [ 0.  0.  0.  0.]\n",
      " [12.  0. 14.  0.]]\n",
      "[[ 0.  0. 14.  0.]\n",
      " [ 0. 13.  0.  0.]\n",
      " [ 0.  0.  0. 12.]]\n"
     ]
    }
   ],
   "source": [
    "print(a1)\n",
    "print(a2)"
   ]
  },
  {
   "cell_type": "code",
   "execution_count": 48,
   "metadata": {},
   "outputs": [
    {
     "name": "stdout",
     "output_type": "stream",
     "text": [
      "[[ True False False False]\n",
      " [False False False False]\n",
      " [ True False False False]]\n",
      "[[False False False False]\n",
      " [False False False False]\n",
      " [False False False  True]]\n"
     ]
    }
   ],
   "source": [
    "b1 = a1==12\n",
    "b2 = a2 == 12\n",
    "print(b1)\n",
    "print(b2)"
   ]
  },
  {
   "cell_type": "code",
   "execution_count": 49,
   "metadata": {},
   "outputs": [],
   "source": [
    "if 13 not in a1[b2] and 14 not in a1[b2] and 13 not in a2[b1] and 14 not in a2[b1]:\n",
    "    a1[b1]=0\n",
    "    a2[b2]=0\n",
    "    a1[b2]=12\n",
    "    a2[b1]=12"
   ]
  },
  {
   "cell_type": "code",
   "execution_count": 50,
   "metadata": {},
   "outputs": [
    {
     "data": {
      "text/plain": [
       "array([[ 0.,  0., 13.,  0.],\n",
       "       [ 0.,  0.,  0.,  0.],\n",
       "       [ 0.,  0., 14., 12.]])"
      ]
     },
     "execution_count": 50,
     "metadata": {},
     "output_type": "execute_result"
    }
   ],
   "source": [
    "a1"
   ]
  },
  {
   "cell_type": "code",
   "execution_count": 51,
   "metadata": {},
   "outputs": [
    {
     "data": {
      "text/plain": [
       "array([[12.,  0., 14.,  0.],\n",
       "       [ 0., 13.,  0.,  0.],\n",
       "       [12.,  0.,  0.,  0.]])"
      ]
     },
     "execution_count": 51,
     "metadata": {},
     "output_type": "execute_result"
    }
   ],
   "source": [
    "a2"
   ]
  },
  {
   "cell_type": "code",
   "execution_count": null,
   "metadata": {},
   "outputs": [],
   "source": []
  },
  {
   "cell_type": "code",
   "execution_count": null,
   "metadata": {},
   "outputs": [],
   "source": []
  },
  {
   "cell_type": "code",
   "execution_count": null,
   "metadata": {},
   "outputs": [],
   "source": []
  },
  {
   "cell_type": "code",
   "execution_count": null,
   "metadata": {},
   "outputs": [],
   "source": []
  },
  {
   "cell_type": "code",
   "execution_count": null,
   "metadata": {},
   "outputs": [],
   "source": []
  },
  {
   "cell_type": "code",
   "execution_count": null,
   "metadata": {},
   "outputs": [],
   "source": []
  },
  {
   "cell_type": "code",
   "execution_count": 1,
   "metadata": {},
   "outputs": [],
   "source": [
    "from random import choice\n",
    "from collections import Counter\n",
    "from random import randrange"
   ]
  },
  {
   "cell_type": "code",
   "execution_count": 62,
   "metadata": {},
   "outputs": [],
   "source": [
    "import numpy as np\n",
    "#from sympy.utilities.iterables import multiset_permutations\n",
    "import random\n",
    "from itertools import count\n",
    "from queue import PriorityQueue\n",
    "tie = count() #global\n",
    "import time"
   ]
  },
  {
   "cell_type": "code",
   "execution_count": 125,
   "metadata": {},
   "outputs": [],
   "source": [
    "class Map:\n",
    "    def __init__(self, input):\n",
    "        self.given_map = []\n",
    "        self.input = input\n",
    "        self.industry = 0\n",
    "        self.residential = 0\n",
    "        self.commercial = 0\n",
    "\n",
    "    def get_map(self):\n",
    "        with open(self.input) as f:\n",
    "            # whenever \\n is encountered splitlines will break and take the encountered part aas a string\n",
    "            my_list = f.read().splitlines()\n",
    "\n",
    "        # my_list = [x.strip() for x in my_list.split(',')]\n",
    "        self.industry = int(my_list[0])\n",
    "        self.residential = int(my_list[1])\n",
    "        self.commercial = int(my_list[2])\n",
    "        for i in range(3):\n",
    "            del my_list[0]\n",
    "\n",
    "        for i in range(len(my_list)):\n",
    "            self.given_map.append(my_list[i].split(','))\n",
    "\n",
    "        for i in range(len(self.given_map)):\n",
    "            for j in range(len(self.given_map[0])):\n",
    "                if self.given_map[i][j].isdigit():\n",
    "                    self.given_map[i][j] = int(self.given_map[i][j])\n",
    "                elif self.given_map[i][j] == 'X':\n",
    "                    self.given_map[i][j] = 10\n",
    "                elif self.given_map[i][j] == 'S':\n",
    "                    self.given_map[i][j] = 11\n",
    "\n",
    "        # coverting into array\n",
    "        self.given_map = np.array(self.given_map)"
   ]
  },
  {
   "cell_type": "code",
   "execution_count": 173,
   "metadata": {},
   "outputs": [],
   "source": [
    "class Environment(Map):\n",
    "    def __init__(self, input):\n",
    "        Map.__init__(self, input)\n",
    "        self.get_map()\n",
    "        self.score = 0\n",
    "        self.manhattan_check_non_res = np.array([[-1, -1], [-1, 0], [-1, 1], [0, -1], [0, 1], [1, -1],\n",
    "                                                 [1, 0], [1, 1], [0, -2], [0, 2], [2, 0], [-2, 0]])\n",
    "        # self.manhattan_check_res = np.array([[-1, -1], [-1, 0], [-1, 1], [0, -1], [0, 1], [1, -1],\n",
    "        #                        [1, 0], [1, 1], [0, -2], [0, 2], [2, 0], [-2, 0]])\n",
    "        self.manhattan_check_res = np.array([[-1, -1], [-1, 0], [-1, 1], [0, -1], [0, 1], [1, -1],\n",
    "                                             [1, 0], [1, 1], [-2, -2], [-2, 0], [-2, 2], [0, -2], [0, 2], [2, -2],\n",
    "                                             [2, 0], [2, 2],\n",
    "                                             [0, -3], [0, 3], [3, 0], [-3, 0]])\n",
    "        self.i_indices = []\n",
    "        self.r_indices = []\n",
    "        self.c_indices = []\n",
    "        self.a = []\n",
    "        self.temp_map = []\n",
    "\n",
    "    def get_actual_positions(self, my_map):\n",
    "        self.i_indices = np.asarray(np.where(my_map == 12)).T\n",
    "        self.r_indices = np.asarray(np.where(my_map == 13)).T\n",
    "        self.c_indices = np.asarray(np.where(my_map == 14)).T\n",
    "\n",
    "    def get_score(self, my_map):\n",
    "        self.score = 0\n",
    "        x_indices = np.asarray(np.where(self.given_map == 10)).T\n",
    "        s_indices = np.asarray(np.where(self.given_map == 11)).T\n",
    "        i_indices = np.asarray(np.where(my_map == 12)).T\n",
    "        r_indices = np.asarray(np.where(my_map == 13)).T\n",
    "        c_indices = np.asarray(np.where(my_map == 14)).T\n",
    "        # print(x_indices)\n",
    "        # print(s_indices)\n",
    "        # print(i_indices)\n",
    "        # print(r_indices)\n",
    "        # print(c_indices)\n",
    "        for indices in x_indices:\n",
    "            x_neighbours = self.manhattan_check_non_res + indices\n",
    "            x_neighbours = (x_neighbours.T[:, x_neighbours.T.min(axis=0) >= 0]).T\n",
    "            for i, j in x_neighbours:\n",
    "                # print(i,j)\n",
    "                try:\n",
    "                    if my_map[i, j] == 12:\n",
    "                        # print('1')\n",
    "                        self.score -= 10\n",
    "                    if my_map[i, j] == 13 or my_map[i, j] == 14:\n",
    "                        # print('2')\n",
    "                        self.score -= 20\n",
    "                except IndexError:\n",
    "                    pass\n",
    "\n",
    "        for indices in s_indices:\n",
    "            if my_map[indices[0], indices[1]] != 12 and my_map[indices[0], indices[1]] != 13 and my_map[\n",
    "                indices[0], indices[1]] != 14:\n",
    "                s_neighbours = self.manhattan_check_non_res + indices\n",
    "                s_neighbours = (s_neighbours.T[:, s_neighbours.T.min(axis=0) >= 0]).T\n",
    "                for i, j in s_neighbours:\n",
    "                    # print(i,j)\n",
    "                    try:\n",
    "                        if my_map[i, j] == 13:\n",
    "                            # print('3')\n",
    "                            self.score += 10\n",
    "                    except IndexError:\n",
    "                        pass\n",
    "\n",
    "        for indices in i_indices:\n",
    "            self.a = indices\n",
    "            i_neighbours = self.manhattan_check_non_res + indices\n",
    "            i_neighbours = (i_neighbours.T[:, i_neighbours.T.min(axis=0) >= 0]).T\n",
    "            for i, j in i_neighbours:\n",
    "                # print(i,j)\n",
    "                try:\n",
    "                    if my_map[i, j] == 12:\n",
    "                        # print('4')\n",
    "                        self.score += 3\n",
    "                except IndexError:\n",
    "                    pass\n",
    "\n",
    "            if self.given_map[indices[0], indices[1]] != 11:\n",
    "                # print('5')\n",
    "                self.score -= self.given_map[indices[0], indices[1]]\n",
    "\n",
    "        for indices in c_indices:\n",
    "            # print(indices)\n",
    "            c_neighbours = self.manhattan_check_non_res + indices\n",
    "            c_neighbours = (c_neighbours.T[:, c_neighbours.T.min(axis=0) >= 0]).T\n",
    "            for i, j in c_neighbours:\n",
    "                # print(i,j)\n",
    "                try:\n",
    "                    if my_map[i, j] == 14:\n",
    "                        # print('6')\n",
    "                        self.score -= 5\n",
    "\n",
    "                except IndexError:\n",
    "                    pass\n",
    "\n",
    "            if self.given_map[indices[0], indices[1]] != 11:\n",
    "                # print('5')\n",
    "                self.score -= self.given_map[indices[0], indices[1]]\n",
    "\n",
    "        for indices in r_indices:\n",
    "            r_neighbours = self.manhattan_check_res + indices\n",
    "            # print(r_neighbours)\n",
    "            r_neighbours = (r_neighbours.T[:, r_neighbours.T.min(axis=0) >= 0]).T\n",
    "            for i, j in r_neighbours:\n",
    "                # print(i,j)\n",
    "                try:\n",
    "                    if my_map[i, j] == 12:\n",
    "                        # print('8')\n",
    "                        self.score -= 5\n",
    "                    if my_map[i, j] == 14:\n",
    "                        # print('9')\n",
    "                        self.score += 5\n",
    "                except IndexError:\n",
    "                    pass\n",
    "\n",
    "            if self.given_map[indices[0], indices[1]] != 11:\n",
    "                # print('5')\n",
    "                self.score -= self.given_map[indices[0], indices[1]]\n",
    "\n",
    "    def move_tile_simulate(self, indices, column, row, type):\n",
    "        a = self.my_map[row, column]\n",
    "        if self.given_map[row, column] != 10 and a != 12 and a != 13 and a != 14:\n",
    "            self.temp_map = self.my_map.copy()\n",
    "            self.temp_map[indices[0], indices[1]] = 0\n",
    "            self.temp_map[row, column] = type\n",
    "            return True\n",
    "        else:\n",
    "            return False\n",
    "\n",
    "    def move_tile_actual(self, indices, column, row, type):\n",
    "        self.my_map[indices[0], indices[1]] = 0\n",
    "        self.my_map[row, column] = type"
   ]
  },
  {
   "cell_type": "code",
   "execution_count": 185,
   "metadata": {},
   "outputs": [],
   "source": [
    "class Hill_Climbing(Environment):\n",
    "    def __init__(self, input):\n",
    "        Environment.__init__(self, input)\n",
    "        self.size = 100\n",
    "        self.my_map = []\n",
    "        self.time = 0\n",
    "        self.max_score = 0\n",
    "        self.solution = []\n",
    "        self.solution_score = 0\n",
    "        self.time = 0\n",
    "        self.time_best = 0\n",
    "\n",
    "    def initialize_map(self):\n",
    "        # get a map with random positions \n",
    "        self.my_map = np.zeros(self.given_map.shape).flatten()\n",
    "        self.my_map[0:self.industry] = 12\n",
    "        self.my_map[self.industry:self.residential + self.industry] = 13\n",
    "        self.my_map[self.residential + self.industry:self.residential + self.industry + self.commercial] = 14\n",
    "        random.shuffle(self.my_map)\n",
    "        self.my_map = self.my_map.reshape(self.given_map.shape)\n",
    "        self.get_score(self.my_map)\n",
    "        # print(self.score)\n",
    "        self.max_score = self.score\n",
    "        self.decision = []\n",
    "        self.scores = []\n",
    "\n",
    "    def Climb_hill(self):\n",
    "        rows = self.my_map.shape[0]\n",
    "        columns = self.my_map.shape[1]\n",
    "        i = 0\n",
    "        self.time = time.time() + 10\n",
    "        while True:\n",
    "\n",
    "            while True:\n",
    "                self.get_actual_positions(self.my_map)\n",
    "                self.decision = []\n",
    "                for row in range(rows):\n",
    "                    for column in range(columns):\n",
    "                        for indices in self.i_indices:\n",
    "                            if self.move_tile_simulate(indices, column, row, 12):\n",
    "                                self.get_score(self.temp_map)\n",
    "                                # print(self.score)\n",
    "\n",
    "                                if self.score > self.max_score:\n",
    "                                    self.max_score = self.score\n",
    "                                    self.decision = [indices, column, row, 12]\n",
    "\n",
    "                        for indices in self.r_indices:\n",
    "                            if self.move_tile_simulate(indices, column, row, 13):\n",
    "                                self.get_score(self.temp_map)\n",
    "                                if self.score > self.max_score:\n",
    "                                    self.max_score = self.score\n",
    "                                    self.decision = [indices, column, row, 13]\n",
    "\n",
    "                        for indices in self.c_indices:\n",
    "                            if self.move_tile_simulate(indices, column, row, 14):\n",
    "                                self.get_score(self.temp_map)\n",
    "                                if self.score > self.max_score:\n",
    "                                    self.max_score = self.score\n",
    "                                    self.decision = [indices, column, row, 14]\n",
    "                # print(self.max_score)\n",
    "                if self.decision:\n",
    "                    self.move_tile_actual(self.decision[0], self.decision[1], self.decision[2], self.decision[3])\n",
    "                    self.get_score(self.my_map)\n",
    "                    # print(self.decision)\n",
    "                    # print(self.my_map)\n",
    "                    if self.score > self.solution_score:\n",
    "                        self.solution_score = self.score\n",
    "                        self.solution = [self.score, self.my_map]\n",
    "                        self.time_best = 10 - (self.time - time.time())\n",
    "                if not self.decision:\n",
    "                    self.initialize_map()\n",
    "                    print(\"Restart\", i + 1)\n",
    "                    i += 1\n",
    "                    break\n",
    "\n",
    "            if time.time() > self.time:\n",
    "                break"
   ]
  },
  {
   "cell_type": "code",
   "execution_count": 186,
   "metadata": {},
   "outputs": [],
   "source": [
    "city = Hill_Climbing('urban 1.txt')"
   ]
  },
  {
   "cell_type": "code",
   "execution_count": 198,
   "metadata": {},
   "outputs": [],
   "source": [
    "city.initialize_map()"
   ]
  },
  {
   "cell_type": "code",
   "execution_count": 199,
   "metadata": {},
   "outputs": [
    {
     "data": {
      "text/plain": [
       "array([[ 0.,  0.,  0., 14.],\n",
       "       [ 0.,  0., 13.,  0.],\n",
       "       [ 0., 12.,  0.,  0.]])"
      ]
     },
     "execution_count": 199,
     "metadata": {},
     "output_type": "execute_result"
    }
   ],
   "source": [
    "city.my_map"
   ]
  },
  {
   "cell_type": "code",
   "execution_count": 200,
   "metadata": {},
   "outputs": [
    {
     "data": {
      "text/plain": [
       "array([[10,  1,  2,  4],\n",
       "       [ 3,  4, 11,  3],\n",
       "       [ 6,  0,  2,  3]])"
      ]
     },
     "execution_count": 200,
     "metadata": {},
     "output_type": "execute_result"
    }
   ],
   "source": [
    "city.given_map"
   ]
  },
  {
   "cell_type": "code",
   "execution_count": 201,
   "metadata": {},
   "outputs": [
    {
     "data": {
      "text/plain": [
       "-4"
      ]
     },
     "execution_count": 201,
     "metadata": {},
     "output_type": "execute_result"
    }
   ],
   "source": [
    "city.get_score(city.my_map)\n",
    "city.score"
   ]
  },
  {
   "cell_type": "code",
   "execution_count": 202,
   "metadata": {},
   "outputs": [
    {
     "name": "stdout",
     "output_type": "stream",
     "text": [
      "[[2 1]]\n",
      "[[1 2]]\n",
      "[[0 3]]\n"
     ]
    }
   ],
   "source": [
    "city.get_actual_positions(city.my_map)\n",
    "print(city.i_indices)\n",
    "print(city.r_indices)\n",
    "print(city.c_indices)"
   ]
  },
  {
   "cell_type": "code",
   "execution_count": 208,
   "metadata": {},
   "outputs": [],
   "source": [
    "# city.manhattan_check_non_res"
   ]
  },
  {
   "cell_type": "code",
   "execution_count": 204,
   "metadata": {},
   "outputs": [
    {
     "name": "stdout",
     "output_type": "stream",
     "text": [
      "[[2 1]]\n"
     ]
    }
   ],
   "source": [
    "i_indices = city.i_indices\n",
    "print(i_indices)"
   ]
  },
  {
   "cell_type": "code",
   "execution_count": 205,
   "metadata": {},
   "outputs": [
    {
     "name": "stdout",
     "output_type": "stream",
     "text": [
      "3 4\n"
     ]
    }
   ],
   "source": [
    "rows = city.my_map.shape[0]\n",
    "columns = city.my_map.shape[1]\n",
    "print(rows,columns)"
   ]
  },
  {
   "cell_type": "code",
   "execution_count": 206,
   "metadata": {},
   "outputs": [],
   "source": [
    " for row in range(rows):\n",
    "    for column in range(columns):\n",
    "        for indices in i_indices:\n",
    "            if city.move_tile_simulate(indices, column, row, 12):\n",
    "                city.get_score(city.temp_map)"
   ]
  },
  {
   "cell_type": "code",
   "execution_count": 211,
   "metadata": {},
   "outputs": [
    {
     "data": {
      "text/plain": [
       "False"
      ]
     },
     "execution_count": 211,
     "metadata": {},
     "output_type": "execute_result"
    }
   ],
   "source": [
    "city.move_tile_simulate(i_indices[0],0,0,12)"
   ]
  },
  {
   "cell_type": "code",
   "execution_count": 212,
   "metadata": {},
   "outputs": [],
   "source": [
    "city.move_tile_actual(i_indices[0],0,0,12)"
   ]
  },
  {
   "cell_type": "code",
   "execution_count": 214,
   "metadata": {},
   "outputs": [
    {
     "data": {
      "text/plain": [
       "array([[12.,  0.,  0., 14.],\n",
       "       [ 0.,  0., 13.,  0.],\n",
       "       [ 0.,  0.,  0.,  0.]])"
      ]
     },
     "execution_count": 214,
     "metadata": {},
     "output_type": "execute_result"
    }
   ],
   "source": [
    "city.my_map"
   ]
  },
  {
   "cell_type": "code",
   "execution_count": null,
   "metadata": {},
   "outputs": [],
   "source": []
  },
  {
   "cell_type": "code",
   "execution_count": 2,
   "metadata": {},
   "outputs": [],
   "source": [
    "class SearchProblem:\n",
    "    # Inicia a busca(recebe os parametros iniciais)\n",
    "    def __init__(self, initial=None):\n",
    "        pass\n",
    "\n",
    "    # Define o estado inicial\n",
    "    def initial(self):\n",
    "        pass\n",
    "\n",
    "    # Teste de objetivo\n",
    "    def goal_test(self, state):\n",
    "        pass\n",
    "\n",
    "    # Heuristica, utilizada para problemas de maximizacao ou minimizacao\n",
    "    def heuristic(self, state):\n",
    "        pass\n",
    "\n",
    "    # Retorna os estados acessiveis a partir do estado atual\n",
    "    def nearStates(self, state):\n",
    "        pass\n",
    "\n",
    "    # Retorna uma escolha aleatoria dentre os estados proximos\n",
    "    def randomNearState(self, state):\n",
    "        return choice(self.nearStates(state))"
   ]
  },
  {
   "cell_type": "code",
   "execution_count": 3,
   "metadata": {},
   "outputs": [],
   "source": [
    "class NQueensSearch(SearchProblem):\n",
    "\n",
    "    def __init__(self, N):\n",
    "        self.N = N\n",
    "\n",
    "    def initial(self):\n",
    "        return list(randrange(self.N) for i in range(self.N))\n",
    "\n",
    "    # Teste de objetivo:\n",
    "    #   Tests if any row / column / diagonal is populated by more than one queen\n",
    "    def goal_test(self, state):\n",
    "        a, b, c = (set() for i in range(3))\n",
    "        for row, col in enumerate(state):\n",
    "            if col in a or row - col in b or row + col in c:\n",
    "                return False\n",
    "            a.add(col)\n",
    "            b.add(row - col)\n",
    "            c.add(row + col)\n",
    "        return True\n",
    "\n",
    "    # Heuristica: h\n",
    "    #   Number of pairs of queens attacking each other\n",
    "    def heuristic(self, state):\n",
    "        # define a,b,c como contadores\n",
    "        a, b, c = [Counter() for i in range(3)]\n",
    "        # contar quantas rainhas tem o os valores (a,b,c)\n",
    "        # de forma que se obtem por exemplo quantas rainhas tem o valor de a=1\n",
    "        for row, col in enumerate(state):\n",
    "            a[col] += 1\n",
    "            b[row - col] += 1\n",
    "            c[row + col] += 1\n",
    "        h = 0  # start collisions with 0\n",
    "        # scans the counting structures (a, b, c) just increasing the collision value\n",
    "        # case for some value of (a / b / c)> 1 since cnt is done [key] -1\n",
    "        # divides to remove double counts\n",
    "        for count in [a, b, c]:\n",
    "            for key in count:\n",
    "                h += count[key] * (count[key] - 1) / 2\n",
    "        return -h\n",
    "\n",
    "    # Children ou estados vizinhos: children[]\n",
    "    #   Retorna todos os estados acessiveis a partir do atual movendo as pecas por coluna\n",
    "    def nearStates(self, state):\n",
    "        near_states = []\n",
    "        # Para cada state[coluna] verfica se as colunas vizinhas estao vazias\n",
    "        for row in range(self.N):\n",
    "            for col in range(self.N):\n",
    "                # Se for diferente:\n",
    "                #   entao a col atual da iteracao esta disponivel para movimentar-se\n",
    "                #   visto que o state[] guarda o valor das colunas em que estao as rainhas\n",
    "                if col != state[row]:\n",
    "                    aux = list(state)\n",
    "                    aux[row] = col  # Troca a coluna para a vazia\n",
    "                    near_states.append(list(aux))  # E inclui na lista de nearStates\n",
    "        return near_states"
   ]
  },
  {
   "cell_type": "code",
   "execution_count": 14,
   "metadata": {},
   "outputs": [
    {
     "data": {
      "text/plain": [
       "[3, 0, 0, 0]"
      ]
     },
     "execution_count": 14,
     "metadata": {},
     "output_type": "execute_result"
    }
   ],
   "source": [
    "state = list(randrange(4) for i in range(4))\n",
    "state"
   ]
  },
  {
   "cell_type": "code",
   "execution_count": 15,
   "metadata": {},
   "outputs": [],
   "source": [
    "def goal_test(state):\n",
    "    a, b, c = (set() for i in range(3))\n",
    "    print(a,b,c)\n",
    "    for row, col in enumerate(state):\n",
    "        print(row,col)\n",
    "        if col in a or row - col in b or row + col in c:\n",
    "            return False\n",
    "        a.add(col)\n",
    "        b.add(row - col)\n",
    "        c.add(row + col)\n",
    "    return True\n"
   ]
  },
  {
   "cell_type": "code",
   "execution_count": 16,
   "metadata": {},
   "outputs": [
    {
     "name": "stdout",
     "output_type": "stream",
     "text": [
      "set() set() set()\n",
      "0 3\n",
      "1 0\n",
      "2 0\n"
     ]
    },
    {
     "data": {
      "text/plain": [
       "False"
      ]
     },
     "execution_count": 16,
     "metadata": {},
     "output_type": "execute_result"
    }
   ],
   "source": [
    "goal_test(state)"
   ]
  },
  {
   "cell_type": "code",
   "execution_count": 3,
   "metadata": {},
   "outputs": [],
   "source": [
    "import random\n",
    "import queue\n",
    "import timeit"
   ]
  },
  {
   "cell_type": "code",
   "execution_count": 4,
   "metadata": {},
   "outputs": [],
   "source": [
    "\n",
    "def random_list(start, end, number):\n",
    "    start = int(start)\n",
    "    end = int(end)\n",
    "    number = int(abs(number))\n",
    "    random_list1 = []\n",
    "    for i in range(number):\n",
    "        random_list1.append(random.randint(start, end))\n",
    "    return random_list1"
   ]
  },
  {
   "cell_type": "code",
   "execution_count": 34,
   "metadata": {},
   "outputs": [],
   "source": [
    "# str_start = random_list(0,4,5)\n",
    "str_start = [4,3,4,2,1]"
   ]
  },
  {
   "cell_type": "code",
   "execution_count": 32,
   "metadata": {},
   "outputs": [],
   "source": [
    "def attack_number(str, num, attact_num=0):\n",
    "    for i in range(num):\n",
    "        for j in range(i+1,num):\n",
    "            if str[i]==str[j]:\n",
    "                attact_num=attact_num + 1\n",
    "            else:\n",
    "                if abs(i-j)==abs(str[i]-str[j]):\n",
    "                    attact_num = attact_num + 1\n",
    "    return attact_num"
   ]
  },
  {
   "cell_type": "code",
   "execution_count": 35,
   "metadata": {},
   "outputs": [
    {
     "data": {
      "text/plain": [
       "4"
      ]
     },
     "execution_count": 35,
     "metadata": {},
     "output_type": "execute_result"
    }
   ],
   "source": [
    "attack_number(str_start,5)"
   ]
  },
  {
   "cell_type": "code",
   "execution_count": 36,
   "metadata": {},
   "outputs": [],
   "source": [
    "def find_neighbour(str,num):\n",
    "    neighbour=[]\n",
    "    k = 0\n",
    "    for i in range(num):\n",
    "        for j in range(num):\n",
    "            if (j+1) != str[i]:\n",
    "                neighbour.append(list(str))\n",
    "                neighbour[k][i]=j+1\n",
    "                neighbour[k][-1]=(neighbour[k][-1] + 10 + (str[i]-j-1)*(str[i]-j-1))\n",
    "                k = k+1\n",
    "    return neighbour\n"
   ]
  },
  {
   "cell_type": "code",
   "execution_count": 50,
   "metadata": {},
   "outputs": [],
   "source": [
    "def hill_climbing(str,num):\n",
    "    frontier = queue.PriorityQueue()\n",
    "    frontier.put((0,str))\n",
    "    frontier_attack = 10000\n",
    "    current_attack = 0\n",
    "    nodes = 0\n",
    "    while True:\n",
    "        current1 = frontier.get()\n",
    "        current = current1[-1]\n",
    "        frontier.queue.clear()\n",
    "        current_attack = attack_number(current,num)\n",
    "        nodes = 20+nodes\n",
    "        if current_attack == 0:\n",
    "            result = current #111\n",
    "            break\n",
    "        if frontier_attack <= current_attack:\n",
    "            result=frontier_queen\n",
    "            break\n",
    "        frontier_queen=list(current)\n",
    "        frontier_attack = current_attack\n",
    "        neighbour = find_neighbour(current,num)\n",
    "        for next in neighbour:\n",
    "            priority = 10*attack_number(next,num)+ 100 + next[num]\n",
    "            frontier.put((priority,next))\n",
    "    return result, nodes\n",
    "\n",
    "def restart(str,num):\n",
    "    restart_number=-1\n",
    "    result = []\n",
    "    start = timeit.default_timer()\n",
    "    all_nodes=0\n",
    "    while True:\n",
    "        peak, thistime_nodes = hill_climbing(str, num)\n",
    "        all_nodes=all_nodes+thistime_nodes\n",
    "        result.append(list(peak))\n",
    "        restart_number=restart_number+1\n",
    "        end = timeit.default_timer()\n",
    "        a = attack_number(peak,num)\n",
    "        if (end-start) > 10 or a == 0:                     # change the range of time by rewriting the 10\n",
    "            break\n",
    "        str = random_list(1,num,num)\n",
    "        str.append(0)\n",
    "    during_time = end-start\n",
    "    return result,restart_number,during_time,all_nodes"
   ]
  },
  {
   "cell_type": "code",
   "execution_count": 54,
   "metadata": {},
   "outputs": [
    {
     "data": {
      "text/plain": [
       "[3, 1, 1, 2, 1, 0]"
      ]
     },
     "execution_count": 54,
     "metadata": {},
     "output_type": "execute_result"
    }
   ],
   "source": [
    "queen=random_list(1,5,5)\n",
    "queen.append(0)\n",
    "queen"
   ]
  },
  {
   "cell_type": "code",
   "execution_count": 55,
   "metadata": {},
   "outputs": [],
   "source": [
    "str = [4,3,4,2,1,0]"
   ]
  },
  {
   "cell_type": "code",
   "execution_count": 59,
   "metadata": {},
   "outputs": [
    {
     "name": "stdout",
     "output_type": "stream",
     "text": [
      "[4, 3, 5, 2, 1, 11]\n",
      "60\n"
     ]
    }
   ],
   "source": [
    "result, nodes = hill_climbing([4,3,4,2,1,0],5)\n",
    "print(result)\n",
    "print(nodes)"
   ]
  },
  {
   "cell_type": "code",
   "execution_count": 60,
   "metadata": {},
   "outputs": [],
   "source": [
    "result,restart_number,during_time,all_nodes=restart(str,5)"
   ]
  },
  {
   "cell_type": "code",
   "execution_count": 61,
   "metadata": {},
   "outputs": [
    {
     "name": "stdout",
     "output_type": "stream",
     "text": [
      "[[4, 3, 5, 2, 1, 11], [5, 4, 1, 3, 2, 11], [2, 4, 1, 3, 5, 11]]\n",
      "2\n",
      "0.004978162993211299\n",
      "160\n"
     ]
    }
   ],
   "source": [
    "print(result)\n",
    "print(restart_number)\n",
    "print(during_time)\n",
    "print(all_nodes)"
   ]
  },
  {
   "cell_type": "code",
   "execution_count": 215,
   "metadata": {},
   "outputs": [],
   "source": [
    "import random\n",
    "import copy\n",
    "import queue\n",
    "import numpy as np\n",
    "import timeit\n",
    "import tkinter as tk\n",
    "from tkinter import filedialog\n",
    "import matplotlib.pyplot as plt"
   ]
  },
  {
   "cell_type": "code",
   "execution_count": 216,
   "metadata": {},
   "outputs": [],
   "source": [
    "class Map:\n",
    "    def __init__(self,industrial, commercial, residential):\n",
    "        self.industrial = int(industrial)\n",
    "        self.commercial = int(commercial)\n",
    "        self.residential = int(residential)\n",
    "        self.siteAmount = int(industrial) + int(commercial) + int(residential)\n",
    "\n",
    "    def setToxicSite(self,cooridnates = None):\n",
    "        if cooridnates is None:\n",
    "            cooridnates =[]\n",
    "        self.toxicCoord = copy.deepcopy(cooridnates)\n",
    "\n",
    "    def setScenicView(self,sceCoord = None):\n",
    "        if sceCoord is None:\n",
    "            sceCoord = []\n",
    "        self.scenicCoord = copy.deepcopy(sceCoord)\n",
    "\n",
    "    def setCostMap(self,costMap = None):\n",
    "        if costMap is None:\n",
    "            costMap = []\n",
    "        self.costMap = copy.deepcopy(costMap)\n",
    "\n",
    "    def setParentNode(self,ParentNode):\n",
    "        self.ParentNode = ParentNode\n",
    "\n",
    "    def setScore(self,Score):\n",
    "        self.score = Score\n",
    "\n",
    "    def MapSize(self,iniMap):\n",
    "        self.row = len(iniMap)-3\n",
    "        self.column = len(iniMap[3])"
   ]
  },
  {
   "cell_type": "code",
   "execution_count": 241,
   "metadata": {},
   "outputs": [],
   "source": [
    "def ReadFromFile(filename):\n",
    "    with open(filename) as f:\n",
    "        # whenever \\n is encountered splitlines will break and take the encountered part aas a string\n",
    "        my_list = f.read().splitlines()\n",
    "\n",
    "    # x is the total content reading from file\n",
    "    x= []\n",
    "    # the site number, [0] - industrial, [1] - commercial [2] - residential\n",
    "    site_number = []\n",
    "    # scenic view coordinates\n",
    "    scenicPosition = []\n",
    "    # toxic view coordinates\n",
    "    toxicPosition = []\n",
    "\n",
    "    for line in my_list[3:]:\n",
    "        x.append(line.split(','))\n",
    "\n",
    "    for i in range(0,3):\n",
    "        temp = int(my_list[i])\n",
    "        site_number.append(temp)\n",
    "    print(x)\n",
    "    cost_map = []\n",
    "    for j in range(0,len(x)):\n",
    "        line = []\n",
    "        for m in range(len(x[j])):\n",
    "            if x[j][m] == 'X':\n",
    "                cost = 99\n",
    "                line.append(cost)\n",
    "                toxicPosition.append([j,m])\n",
    "            elif x[j][m] == 'S':\n",
    "                cost = -1\n",
    "                line.append(cost)\n",
    "                scenicPosition.append([j,m])\n",
    "            elif x[j][m] != ',':\n",
    "                cost = int(x[j][m])\n",
    "                line.append(cost)\n",
    "        cost_map.append(line)\n",
    "    print(cost_map)\n",
    "    map2 = Map(site_number[0], site_number[1], site_number[2])\n",
    "    map2.setToxicSite(toxicPosition)\n",
    "    map2.setScenicView(scenicPosition)\n",
    "    map2.setCostMap(cost_map)\n",
    "\n",
    "    return map2"
   ]
  },
  {
   "cell_type": "code",
   "execution_count": 262,
   "metadata": {},
   "outputs": [],
   "source": [
    "def iniPosition(map):\n",
    "    position = []\n",
    "    available_position = []\n",
    "    num_indus = map.industrial\n",
    "    num_comme = map.commercial\n",
    "    num_resid = map.residential\n",
    "\n",
    "    for i in range(len(map.costMap)):\n",
    "        for j in range(len(map.costMap[i])):\n",
    "            if map.costMap[i][j] == -1 or map.costMap[i][j] == 99:\n",
    "                continue\n",
    "            else:\n",
    "                available_position.append((i,j))\n",
    "    print(available_position)\n",
    "\n",
    "    # choose the positions\n",
    "    random_position = random.sample(range(0,len(available_position)),map.siteAmount)\n",
    "\n",
    "    # get the coordinate\n",
    "    for n in range(len(random_position)):\n",
    "        position.append([available_position[random_position[n]][0],available_position[random_position[n]][1],0])\n",
    "    print(position)\n",
    "    #1 for industrial, 2 for commercial, 3 for residential\n",
    "    for n in range(num_indus):\n",
    "        position[n][2] = 1\n",
    "    for n in range(num_comme):\n",
    "        position[n+num_indus][2] = 2\n",
    "    for n in range(num_resid):\n",
    "        position[n+num_indus+num_comme][2] = 3\n",
    "\n",
    "    return position"
   ]
  },
  {
   "cell_type": "code",
   "execution_count": 263,
   "metadata": {},
   "outputs": [],
   "source": [
    "def ManhattanDistance(a,b):\n",
    "#     两个坐标\n",
    "    distance = abs(a[0]-b[0]) + abs(b[1]-a[1])\n",
    "    return distance"
   ]
  },
  {
   "cell_type": "code",
   "execution_count": 264,
   "metadata": {},
   "outputs": [],
   "source": [
    "def calculateScore(map,position):\n",
    "    score = 0\n",
    "\n",
    "    #pentaly for within 2 tiles from toxic site\n",
    "\n",
    "    for ele in position:\n",
    "        for ele_1 in map.toxicCoord:\n",
    "            if ManhattanDistance(ele[:-1],ele_1) <=2:\n",
    "                if ele[2] == 1:\n",
    "                    score = score - 10\n",
    "                elif ele[2] == 2:\n",
    "                    score = score - 20\n",
    "                elif ele[2] == 3:\n",
    "                    score = score - 20\n",
    "\n",
    "    #Bonus for near Scenic Site, Residental only\n",
    "    for ele in position:\n",
    "        if ele[2] == 3:\n",
    "            for ele_1 in map.scenicCoord:\n",
    "                if ManhattanDistance(ele[:-1],ele_1) <= 2:\n",
    "                    score = score + 10\n",
    "\n",
    "    # Construction cost on different sites:\n",
    "    for ele in position:\n",
    "        cost = map.costMap[ele[0]-1][ele[1]-1]\n",
    "        score = score - cost\n",
    "\n",
    "    # I,C,R sites points calculation\n",
    "    ### First Record the index:\n",
    "    indus_index = []\n",
    "    comme_index = []\n",
    "    resid_index = []\n",
    "\n",
    "    for l in range(len(position)):\n",
    "        if position[l][2] == 1:\n",
    "            indus_index.append(l)\n",
    "        elif position[l][2] == 2:\n",
    "            comme_index.append(l)\n",
    "        elif position[l][2] == 3:\n",
    "            resid_index.append(l)\n",
    "\n",
    "    ## industrial site benefit from other industrial sites, 2 tiles 3 points bonus:\n",
    "    for in_l in range(0,len(indus_index)-1):\n",
    "        for in_1_2 in range(in_l + 1, len(indus_index)):\n",
    "            if ManhattanDistance(position[indus_index[in_l]][:-1],position[indus_index[in_1_2]][:-1]) <= 2:\n",
    "                score = score + 3\n",
    "\n",
    "    ## Commercial benefit from residential, <= 3, +5:\n",
    "    for com_l in range(len(comme_index)):\n",
    "        for res_l in range(len(resid_index)):\n",
    "            if ManhattanDistance(position[comme_index[com_l]][:-1],position[resid_index[res_l]][:-1]) <= 3:\n",
    "                score = score + 5\n",
    "\n",
    "    ## Commercial compete with each other, <=2 , -5\n",
    "    for com_l_1 in range(0,len(comme_index)-1):\n",
    "        for com_l_2 in range(com_l_1+1,len(comme_index)):\n",
    "            if ManhattanDistance(position[comme_index[com_l_1]][:-1],position[comme_index[com_l_2]][:-1]) <=2:\n",
    "                score = score - 5\n",
    "\n",
    "\n",
    "    ## Residential near industrial, penalty, <=3, -5\n",
    "    for res_l_1 in range(len(resid_index)):\n",
    "        for ind_l_1 in range(len(indus_index)):\n",
    "            if ManhattanDistance(position[resid_index[res_l_1]][:-1],position[indus_index[ind_l_1]][:-1]) <= 3:\n",
    "                score = score - 5\n",
    "\n",
    "    return score"
   ]
  },
  {
   "cell_type": "code",
   "execution_count": 265,
   "metadata": {},
   "outputs": [
    {
     "data": {
      "text/plain": [
       "-125"
      ]
     },
     "execution_count": 265,
     "metadata": {},
     "output_type": "execute_result"
    }
   ],
   "source": [
    "calculateScore(map2,position)"
   ]
  },
  {
   "cell_type": "code",
   "execution_count": 266,
   "metadata": {},
   "outputs": [
    {
     "name": "stdout",
     "output_type": "stream",
     "text": [
      "[(0, 1), (0, 2), (0, 3), (1, 0), (1, 1), (1, 3), (2, 0), (2, 1), (2, 2), (2, 3)]\n",
      "[[2, 3, 0], [0, 3, 0], [0, 1, 0]]\n"
     ]
    },
    {
     "data": {
      "text/plain": [
       "[[2, 3, 1], [0, 3, 2], [0, 1, 3]]"
      ]
     },
     "execution_count": 266,
     "metadata": {},
     "output_type": "execute_result"
    }
   ],
   "source": [
    "position = iniPosition(map2)\n",
    "position"
   ]
  },
  {
   "cell_type": "code",
   "execution_count": 247,
   "metadata": {},
   "outputs": [
    {
     "data": {
      "text/plain": [
       "[3, 9, 5]"
      ]
     },
     "execution_count": 247,
     "metadata": {},
     "output_type": "execute_result"
    }
   ],
   "source": [
    "random.sample(range(0,10),map2.siteAmount)"
   ]
  },
  {
   "cell_type": "code",
   "execution_count": 242,
   "metadata": {},
   "outputs": [
    {
     "name": "stdout",
     "output_type": "stream",
     "text": [
      "[['X', '1', '2', '4'], ['3', '4', 'S', '3'], ['6', '0', '2', '3']]\n",
      "[[99, 1, 2, 4], [3, 4, -1, 3], [6, 0, 2, 3]]\n"
     ]
    },
    {
     "data": {
      "text/plain": [
       "1"
      ]
     },
     "execution_count": 242,
     "metadata": {},
     "output_type": "execute_result"
    }
   ],
   "source": [
    "map2 = ReadFromFile('Urban 1.txt')\n",
    "map2.industrial"
   ]
  },
  {
   "cell_type": "code",
   "execution_count": 243,
   "metadata": {},
   "outputs": [
    {
     "data": {
      "text/plain": [
       "[[0, 0]]"
      ]
     },
     "execution_count": 243,
     "metadata": {},
     "output_type": "execute_result"
    }
   ],
   "source": [
    "map2.toxicCoord"
   ]
  },
  {
   "cell_type": "code",
   "execution_count": 221,
   "metadata": {},
   "outputs": [
    {
     "data": {
      "text/plain": [
       "[]"
      ]
     },
     "execution_count": 221,
     "metadata": {},
     "output_type": "execute_result"
    }
   ],
   "source": [
    "map2.costMap"
   ]
  },
  {
   "cell_type": "code",
   "execution_count": null,
   "metadata": {},
   "outputs": [],
   "source": [
    "def printMap(result,map):\n",
    "\n",
    "    row = len(map.costMap)\n",
    "    column = len(map.costMap[0])\n",
    "    ind = 0\n",
    "    com = map.industrial\n",
    "    res = map.commercial + map.industrial\n",
    "    site_number = map.commercial + map.industrial + map.residential\n",
    "\n",
    "    pb = [['O'] * column for i in range(row)]\n",
    "\n",
    "    for i in range(len(map.toxicCoord)):\n",
    "        pb[map.toxicCoord[i][0]-1][map.toxicCoord[i][1]-1] = 'X'\n",
    "\n",
    "    for j in range(len(map.scenicCoord)):\n",
    "        pb[map.scenicCoord[j][0]-1][map.scenicCoord[j][1]-1] = 'S'\n",
    "\n",
    "    for k in range(ind,com):\n",
    "        pb[result[k][0]-1][result[k][1]-1] = 'I'\n",
    "\n",
    "    for l in range(com,res):\n",
    "        pb[result[l][0] - 1][result[l][1] - 1] = 'C'\n",
    "\n",
    "    for m in range(res,site_number):\n",
    "        pb[result[m][0] - 1][result[m][1] - 1] = 'R'\n",
    "\n",
    "    for i in range(row):\n",
    "        if i != 0:\n",
    "            print(\"\")\n",
    "        for j in range(column):\n",
    "            print(str(pb[i][j]), end=\"\")\n",
    "    print(\"\")"
   ]
  },
  {
   "cell_type": "code",
   "execution_count": null,
   "metadata": {},
   "outputs": [],
   "source": []
  },
  {
   "cell_type": "code",
   "execution_count": null,
   "metadata": {},
   "outputs": [],
   "source": []
  },
  {
   "cell_type": "code",
   "execution_count": null,
   "metadata": {},
   "outputs": [],
   "source": []
  }
 ],
 "metadata": {
  "kernelspec": {
   "display_name": "Python 3",
   "language": "python",
   "name": "python3"
  },
  "language_info": {
   "codemirror_mode": {
    "name": "ipython",
    "version": 3
   },
   "file_extension": ".py",
   "mimetype": "text/x-python",
   "name": "python",
   "nbconvert_exporter": "python",
   "pygments_lexer": "ipython3",
   "version": "3.7.2"
  }
 },
 "nbformat": 4,
 "nbformat_minor": 2
}
