{
 "cells": [
  {
   "cell_type": "code",
   "execution_count": 1,
   "metadata": {},
   "outputs": [],
   "source": [
    "from up_map import Map\n",
    "import random\n",
    "import numpy as np\n",
    "import copy\n",
    "import timeit"
   ]
  },
  {
   "cell_type": "code",
   "execution_count": 10,
   "metadata": {},
   "outputs": [],
   "source": [
    "\"\"\"\n",
    "-Start with k randomly generated states (population) \n",
    "\n",
    "-Do until “done”\n",
    "    Select k2<<k most fit states to be preserved (elitism)\n",
    "    Remove k3<k weakest states from population (culling)\n",
    "    Repeat \n",
    "        Select two states semi-randomly\n",
    "            Weight towards states with better fitness\n",
    "            Think of fitness as opposite of heuristic function\n",
    "        Combine two states to generates two successors\n",
    "        Randomly change some bits in the states (mutation)\n",
    "\n",
    "    Until population is full\n",
    "\n",
    "\"\"\"\n",
    "\n",
    "class genetic(Map):\n",
    "    def __init__(self,filename):\n",
    "        \"\"\"\n",
    "        functions: get population; sort and get elitism and culling; crossover; mutation; \n",
    "        Running whole algorithm\n",
    "        \n",
    "        \"\"\"\n",
    "        Map.__init__(self,filename)\n",
    "        self.get_map()\n",
    "        \n",
    "        self.during_time = 0\n",
    "        self.time = 0 \n",
    "        self.max_score = None\n",
    "        \n",
    "        self.size = 300\n",
    "        self.elitism_size = 5\n",
    "        self.culling_size = 10\n",
    "\n",
    "        self.population = []       \n",
    "        self.sort_population = []\n",
    "        self.elitism = []\n",
    "        self.culling = []\n",
    "        self.children = []\n",
    "        \n",
    "        self.max_score = None\n",
    "        self.best_state = None\n",
    "        self.current_time = None\n",
    "        \n",
    "        self.results = []\n",
    "        self.result = None\n",
    "        \n",
    "    def initial_population(self):\n",
    "        for i in range(self.size):\n",
    "            current_map = self.initial_map()\n",
    "            self.population.append(current_map)\n",
    "            \n",
    "    def rank_population(self):\n",
    "        temp = []\n",
    "        for child in self.population:\n",
    "            score = self.score(child)\n",
    "            temp.append((score,child))\n",
    "            \n",
    "        # from small to large\n",
    "        temp.sort(key=lambda x: x[0])\n",
    "        \n",
    "        for i in temp:\n",
    "            self.sort_population.append(i[1])\n",
    "        \n",
    "       \n",
    "    def get_elitism_culling(self):\n",
    "        population = copy.deepcopy(self.sort_population)\n",
    "        for i in range(self.elitism_size):\n",
    "            self.elitism.append(population.pop())\n",
    "            \n",
    "        for i in range(self.culling_size):\n",
    "            self.culling.append(self.sort_population.pop(0))\n",
    "            \n",
    "    def check_children(self,state):\n",
    "        \"\"\"\n",
    "        input:\n",
    "        array([[ 0.,  0.,  0.,  0.],\n",
    "                [ 0., 12.,  0.,  0.],\n",
    "                [ 0., 13.,  0.,  0.]])\n",
    "        output: True/False\n",
    "        \"\"\"\n",
    "        industrial_positions = np.asarray(np.where(state == 12)).T\n",
    "        commercial_positions = np.asarray(np.where(state == 13)).T\n",
    "        residential_positions = np.asarray(np.where(state == 14)).T\n",
    "        if len(industrial_positions)<= self.industrial and len(commercial_positions)<= self.commercial and len(residential_positions)<= self.residential:\n",
    "            return True\n",
    "        else:\n",
    "            return False\n",
    "        \n",
    "            \n",
    "    def crossover(self):\n",
    "        \"\"\"\n",
    "        need: self.sort_population\n",
    "        randomly choose two parents, and generate self.chilren\n",
    "        \"\"\"\n",
    "        cutpoint = int(self.column/2)\n",
    "        while len(self.children) < self.size - self.elitism_size:\n",
    "            num1 = np.random.randint(0, len(self.sort_population))\n",
    "            num2 = np.random.randint(0, len(self.sort_population))\n",
    "            if num1 != num2:\n",
    "                parent1 = self.sort_population[num1]\n",
    "                parent2 = self.sort_population[num2]\n",
    "\n",
    "                child1 = np.concatenate((parent1[:,cutpoint:],parent2[:,:cutpoint]),axis=1)\n",
    "                child2 = np.concatenate((parent2[:,cutpoint:],parent1[:,:cutpoint]),axis=1)\n",
    "                if self.check_children(child1):\n",
    "                    self.children.append(child1)\n",
    "                    \n",
    "                if len(self.children) == self.size - self.elitism_size:\n",
    "                    break\n",
    "                    \n",
    "                if self.check_children(child2):\n",
    "                    self.children.append(child2)\n",
    "\n",
    "                if len(self.children) == self.size - self.elitism_size:\n",
    "                    break\n",
    "                    \n",
    "    def mutation(self):\n",
    "        \"\"\"\n",
    "        for n children, it has chance to mutate, return children  \n",
    "        \"\"\"\n",
    "        \n",
    "        for child in self.children:\n",
    "            \n",
    "            row1 = np.random.randint(0, self.row)\n",
    "            row2 = np.random.randint(0, self.row)\n",
    "            column1 = np.random.randint(0, self.column)\n",
    "            column2 = np.random.randint(0, self.column)\n",
    "            if self.map_board[row1,column1] != 10 or self.map_board[row1,column1] != 11 or self.map_board[row2,column2] != 10 or self.map_board[row2,column2] != 11:\n",
    "                temp = child[row1,column1]\n",
    "                child[row1,column1] = child[row2,column2]\n",
    "                child[row2,column2] =temp\n",
    "                \n",
    "    def genetic_algorithm(self):\n",
    "        \"\"\"\n",
    "        run genetic algorithm\n",
    "        end state: time over 10 seconds\n",
    "        \n",
    "        \"\"\"\n",
    "        self.initial_population()\n",
    "        start = timeit.default_timer()\n",
    "        i = 0 \n",
    "        while True:\n",
    "#             print('going through '+str(i)+' generation')\n",
    "            self.rank_population()\n",
    "            self.get_elitism_culling()\n",
    "            self.crossover()\n",
    "            \n",
    "            self.mutation()\n",
    "            self.children.extend(self.elitism)\n",
    "            \n",
    "            self.best_state = max(self.children, key=lambda child: self.score(child))\n",
    "            self.max_score= self.score(self.best_state)\n",
    "            self.current_time = timeit.default_timer() - start\n",
    "            self.results.append((self.max_score,-self.current_time,self.best_state))\n",
    "            \n",
    "            self.population = self.children\n",
    "            \n",
    "            end = timeit.default_timer()\n",
    "            i = i+1\n",
    "            if (end - start) > 9.5:\n",
    "                \n",
    "                break\n",
    "#         small to large\n",
    "        self.results.sort()\n",
    "        self.result =  self.results.pop()\n",
    "        self.during_time = end - start\n",
    "        \n",
    "            \n",
    "              "
   ]
  },
  {
   "cell_type": "code",
   "execution_count": 11,
   "metadata": {},
   "outputs": [],
   "source": [
    "ga = genetic('urban 2.txt')\n"
   ]
  },
  {
   "cell_type": "code",
   "execution_count": 12,
   "metadata": {},
   "outputs": [
    {
     "data": {
      "text/plain": [
       "(35, -1.1854097650000028, array([[ 0.,  0.,  0.,  0.,  0.],\n",
       "        [13.,  0., 14.,  0.,  0.],\n",
       "        [ 0.,  0.,  0.,  0.,  0.],\n",
       "        [ 0.,  0.,  0.,  0.,  0.],\n",
       "        [ 0.,  0.,  0.,  0., 14.],\n",
       "        [ 0.,  0.,  0.,  0.,  0.]]))"
      ]
     },
     "execution_count": 12,
     "metadata": {},
     "output_type": "execute_result"
    }
   ],
   "source": [
    "result = ga.result\n",
    "result"
   ]
  },
  {
   "cell_type": "code",
   "execution_count": 13,
   "metadata": {},
   "outputs": [
    {
     "data": {
      "text/plain": [
       "10.122309365000007"
      ]
     },
     "execution_count": 13,
     "metadata": {},
     "output_type": "execute_result"
    }
   ],
   "source": [
    "ga.during_time"
   ]
  },
  {
   "cell_type": "code",
   "execution_count": null,
   "metadata": {},
   "outputs": [],
   "source": [
    "# ga.map_board"
   ]
  },
  {
   "cell_type": "code",
   "execution_count": 13,
   "metadata": {},
   "outputs": [],
   "source": [
    "ga.map_board = ga.map_board.astype(str)"
   ]
  },
  {
   "cell_type": "code",
   "execution_count": 14,
   "metadata": {},
   "outputs": [],
   "source": [
    "for row in range(ga.map_board.shape[0]):\n",
    "    for col in range(ga.map_board.shape[1]):\n",
    "        if ga.map_board[row, col] == '10':\n",
    "            ga.map_board[row, col] = 'X'\n",
    "        elif ga.map_board[row, col] == '11':\n",
    "            ga.map_board[row, col] = 'S'\n",
    "\n",
    "for i in range(result[2].shape[0]):\n",
    "    for j in range(result[2].shape[1]):\n",
    "        if result[2][i, j] == 12:\n",
    "            ga.map_board[i, j] = 'I'\n",
    "        elif result[2][i, j] == 13:\n",
    "            ga.map_board[i, j] = \"R\"\n",
    "        elif result[2][i, j] == 14:\n",
    "            ga.map_board[i, j] = \"C\""
   ]
  },
  {
   "cell_type": "code",
   "execution_count": 20,
   "metadata": {},
   "outputs": [],
   "source": [
    "output = open(\"urban planning GA.txt\", 'w')\n",
    "print(\"The score for best map is: \",result[0], file=output)\n",
    "print(\"The time that score was first achieved:\", -result[1], file=output)\n",
    "print(\"The map of the city:\", file=output)\n",
    "print(ga.map_board, file=output)\n",
    "output.close()"
   ]
  },
  {
   "cell_type": "code",
   "execution_count": 15,
   "metadata": {},
   "outputs": [
    {
     "data": {
      "text/plain": [
       "array([['2', 'C', '3', 'X', '6'],\n",
       "       ['4', 'X', '3', '2', '3'],\n",
       "       ['3', '1', '1', 'R', 'C'],\n",
       "       ['7', '6', '5', '8', '5'],\n",
       "       ['S', '6', 'S', '9', '1'],\n",
       "       ['4', '7', '2', '6', '5']], dtype='<U21')"
      ]
     },
     "execution_count": 15,
     "metadata": {},
     "output_type": "execute_result"
    }
   ],
   "source": [
    "ga.map_board"
   ]
  },
  {
   "cell_type": "code",
   "execution_count": 19,
   "metadata": {},
   "outputs": [
    {
     "name": "stdout",
     "output_type": "stream",
     "text": [
      "The score for best map is:  28\n"
     ]
    }
   ],
   "source": [
    "print(\"The score for best map is: \",result[0])\n",
    "# print(\"The time that score was first achieved:\", -result[1])"
   ]
  },
  {
   "cell_type": "code",
   "execution_count": 22,
   "metadata": {},
   "outputs": [
    {
     "name": "stdout",
     "output_type": "stream",
     "text": [
      "The score for this map: 37\n",
      "The time that score was first achieved: 3.2121822559993234\n",
      "Final map: [[ 0. 13.  0.  0.  0.]\n",
      " [ 0.  0.  0.  0.  0.]\n",
      " [ 0.  0. 13.  0.  0.]\n",
      " [14. 14.  0.  0.  0.]\n",
      " [ 0.  0.  0.  0.  0.]\n",
      " [ 0.  0.  0.  0.  0.]]\n"
     ]
    }
   ],
   "source": [
    "print('The score for this map: '+ str(result[0]))\n",
    "print('The time that score was first achieved: '+ str(-result[1]))\n",
    "print('Final map: '+str(result[2]))"
   ]
  },
  {
   "cell_type": "code",
   "execution_count": 25,
   "metadata": {},
   "outputs": [
    {
     "data": {
      "text/plain": [
       "[(1, 1, '2'), (1, 2, '1'), (3, -2, '3'), (3, -1, '3')]"
      ]
     },
     "execution_count": 25,
     "metadata": {},
     "output_type": "execute_result"
    }
   ],
   "source": [
    "list1 = [(1,2,'1'),(1,1,'2'),(3,-1,'3'),(3,-2,'3')]\n",
    "list1.sort()\n",
    "list1"
   ]
  },
  {
   "cell_type": "code",
   "execution_count": null,
   "metadata": {},
   "outputs": [],
   "source": []
  },
  {
   "cell_type": "code",
   "execution_count": 27,
   "metadata": {},
   "outputs": [],
   "source": [
    "ga = genetic('urban 1.txt')\n"
   ]
  },
  {
   "cell_type": "code",
   "execution_count": 16,
   "metadata": {},
   "outputs": [
    {
     "data": {
      "text/plain": [
       "False"
      ]
     },
     "execution_count": 16,
     "metadata": {},
     "output_type": "execute_result"
    }
   ],
   "source": [
    "random.random()<0.2"
   ]
  },
  {
   "cell_type": "code",
   "execution_count": 18,
   "metadata": {},
   "outputs": [
    {
     "data": {
      "text/plain": [
       "0.3698863059699782"
      ]
     },
     "execution_count": 18,
     "metadata": {},
     "output_type": "execute_result"
    }
   ],
   "source": [
    "random.random()"
   ]
  },
  {
   "cell_type": "code",
   "execution_count": 16,
   "metadata": {},
   "outputs": [
    {
     "name": "stdout",
     "output_type": "stream",
     "text": [
      "[[0. 0. 0. 0.]\n",
      " [0. 0. 0. 0.]\n",
      " [0. 0. 0. 0.]]\n",
      "[[0. 0. 0. 0.]\n",
      " [0. 0. 0. 0.]\n",
      " [0. 0. 0. 0.]]\n",
      "[[ 0.  0.  0.  0.]\n",
      " [ 0.  0.  0.  0.]\n",
      " [14.  0.  0.  0.]]\n",
      "[[ 0.  0.  0.  0.]\n",
      " [ 0.  0.  0.  0.]\n",
      " [14.  0.  0.  0.]]\n",
      "[[ 0.  0.  0. 13.]\n",
      " [ 0.  0.  0.  0.]\n",
      " [ 0.  0.  0.  0.]]\n",
      "[[ 0.  0.  0. 13.]\n",
      " [ 0.  0.  0.  0.]\n",
      " [ 0.  0.  0.  0.]]\n",
      "[[0. 0. 0. 0.]\n",
      " [0. 0. 0. 0.]\n",
      " [0. 0. 0. 0.]]\n",
      "[[0. 0. 0. 0.]\n",
      " [0. 0. 0. 0.]\n",
      " [0. 0. 0. 0.]]\n",
      "[[ 0.  0.  0.  0.]\n",
      " [ 0.  0.  0.  0.]\n",
      " [ 0.  0. 14. 13.]]\n",
      "[[ 0. 13.  0.  0.]\n",
      " [ 0.  0.  0.  0.]\n",
      " [ 0.  0. 14.  0.]]\n",
      "[[ 0.  0.  0.  0.]\n",
      " [ 0.  0.  0.  0.]\n",
      " [ 0.  0. 14. 13.]]\n",
      "[[ 0.  0.  0.  0.]\n",
      " [ 0.  0.  0.  0.]\n",
      " [ 0.  0. 14. 13.]]\n",
      "[[0. 0. 0. 0.]\n",
      " [0. 0. 0. 0.]\n",
      " [0. 0. 0. 0.]]\n",
      "[[0. 0. 0. 0.]\n",
      " [0. 0. 0. 0.]\n",
      " [0. 0. 0. 0.]]\n"
     ]
    }
   ],
   "source": [
    "for child in ga.children:\n",
    "\n",
    "    row1 = np.random.randint(0, ga.row)\n",
    "    row2 = np.random.randint(0, ga.row)\n",
    "    column1 = np.random.randint(0, ga.column)\n",
    "    column2 = np.random.randint(0, ga.column)\n",
    "    if ga.map_board[row1,column1] != 10 or ga.map_board[row1,column1] != 11 or ga.map_board[row2,column2] != 10 or ga.map_board[row2,column2] != 11:\n",
    "\n",
    "        temp = child[row1,column1]\n",
    "        child[row1,column1] = child[row2,column2]\n",
    "        child[row2,column2] =temp\n"
   ]
  },
  {
   "cell_type": "code",
   "execution_count": 17,
   "metadata": {},
   "outputs": [
    {
     "data": {
      "text/plain": [
       "[array([[0., 0., 0., 0.],\n",
       "        [0., 0., 0., 0.],\n",
       "        [0., 0., 0., 0.]]), array([[ 0.,  0.,  0.,  0.],\n",
       "        [ 0.,  0.,  0.,  0.],\n",
       "        [14.,  0.,  0.,  0.]]), array([[ 0.,  0.,  0., 13.],\n",
       "        [ 0.,  0.,  0.,  0.],\n",
       "        [ 0.,  0.,  0.,  0.]]), array([[0., 0., 0., 0.],\n",
       "        [0., 0., 0., 0.],\n",
       "        [0., 0., 0., 0.]]), array([[ 0., 13.,  0.,  0.],\n",
       "        [ 0.,  0.,  0.,  0.],\n",
       "        [ 0.,  0., 14.,  0.]]), array([[ 0.,  0.,  0.,  0.],\n",
       "        [ 0.,  0.,  0.,  0.],\n",
       "        [ 0.,  0., 14., 13.]]), array([[0., 0., 0., 0.],\n",
       "        [0., 0., 0., 0.],\n",
       "        [0., 0., 0., 0.]])]"
      ]
     },
     "execution_count": 17,
     "metadata": {},
     "output_type": "execute_result"
    }
   ],
   "source": [
    "ga.children"
   ]
  },
  {
   "cell_type": "code",
   "execution_count": 13,
   "metadata": {},
   "outputs": [
    {
     "name": "stdout",
     "output_type": "stream",
     "text": [
      "0\n",
      "1\n",
      "2\n",
      "3\n",
      "4\n",
      "5\n",
      "6\n",
      "7\n",
      "8\n",
      "9\n"
     ]
    }
   ],
   "source": [
    "list1 = [1,2,3,4,5,5,6]\n",
    "for j in list1 = [1,2,3,4,5,5,6]\n",
    "for j in range(10):\n",
    "    for k in range(10):\n",
    "        \n",
    "        if i == 0:\n",
    "            break\n",
    "    print(j):\n",
    "    for k in range(10):\n",
    "        \n",
    "        if i == 0:\n",
    "            break\n",
    "    print(j)"
   ]
  },
  {
   "cell_type": "code",
   "execution_count": 87,
   "metadata": {},
   "outputs": [
    {
     "data": {
      "text/plain": [
       "[array([[ 0., 12.,  0.,  0.],\n",
       "        [13.,  0.,  0.,  0.],\n",
       "        [ 0.,  0.,  0.,  0.]]), array([[ 0.,  0.,  0., 14.],\n",
       "        [ 0.,  0.,  0.,  0.],\n",
       "        [ 0.,  0.,  0.,  0.]]), array([[ 0.,  0.,  0.,  0.],\n",
       "        [ 0., 14.,  0.,  0.],\n",
       "        [12.,  0.,  0.,  0.]]), array([[ 0.,  0.,  0.,  0.],\n",
       "        [ 0.,  0.,  0., 14.],\n",
       "        [ 0.,  0.,  0.,  0.]]), array([[0., 0., 0., 0.],\n",
       "        [0., 0., 0., 0.],\n",
       "        [0., 0., 0., 0.]]), array([[ 0.,  0.,  0.,  0.],\n",
       "        [ 0.,  0.,  0., 14.],\n",
       "        [12.,  0.,  0.,  0.]]), array([[0., 0., 0., 0.],\n",
       "        [0., 0., 0., 0.],\n",
       "        [0., 0., 0., 0.]]), array([[ 0.,  0.,  0., 12.],\n",
       "        [ 0.,  0.,  0.,  0.],\n",
       "        [14.,  0.,  0.,  0.]])]"
      ]
     },
     "execution_count": 87,
     "metadata": {},
     "output_type": "execute_result"
    }
   ],
   "source": [
    "ga.population"
   ]
  },
  {
   "cell_type": "code",
   "execution_count": 62,
   "metadata": {},
   "outputs": [
    {
     "data": {
      "text/plain": [
       "array([[ 0.,  0., 13.,  0.],\n",
       "       [ 0.,  0.,  0.,  0.],\n",
       "       [ 0.,  0.,  0.,  0.]])"
      ]
     },
     "execution_count": 62,
     "metadata": {},
     "output_type": "execute_result"
    }
   ],
   "source": [
    "a = list1[0]\n",
    "a"
   ]
  },
  {
   "cell_type": "code",
   "execution_count": 66,
   "metadata": {},
   "outputs": [
    {
     "data": {
      "text/plain": [
       "array([[ 0.,  0.,  0.,  0.],\n",
       "       [14.,  0.,  0.,  0.],\n",
       "       [ 0.,  0.,  0.,  0.]])"
      ]
     },
     "execution_count": 66,
     "metadata": {},
     "output_type": "execute_result"
    }
   ],
   "source": [
    "b = list1[2]\n",
    "b"
   ]
  },
  {
   "cell_type": "code",
   "execution_count": 64,
   "metadata": {},
   "outputs": [
    {
     "data": {
      "text/plain": [
       "2"
      ]
     },
     "execution_count": 64,
     "metadata": {},
     "output_type": "execute_result"
    }
   ],
   "source": [
    "column = int(a.shape[1]/2)\n",
    "column"
   ]
  },
  {
   "cell_type": "code",
   "execution_count": 73,
   "metadata": {},
   "outputs": [
    {
     "name": "stdout",
     "output_type": "stream",
     "text": [
      "[[ 0.  0. 13.]\n",
      " [ 0.  0.  0.]\n",
      " [ 0.  0.  0.]]\n",
      "[[0.]\n",
      " [0.]\n",
      " [0.]]\n",
      "[[0.]\n",
      " [0.]\n",
      " [0.]]\n"
     ]
    }
   ],
   "source": [
    "a1 = a[:,:3]\n",
    "b1 = b[:,:3]\n",
    "a2 = a[:,3:]\n",
    "b2 = b[:,3:]\n",
    "print(a1)\n",
    "print(a2)\n",
    "print(b2)"
   ]
  },
  {
   "cell_type": "code",
   "execution_count": 74,
   "metadata": {},
   "outputs": [
    {
     "data": {
      "text/plain": [
       "array([[ 0.,  0., 13.,  0.],\n",
       "       [ 0.,  0.,  0.,  0.],\n",
       "       [ 0.,  0.,  0.,  0.]])"
      ]
     },
     "execution_count": 74,
     "metadata": {},
     "output_type": "execute_result"
    }
   ],
   "source": [
    "np.concatenate((a1,b2),axis=1)"
   ]
  },
  {
   "cell_type": "code",
   "execution_count": 75,
   "metadata": {},
   "outputs": [
    {
     "data": {
      "text/plain": [
       "array([[ 0.,  0.,  0.,  0.],\n",
       "       [ 0., 14.,  0.,  0.],\n",
       "       [ 0.,  0.,  0.,  0.]])"
      ]
     },
     "execution_count": 75,
     "metadata": {},
     "output_type": "execute_result"
    }
   ],
   "source": [
    "np.concatenate((a2,b1),axis=1)"
   ]
  },
  {
   "cell_type": "code",
   "execution_count": null,
   "metadata": {},
   "outputs": [],
   "source": []
  },
  {
   "cell_type": "code",
   "execution_count": null,
   "metadata": {},
   "outputs": [],
   "source": []
  },
  {
   "cell_type": "code",
   "execution_count": null,
   "metadata": {},
   "outputs": [],
   "source": []
  },
  {
   "cell_type": "code",
   "execution_count": null,
   "metadata": {},
   "outputs": [],
   "source": []
  },
  {
   "cell_type": "code",
   "execution_count": 21,
   "metadata": {},
   "outputs": [
    {
     "name": "stdout",
     "output_type": "stream",
     "text": [
      "[[ 0.  0. 12.  0.]\n",
      " [13.  0.  0.  0.]\n",
      " [ 0.  0.  0.  0.]]\n",
      "[[10  1  2  4]\n",
      " [ 3  4 11  3]\n",
      " [ 6  0  2  3]]\n"
     ]
    }
   ],
   "source": [
    "map = Map('urban 1.txt')\n",
    "map.get_map()\n",
    "\n",
    "board = map.map_board\n",
    "\n",
    "\n",
    "print(board)"
   ]
  },
  {
   "cell_type": "code",
   "execution_count": 33,
   "metadata": {},
   "outputs": [
    {
     "name": "stdout",
     "output_type": "stream",
     "text": [
      "[[ 0.  0.  0.  0.]\n",
      " [ 0. 14.  0.  0.]\n",
      " [ 0.  0.  0.  0.]]\n"
     ]
    }
   ],
   "source": [
    "initial = map.initial_map()\n",
    "print(initial)"
   ]
  },
  {
   "cell_type": "code",
   "execution_count": 13,
   "metadata": {},
   "outputs": [],
   "source": [
    "size = 2\n",
    "def populate(my_map,board):\n",
    "    population = []\n",
    "    i = 0\n",
    "    while True:\n",
    "        temp_map = my_map.copy()\n",
    "        random.shuffle(temp_map)\n",
    "        a = temp_map.reshape(board.shape)\n",
    "        b_1 = a == 12\n",
    "        b_2 = a == 13\n",
    "        b_3 = a == 14\n",
    "        if 10 not in board[b_1] and 10 not in board[b_2] and 10 not in board[b_3]:\n",
    "            population.append(a)\n",
    "            i += 1\n",
    "        if i == size:\n",
    "            break\n",
    "    return population"
   ]
  },
  {
   "cell_type": "code",
   "execution_count": 19,
   "metadata": {},
   "outputs": [
    {
     "data": {
      "text/plain": [
       "[array([[0., 0., 0., 0.],\n",
       "        [0., 0., 0., 0.],\n",
       "        [0., 0., 0., 0.]]), array([[0., 0., 0., 0.],\n",
       "        [0., 0., 0., 0.],\n",
       "        [0., 0., 0., 0.]])]"
      ]
     },
     "execution_count": 19,
     "metadata": {},
     "output_type": "execute_result"
    }
   ],
   "source": [
    "populate(initial,board)"
   ]
  },
  {
   "cell_type": "code",
   "execution_count": 23,
   "metadata": {},
   "outputs": [
    {
     "data": {
      "text/plain": [
       "array([[ 0.,  0., 12.,  0.],\n",
       "       [ 0.,  0., 12.,  0.],\n",
       "       [ 0.,  0., 12.,  0.]])"
      ]
     },
     "execution_count": 23,
     "metadata": {},
     "output_type": "execute_result"
    }
   ],
   "source": [
    "random.shuffle(initial)\n",
    "a = initial.reshape((3,4))\n",
    "a"
   ]
  },
  {
   "cell_type": "code",
   "execution_count": 24,
   "metadata": {},
   "outputs": [],
   "source": [
    "b_1 = a == 12"
   ]
  },
  {
   "cell_type": "code",
   "execution_count": 25,
   "metadata": {},
   "outputs": [
    {
     "data": {
      "text/plain": [
       "array([[False, False,  True, False],\n",
       "       [False, False,  True, False],\n",
       "       [False, False,  True, False]])"
      ]
     },
     "execution_count": 25,
     "metadata": {},
     "output_type": "execute_result"
    }
   ],
   "source": [
    "b_1"
   ]
  },
  {
   "cell_type": "code",
   "execution_count": 26,
   "metadata": {},
   "outputs": [
    {
     "data": {
      "text/plain": [
       "array([ 2, 11,  2])"
      ]
     },
     "execution_count": 26,
     "metadata": {},
     "output_type": "execute_result"
    }
   ],
   "source": [
    "board[b_1]"
   ]
  },
  {
   "cell_type": "code",
   "execution_count": 28,
   "metadata": {},
   "outputs": [
    {
     "data": {
      "text/plain": [
       "array([[False, False, False, False],\n",
       "       [False, False, False, False],\n",
       "       [False, False, False, False]])"
      ]
     },
     "execution_count": 28,
     "metadata": {},
     "output_type": "execute_result"
    }
   ],
   "source": [
    "b_2 = a == 13\n",
    "b_2"
   ]
  },
  {
   "cell_type": "code",
   "execution_count": 29,
   "metadata": {},
   "outputs": [
    {
     "data": {
      "text/plain": [
       "array([], dtype=int64)"
      ]
     },
     "execution_count": 29,
     "metadata": {},
     "output_type": "execute_result"
    }
   ],
   "source": [
    "board[b_2]"
   ]
  },
  {
   "cell_type": "code",
   "execution_count": null,
   "metadata": {},
   "outputs": [],
   "source": []
  }
 ],
 "metadata": {
  "kernelspec": {
   "display_name": "Python 3",
   "language": "python",
   "name": "python3"
  },
  "language_info": {
   "codemirror_mode": {
    "name": "ipython",
    "version": 3
   },
   "file_extension": ".py",
   "mimetype": "text/x-python",
   "name": "python",
   "nbconvert_exporter": "python",
   "pygments_lexer": "ipython3",
   "version": "3.7.2"
  }
 },
 "nbformat": 4,
 "nbformat_minor": 2
}
