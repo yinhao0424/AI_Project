{
 "cells": [
  {
   "cell_type": "code",
   "execution_count": 1,
   "metadata": {},
   "outputs": [],
   "source": [
    "from up_map import Map\n"
   ]
  },
  {
   "cell_type": "code",
   "execution_count": 2,
   "metadata": {},
   "outputs": [],
   "source": [
    "import math\n",
    "import numpy as np\n",
    "import random\n",
    "import timeit"
   ]
  },
  {
   "cell_type": "code",
   "execution_count": 3,
   "metadata": {},
   "outputs": [],
   "source": [
    "class hill_climbing(Map):\n",
    "    \"\"\"\n",
    "    input: Map class\n",
    "    output:\n",
    "    \"\"\"\n",
    "    def __init__(self,filename):\n",
    "        Map.__init__(self,filename)\n",
    "\n",
    "        self.get_map()\n",
    "        self.current = self.initial_map()\n",
    "        self.current_score = self.score(self.current)\n",
    "        self.max_score = self.score(self.current) \n",
    "        \n",
    "        self.restart = 0\n",
    "        \n",
    "        self.neighbour = None\n",
    "        self.during_time =None\n",
    "        \n",
    "        self.T = 2\n",
    "        \n",
    "    def move_zone(self, position, row, column, type):\n",
    "        value_original = self.map_board[row,column]\n",
    "        value = self.current[row,column]\n",
    "        if value_original != 10 and value != 12 and value != 13 and value != 14:\n",
    "            self.neighbour = self.current.copy()\n",
    "            self.neighbour[position[0],position[1]] = 0\n",
    "            self.neighbour[row,column] = type\n",
    "            return True\n",
    "        else:\n",
    "            return False\n",
    "        \n",
    "    def add_zone(self,row,column,type):\n",
    "        value_original = self.map_board[row,column]\n",
    "        value = self.current[row,column]\n",
    "        if value_original != 10 and value != 12 and value != 13 and value != 14:\n",
    "            self.neighbour = self.current.copy()\n",
    "            self.neighbour[row,column] = type\n",
    "            return True\n",
    "        else:\n",
    "            return False\n",
    "            \n",
    "    def remove_zone(self,position):\n",
    "        \n",
    "        self.neighbour = self.current.copy()\n",
    "        self.neighbour[position[0],position[1]] = 0\n",
    "\n",
    "        \n",
    "    def climb(self):\n",
    "        x_position = np.asarray(np.where(self.map_board == 10)).T\n",
    "        s_position = np.asarray(np.where(self.map_board == 11)).T\n",
    "        \n",
    "        start = timeit.default_timer()\n",
    "        while self.T > 1:\n",
    "            neighbours = []\n",
    "            i_position = np.asarray(np.where(self.current == 12)).T\n",
    "            c_position = np.asarray(np.where(self.current == 13)).T\n",
    "            r_position = np.asarray(np.where(self.current == 14)).T\n",
    "            for row in range(self.row):\n",
    "                for column in range(self.column):\n",
    "    #                 industry\n",
    "                    if len(i_position)>0:\n",
    "                        for i in i_position:\n",
    "                            if self.move_zone(i,row,column,12):                     \n",
    "                                neighbours.append(self.neighbour)\n",
    "\n",
    "                    if len(i_position) < self.industrial and self.add_zone(row,column,12):\n",
    "                        self.add_zone(row,column,12)                    \n",
    "                        neighbours.append(self.neighbour)\n",
    "\n",
    "    #                 commercial \n",
    "                    if len(c_position)>0:\n",
    "                        for i in c_position:\n",
    "                            if self.move_zone(i,row,column,13):                    \n",
    "                                neighbours.append(self.neighbour)\n",
    "\n",
    "\n",
    "                    if len(c_position) < self.commercial and self.add_zone(row,column,13):\n",
    "                        self.add_zone(row,column,13)\n",
    "                        neighbours.append(self.neighbour)\n",
    "\n",
    "    #                     residential\n",
    "                    for i in r_position:\n",
    "                        if self.move_zone(i,row,column,14):\n",
    "                            neighbours.append(self.neighbour)\n",
    "\n",
    "                    if len(r_position) < self.residential and self.add_zone(row,column,14):\n",
    "                        self.add_zone(row,column,14)                 \n",
    "                        neighbours.append(self.neighbour)\n",
    "                        \n",
    "            for i in i_position:\n",
    "                self.remove_zone(i)                      \n",
    "                neighbours.append(self.neighbour)\n",
    "            for i in c_position:\n",
    "                self.remove_zone(i)                      \n",
    "                neighbours.append(self.neighbour)\n",
    "            for i in r_position:\n",
    "                self.remove_zone(i)                      \n",
    "                neighbours.append(self.neighbour)\n",
    "                \n",
    "            if neighbours:                      \n",
    "                neighbour = max(neighbours, key=lambda state: self.score(state))\n",
    "#                 print(neighbour)\n",
    "\n",
    "                if self.score(neighbour) > self.current_score:\n",
    "                    self.current = neighbour\n",
    "                    self.current_score = self.score(neighbour)\n",
    "                else:\n",
    "                    neighbour= random.choice(neighbours)\n",
    "                    if math.exp((self.score(neighbour) - self.current_score)/self.T)>random.uniform(0.0, 1.0):\n",
    "                        self.current = neighbour\n",
    "                        self.current_score = self.score(neighbour)\n",
    "                        self.T = self.T * 10/11\n",
    "#                         T = T* k/(k+1)\n",
    "            if not neighbours:\n",
    "                self.current = self.initial_map()\n",
    "                self.restart += 1\n",
    "                break\n",
    "                \n",
    "            end = timeit.default_timer()\n",
    "            if (end - start) > 10:\n",
    "                break\n",
    "    \n",
    "            \n",
    "#             print(self.current)\n",
    "#             print(self.current_score)\n",
    "        self.during_time = end - start   \n",
    "           "
   ]
  },
  {
   "cell_type": "code",
   "execution_count": 4,
   "metadata": {},
   "outputs": [
    {
     "data": {
      "text/plain": [
       "(11, 0.9330147604194668, array([[ 0.,  0.,  0.,  0.],\n",
       "        [ 0.,  0.,  0.,  0.],\n",
       "        [ 0., 13.,  0., 14.]]), 0.15325556899915682, 0)"
      ]
     },
     "execution_count": 4,
     "metadata": {},
     "output_type": "execute_result"
    }
   ],
   "source": [
    "hc = hill_climbing('urban 1.txt')\n",
    "hc.climb()"
   ]
  },
  {
   "cell_type": "code",
   "execution_count": 5,
   "metadata": {},
   "outputs": [
    {
     "data": {
      "text/plain": [
       "array([[10,  1,  2,  4],\n",
       "       [ 3,  4, 11,  3],\n",
       "       [ 6,  0,  2,  3]])"
      ]
     },
     "execution_count": 5,
     "metadata": {},
     "output_type": "execute_result"
    }
   ],
   "source": [
    "hc.map_board"
   ]
  },
  {
   "cell_type": "code",
   "execution_count": null,
   "metadata": {},
   "outputs": [],
   "source": [
    "\"\"\"\n",
    "The score for this map\n",
    "At what time that score was first achieved.\n",
    "The map, with the various industrial, commercial, and residential sites marked.\n",
    "\"\"\""
   ]
  },
  {
   "cell_type": "code",
   "execution_count": null,
   "metadata": {},
   "outputs": [],
   "source": []
  },
  {
   "cell_type": "code",
   "execution_count": 172,
   "metadata": {},
   "outputs": [
    {
     "data": {
      "text/plain": [
       "[array([[ 0., 12.,  0.,  0.],\n",
       "        [ 0.,  0.,  0.,  0.],\n",
       "        [14.,  0.,  0.,  0.]]), array([[ 0.,  0., 12.,  0.],\n",
       "        [ 0.,  0.,  0.,  0.],\n",
       "        [14.,  0.,  0.,  0.]]), array([[ 0.,  0.,  0., 12.],\n",
       "        [ 0.,  0.,  0.,  0.],\n",
       "        [14.,  0.,  0.,  0.]]), array([[ 0.,  0.,  0.,  0.],\n",
       "        [12.,  0.,  0.,  0.],\n",
       "        [14.,  0.,  0.,  0.]]), array([[ 0.,  0.,  0.,  0.],\n",
       "        [ 0., 12.,  0.,  0.],\n",
       "        [14.,  0.,  0.,  0.]]), array([[ 0.,  0.,  0.,  0.],\n",
       "        [ 0.,  0., 12.,  0.],\n",
       "        [14.,  0.,  0.,  0.]]), array([[ 0.,  0.,  0.,  0.],\n",
       "        [ 0.,  0.,  0., 12.],\n",
       "        [14.,  0.,  0.,  0.]]), array([[ 0.,  0.,  0.,  0.],\n",
       "        [ 0.,  0.,  0.,  0.],\n",
       "        [14., 12.,  0.,  0.]]), array([[ 0.,  0.,  0.,  0.],\n",
       "        [ 0.,  0.,  0.,  0.],\n",
       "        [14.,  0., 12.,  0.]]), array([[ 0.,  0.,  0.,  0.],\n",
       "        [ 0.,  0.,  0.,  0.],\n",
       "        [14.,  0.,  0.,  0.]])]"
      ]
     },
     "execution_count": 172,
     "metadata": {},
     "output_type": "execute_result"
    }
   ],
   "source": [
    "neighbours"
   ]
  },
  {
   "cell_type": "code",
   "execution_count": 214,
   "metadata": {},
   "outputs": [],
   "source": [
    "150\n",
    "0.9575681974766543\n",
    "array([[ 0., 14., 14., 13.],\n",
    "        [13., 13.,  0., 14.],\n",
    "        [ 0., 13., 14., 14.]])"
   ]
  },
  {
   "cell_type": "code",
   "execution_count": 205,
   "metadata": {},
   "outputs": [
    {
     "data": {
      "text/plain": [
       "array([[1, 2]])"
      ]
     },
     "execution_count": 205,
     "metadata": {},
     "output_type": "execute_result"
    }
   ],
   "source": [
    "industrial_positions = np.asarray(np.where(map == 12)).T\n",
    "industrial_positions"
   ]
  },
  {
   "cell_type": "code",
   "execution_count": 184,
   "metadata": {},
   "outputs": [
    {
     "data": {
      "text/plain": [
       "[]"
      ]
     },
     "execution_count": 184,
     "metadata": {},
     "output_type": "execute_result"
    }
   ],
   "source": [
    "hc.scenic_positions\n",
    "# hc.toxic_positions"
   ]
  },
  {
   "cell_type": "code",
   "execution_count": null,
   "metadata": {},
   "outputs": [],
   "source": [
    "score = 0\n",
    "for i in industrial_positions:\n",
    "    if hc.map_board[i[0], i[1]] == 11:\n",
    "        score += 1\n",
    "        scenic_positions.remove([i[0], i[1]])\n",
    "    else:\n",
    "        score += self.map_board[i[0], i[1]] + 2"
   ]
  },
  {
   "cell_type": "code",
   "execution_count": 196,
   "metadata": {},
   "outputs": [
    {
     "data": {
      "text/plain": [
       "array([[1, 2]])"
      ]
     },
     "execution_count": 196,
     "metadata": {},
     "output_type": "execute_result"
    }
   ],
   "source": [
    "industrial_positions"
   ]
  },
  {
   "cell_type": "code",
   "execution_count": 203,
   "metadata": {},
   "outputs": [
    {
     "data": {
      "text/plain": [
       "array([1, 2])"
      ]
     },
     "execution_count": 203,
     "metadata": {},
     "output_type": "execute_result"
    }
   ],
   "source": [
    "industrial_positions[0]"
   ]
  },
  {
   "cell_type": "code",
   "execution_count": 212,
   "metadata": {},
   "outputs": [
    {
     "name": "stdout",
     "output_type": "stream",
     "text": [
      "1\n",
      "1 2\n"
     ]
    }
   ],
   "source": [
    "for i in industrial_positions:\n",
    "    print(i[0])\n",
    "    print(i[0],i[1])\n",
    "    row = i[0]\n",
    "    column = i[1]\n",
    "    list1=[[1,2]]\n",
    "    list1.remove([i[0],i[1]])\n"
   ]
  },
  {
   "cell_type": "code",
   "execution_count": 4,
   "metadata": {},
   "outputs": [],
   "source": [
    "hc = hill_climbing('urban 1.txt')"
   ]
  },
  {
   "cell_type": "code",
   "execution_count": 5,
   "metadata": {},
   "outputs": [
    {
     "data": {
      "text/plain": [
       "(150, 0.9575681974766543, array([[ 0., 14., 14., 13.],\n",
       "        [13., 13.,  0., 14.],\n",
       "        [ 0., 13., 14., 14.]]))"
      ]
     },
     "execution_count": 5,
     "metadata": {},
     "output_type": "execute_result"
    }
   ],
   "source": [
    "hc.climb()"
   ]
  },
  {
   "cell_type": "code",
   "execution_count": 240,
   "metadata": {},
   "outputs": [
    {
     "name": "stdout",
     "output_type": "stream",
     "text": [
      "[[ 0.  0.  0.  0.]\n",
      " [14.  0.  0.  0.]\n",
      " [ 0.  0.  0. 13.]]\n",
      "0\n",
      "0\n",
      "[[1, 2]]\n"
     ]
    }
   ],
   "source": [
    "print(hc.current)\n",
    "print(hc.current_score)\n",
    "print(hc.max_score)\n",
    "print(hc.scenic_positions)"
   ]
  },
  {
   "cell_type": "code",
   "execution_count": 234,
   "metadata": {},
   "outputs": [],
   "source": [
    "map = np.array([[ 0.,  0.,  0.,  0.],\n",
    "        [ 0.,  0., 12.,  0.],\n",
    "        [14.,  0.,  0.,  0.]])"
   ]
  },
  {
   "cell_type": "code",
   "execution_count": 237,
   "metadata": {},
   "outputs": [],
   "source": [
    "import copy"
   ]
  },
  {
   "cell_type": "code",
   "execution_count": 241,
   "metadata": {},
   "outputs": [],
   "source": [
    "scenic_positions = copy.deepcopy(hc.scenic_positions)"
   ]
  },
  {
   "cell_type": "code",
   "execution_count": 242,
   "metadata": {},
   "outputs": [],
   "source": [
    "for i in np.asarray(np.where(map == 12)).T:\n",
    "    if hc.map_board[i[0], i[1]] == 11:\n",
    "        scenic_positions.remove([i[0], i[1]])"
   ]
  },
  {
   "cell_type": "code",
   "execution_count": null,
   "metadata": {},
   "outputs": [],
   "source": []
  },
  {
   "cell_type": "code",
   "execution_count": 243,
   "metadata": {},
   "outputs": [
    {
     "data": {
      "text/plain": [
       "[[1, 2]]"
      ]
     },
     "execution_count": 243,
     "metadata": {},
     "output_type": "execute_result"
    }
   ],
   "source": [
    "hc.scenic_positions"
   ]
  },
  {
   "cell_type": "code",
   "execution_count": 6,
   "metadata": {},
   "outputs": [],
   "source": [
    "# hc.score(map)"
   ]
  },
  {
   "cell_type": "code",
   "execution_count": null,
   "metadata": {},
   "outputs": [],
   "source": []
  },
  {
   "cell_type": "code",
   "execution_count": 55,
   "metadata": {},
   "outputs": [],
   "source": [
    "# current_score,T,current = hc.climb()"
   ]
  },
  {
   "cell_type": "code",
   "execution_count": 44,
   "metadata": {},
   "outputs": [],
   "source": [
    "position = []"
   ]
  },
  {
   "cell_type": "code",
   "execution_count": 46,
   "metadata": {},
   "outputs": [
    {
     "name": "stdout",
     "output_type": "stream",
     "text": [
      "2\n"
     ]
    }
   ],
   "source": [
    "if position== True:\n",
    "    print(True)\n",
    "else:\n",
    "    print(2)"
   ]
  },
  {
   "cell_type": "code",
   "execution_count": null,
   "metadata": {},
   "outputs": [],
   "source": []
  },
  {
   "cell_type": "code",
   "execution_count": 216,
   "metadata": {},
   "outputs": [
    {
     "data": {
      "text/plain": [
       "array([[ 0.,  0.,  0.,  0.],\n",
       "       [ 0., 14.,  0., 13.],\n",
       "       [ 0.,  0.,  0.,  0.]])"
      ]
     },
     "execution_count": 216,
     "metadata": {},
     "output_type": "execute_result"
    }
   ],
   "source": [
    "map = Map('urban 1.txt')\n",
    "map.get_map()\n",
    "initial = map.initial_map()\n",
    "initial"
   ]
  },
  {
   "cell_type": "code",
   "execution_count": 217,
   "metadata": {},
   "outputs": [
    {
     "data": {
      "text/plain": [
       "[[1, 2]]"
      ]
     },
     "execution_count": 217,
     "metadata": {},
     "output_type": "execute_result"
    }
   ],
   "source": [
    "map.scenic_positions"
   ]
  },
  {
   "cell_type": "code",
   "execution_count": 4,
   "metadata": {},
   "outputs": [
    {
     "data": {
      "text/plain": [
       "array([[ 0.,  0., 13.,  0.],\n",
       "       [ 0.,  0.,  0.,  0.],\n",
       "       [ 0.,  0.,  0.,  0.]])"
      ]
     },
     "execution_count": 4,
     "metadata": {},
     "output_type": "execute_result"
    }
   ],
   "source": [
    "hill_climbing('urban 1.txt').initial"
   ]
  },
  {
   "cell_type": "code",
   "execution_count": 6,
   "metadata": {},
   "outputs": [
    {
     "data": {
      "text/plain": [
       "0.0820849986238988"
      ]
     },
     "execution_count": 6,
     "metadata": {},
     "output_type": "execute_result"
    }
   ],
   "source": [
    "math.exp(-5/2)"
   ]
  },
  {
   "cell_type": "code",
   "execution_count": 9,
   "metadata": {},
   "outputs": [
    {
     "data": {
      "text/plain": [
       "0.5522703314978357"
      ]
     },
     "execution_count": 9,
     "metadata": {},
     "output_type": "execute_result"
    }
   ],
   "source": [
    "random.uniform(0.0, 1.0)"
   ]
  },
  {
   "cell_type": "code",
   "execution_count": null,
   "metadata": {},
   "outputs": [],
   "source": []
  }
 ],
 "metadata": {
  "kernelspec": {
   "display_name": "Python 3",
   "language": "python",
   "name": "python3"
  },
  "language_info": {
   "codemirror_mode": {
    "name": "ipython",
    "version": 3
   },
   "file_extension": ".py",
   "mimetype": "text/x-python",
   "name": "python",
   "nbconvert_exporter": "python",
   "pygments_lexer": "ipython3",
   "version": "3.7.2"
  }
 },
 "nbformat": 4,
 "nbformat_minor": 2
}
