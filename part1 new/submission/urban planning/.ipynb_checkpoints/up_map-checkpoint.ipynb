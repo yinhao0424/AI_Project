{
 "cells": [
  {
   "cell_type": "code",
   "execution_count": 1,
   "metadata": {},
   "outputs": [],
   "source": [
    "import numpy as np\n",
    "import random"
   ]
  },
  {
   "cell_type": "code",
   "execution_count": 2,
   "metadata": {},
   "outputs": [],
   "source": [
    "class Map():\n",
    "    \"\"\"\n",
    "    Input: filename\n",
    "    Output: how many industrial, commercial, residential; Map stored in array\n",
    "    ex: \n",
    "    self.map: [['X', '1', '2', '4'], ['3', '4', 'S', '3'], ['6', '0', '2', '3']]\n",
    "    \"\"\"\n",
    "    def __init__(self,filename):\n",
    "        self.filename = filename\n",
    "        \n",
    "        self.industrial = 0\n",
    "        self.commercial = 0\n",
    "        self.residential = 0\n",
    "        \n",
    "        self.row = 0\n",
    "        self.column = 0\n",
    "        \n",
    "        self.map_board = []\n",
    "        \n",
    "        self.toxic_positions = []\n",
    "        self.scenic_positions = []\n",
    "    \n",
    "    def get_map(self):\n",
    "        with open(self.filename) as f:\n",
    "            line = f.read().splitlines()\n",
    "            \n",
    "        self.industrial = int(line[0])\n",
    "        self.residential = int(line[1])\n",
    "        self.commercial = int(line[2])\n",
    "        \n",
    "        ## build list of map\n",
    "        for i in line[3:]:\n",
    "            self.map_board.append(i.split(',')) \n",
    "            \n",
    "        for i in range(len(self.map_board)):\n",
    "            for j in range(len(self.map_board[0])):\n",
    "                \n",
    "                if self.map_board[i][j]=='X':\n",
    "                    self.map_board[i][j] = 10\n",
    "#                     get coordinate of X\n",
    "                    self.toxic_positions.append([i,j])   \n",
    "                                            \n",
    "                elif self.map_board[i][j] == 'S':\n",
    "                    self.map_board[i][j] = 11\n",
    "#                    get coordinate of S \n",
    "                    self.scenic_positions.append([i,j])                             \n",
    "                else:\n",
    "                    self.map_board[i][j]= int(self.map_board[i][j])\n",
    "        self.map_board = np.array(self.map_board)\n",
    "#         self.toxic_positions = np.array(self.toxic_positions)\n",
    "#         self.scenic_positions = np.array(self.scenic_positions)\n",
    "        \n",
    "        self.row = self.map_board.shape[0]\n",
    "        self.column = self.map_board.shape[1]\n",
    "        \n"
   ]
  },
  {
   "cell_type": "code",
   "execution_count": 3,
   "metadata": {},
   "outputs": [],
   "source": [
    "def initial_map(board):\n",
    "    \"\"\"\n",
    "    Input: map class\n",
    "    Output: initial map\n",
    "    ex:\n",
    "    array([[ 0.,  0.,  0.,  0.],\n",
    "       [ 0., 14.,  0.,  0.],\n",
    "       [ 0.,  0.,  0.,  0.]])\n",
    "    \"\"\"\n",
    "    \n",
    "    real_industrial = random.randint(0,board.industrial)\n",
    "    real_commercial = random.randint(0,board.commercial)\n",
    "    real_residential = random.randint(0,board.residential)\n",
    "    total_amount = real_industrial+real_commercial+real_residential\n",
    "    \n",
    "    avaliable_position = []\n",
    "    initial_map = np.zeros(board.map_board.shape)\n",
    "    \n",
    "    for row in range(board.row):\n",
    "        for column in range(board.column):\n",
    "            if board.map_board[row,column] != 10:\n",
    "                avaliable_position.append([row,column])               \n",
    "    \n",
    "    put_building = random.sample(avaliable_position,total_amount)\n",
    "    \n",
    "    for i in range(real_industrial):\n",
    "        initial_map[put_building[i][0],put_building[i][1]] = 12\n",
    "    for i in range(real_commercial):\n",
    "        initial_map[put_building[i+real_industrial][0],put_building[i+real_industrial][1]] = 13\n",
    "    for i in range(real_residential):\n",
    "        initial_map[put_building[i+real_industrial+real_commercial][0],put_building[i+real_industrial+real_commercial][1]] = 14\n",
    "        \n",
    "    return initial_map\n",
    "\n",
    "            "
   ]
  },
  {
   "cell_type": "code",
   "execution_count": 4,
   "metadata": {},
   "outputs": [],
   "source": [
    "map = Map('urban 2.txt')\n",
    "map.get"
   ]
  },
  {
   "cell_type": "code",
   "execution_count": 5,
   "metadata": {},
   "outputs": [],
   "source": [
    "a = []"
   ]
  },
  {
   "cell_type": "code",
   "execution_count": 6,
   "metadata": {},
   "outputs": [
    {
     "ename": "AttributeError",
     "evalue": "'list' object has no attribute 'shape'",
     "output_type": "error",
     "traceback": [
      "\u001b[0;31m---------------------------------------------------------------------------\u001b[0m",
      "\u001b[0;31mAttributeError\u001b[0m                            Traceback (most recent call last)",
      "\u001b[0;32m<ipython-input-6-5fa3c2a402f2>\u001b[0m in \u001b[0;36m<module>\u001b[0;34m()\u001b[0m\n\u001b[1;32m      1\u001b[0m \u001b[0;32mfor\u001b[0m \u001b[0mi\u001b[0m \u001b[0;32min\u001b[0m \u001b[0mrange\u001b[0m\u001b[0;34m(\u001b[0m\u001b[0;36m10\u001b[0m\u001b[0;34m)\u001b[0m\u001b[0;34m:\u001b[0m\u001b[0;34m\u001b[0m\u001b[0;34m\u001b[0m\u001b[0m\n\u001b[0;32m----> 2\u001b[0;31m     \u001b[0minitial\u001b[0m \u001b[0;34m=\u001b[0m \u001b[0minitial_map\u001b[0m\u001b[0;34m(\u001b[0m\u001b[0mmap\u001b[0m\u001b[0;34m)\u001b[0m\u001b[0;34m\u001b[0m\u001b[0;34m\u001b[0m\u001b[0m\n\u001b[0m\u001b[1;32m      3\u001b[0m     \u001b[0ma\u001b[0m\u001b[0;34m.\u001b[0m\u001b[0mappend\u001b[0m\u001b[0;34m(\u001b[0m\u001b[0minitial\u001b[0m\u001b[0;34m)\u001b[0m\u001b[0;34m\u001b[0m\u001b[0;34m\u001b[0m\u001b[0m\n",
      "\u001b[0;32m<ipython-input-3-9d856adc8c4b>\u001b[0m in \u001b[0;36minitial_map\u001b[0;34m(board)\u001b[0m\n\u001b[1;32m     15\u001b[0m \u001b[0;34m\u001b[0m\u001b[0m\n\u001b[1;32m     16\u001b[0m     \u001b[0mavaliable_position\u001b[0m \u001b[0;34m=\u001b[0m \u001b[0;34m[\u001b[0m\u001b[0;34m]\u001b[0m\u001b[0;34m\u001b[0m\u001b[0;34m\u001b[0m\u001b[0m\n\u001b[0;32m---> 17\u001b[0;31m     \u001b[0minitial_map\u001b[0m \u001b[0;34m=\u001b[0m \u001b[0mnp\u001b[0m\u001b[0;34m.\u001b[0m\u001b[0mzeros\u001b[0m\u001b[0;34m(\u001b[0m\u001b[0mboard\u001b[0m\u001b[0;34m.\u001b[0m\u001b[0mmap_board\u001b[0m\u001b[0;34m.\u001b[0m\u001b[0mshape\u001b[0m\u001b[0;34m)\u001b[0m\u001b[0;34m\u001b[0m\u001b[0;34m\u001b[0m\u001b[0m\n\u001b[0m\u001b[1;32m     18\u001b[0m \u001b[0;34m\u001b[0m\u001b[0m\n\u001b[1;32m     19\u001b[0m     \u001b[0;32mfor\u001b[0m \u001b[0mrow\u001b[0m \u001b[0;32min\u001b[0m \u001b[0mrange\u001b[0m\u001b[0;34m(\u001b[0m\u001b[0mboard\u001b[0m\u001b[0;34m.\u001b[0m\u001b[0mrow\u001b[0m\u001b[0;34m)\u001b[0m\u001b[0;34m:\u001b[0m\u001b[0;34m\u001b[0m\u001b[0;34m\u001b[0m\u001b[0m\n",
      "\u001b[0;31mAttributeError\u001b[0m: 'list' object has no attribute 'shape'"
     ]
    }
   ],
   "source": [
    "for i in range(10):\n",
    "    initial = initial_map(map)\n",
    "    a.append(initial)"
   ]
  },
  {
   "cell_type": "code",
   "execution_count": 39,
   "metadata": {},
   "outputs": [],
   "source": [
    "def manhattandistance(coor1, coor2):\n",
    "    \"\"\"\n",
    "    input: \n",
    "    coor1: position of point1\n",
    "    coor2: position of point2\n",
    "    output:\n",
    "    manhattandistance\n",
    "    \"\"\"\n",
    "    \n",
    "    return abs(coor1[0] - coor2[0]) + abs(coor1[1] - coor2[1])\n",
    "\n",
    "def score(map_board, initial_map):\n",
    "    \"\"\"\n",
    "    input: \n",
    "    map_start: Map class with original board \n",
    "    ex:  array([[10,  1,  2,  4],\n",
    "               [ 3,  4, 11,  3],\n",
    "               [ 6,  0,  2,  3]])\n",
    "    map: new urban design \n",
    "    ex:  array([[ 0.,  0.,  0.,  0.],\n",
    "               [ 0.,  0.,  0.,  0.],\n",
    "               [ 0., 14.,  0.,  0.]])\n",
    "    \n",
    "    output: score of new urban design map\n",
    "    \"\"\"\n",
    "    score = 0\n",
    "    \n",
    "    toxic_positions = map_board.toxic_positions\n",
    "    scenic_positions = map_board.scenic_positions\n",
    "    \n",
    "    industrial_positions = np.asarray(np.where(initial_map == 12)).T\n",
    "    commercial_positions = np.asarray(np.where(initial_map == 13)).T\n",
    "    residential_positions = np.asarray(np.where(initial_map == 14)).T\n",
    "    \n",
    "    # build cost \n",
    "    for i in industrial_positions:\n",
    "        if map_board.map_board[i[0],i[1]] == 11:\n",
    "            score -= 1\n",
    "            scenic_positions.remove([i[0],i[1]])\n",
    "        else:             \n",
    "            score += -map_board.map_board[i[0],i[1]] - 2\n",
    "    print('build i cost: ')\n",
    "    print(score)\n",
    "    \n",
    "    for i in commercial_positions:\n",
    "        if map_board.map_board[i[0],i[1]] == 11:\n",
    "            score -= 1\n",
    "            scenic_positions.remove([i[0],i[1]])\n",
    "        else:             \n",
    "            score += -map_board.map_board[i[0],i[1]] - 2 \n",
    "    print('build c cost: ')\n",
    "    print(score)\n",
    "    \n",
    "    for i in residential_positions:\n",
    "        if map_board.map_board[i[0],i[1]] == 11:\n",
    "            score -= 1\n",
    "            scenic_positions.remove([i[0],i[1]])\n",
    "        else:             \n",
    "            score += -map_board.map_board[i[0],i[1]] - 2\n",
    "    print('build r cost: ')\n",
    "    print(score)   \n",
    "            \n",
    "    # compute benefits from each other\n",
    "    # Industrial tiles benefit from being near other industry.\n",
    "    if len(industrial_positions)>1:\n",
    "        for i in range(0,len(industrial_positions)-1):\n",
    "            for j in range(i+1,len(industrial_positions)):\n",
    "                if manhattandistance(industrial_positions[i],industrial_positions[j])<=2:\n",
    "                    score +=2\n",
    "    \n",
    "    # Commercial sites benefit from being near residential tiles.\n",
    "    for i in commercial_positions:\n",
    "        for j in residential_positions:\n",
    "            if manhattandistance(i,j)<=3:\n",
    "                score += 4\n",
    "    # residential sites benefit from being near Commercial tiles.            \n",
    "    for i in residential_positions:\n",
    "        for j in commercial_positions:\n",
    "            if manhattandistance(i,j)<=3:\n",
    "                score += 4\n",
    "\n",
    "    # Comercial with Comercial\n",
    "    if len(commercial_positions)>1:\n",
    "        for i in range(0,len(commercial_positions)-1):\n",
    "            for j in range(i+1,len(commercial_positions)):\n",
    "                if manhattandistance(commercial_positions[i],commercial_positions[j])<=2:\n",
    "                    score -=4\n",
    "    # Residential sites do not like being near industrial sites.\n",
    "    for i in commercial_positions:\n",
    "        for j in industrial_positions:\n",
    "            if manhattandistance(i,j)<=3:\n",
    "                score -= 5\n",
    "            \n",
    "    \n",
    "    # penalty zones close to toxic waste site \n",
    "    for toxic in toxic_positions:\n",
    "        for industrial in industrial_positions:\n",
    "            if manhattandistance(toxic,industrial)<=2:\n",
    "                score -= 10\n",
    "        for commercial in commercial_positions:\n",
    "            if manhattandistance(toxic,commercial)<=2:\n",
    "                score -= 20\n",
    "        for residential in residential_positions:\n",
    "            if manhattandistance(toxic,residential)<=2:\n",
    "                score -= 20   \n",
    "    print('penalty: ')\n",
    "    print(score)\n",
    "    # prize zones close to scenic view\n",
    "    for scenic in scenic_positions:\n",
    "        for residential in residential_positions:\n",
    "            if manhattandistance(scenic,residential)<=2:\n",
    "                score += 10    \n",
    "    \n",
    "                 \n",
    "    return score\n",
    "    "
   ]
  },
  {
   "cell_type": "code",
   "execution_count": 28,
   "metadata": {},
   "outputs": [
    {
     "name": "stdout",
     "output_type": "stream",
     "text": [
      "[[10  1  2  4]\n",
      " [ 3  4 11  3]\n",
      " [ 6  0  2  3]]\n",
      "1\n",
      "1\n",
      "1\n",
      "[[0, 0]]\n"
     ]
    }
   ],
   "source": [
    "map_2 = Map('urban 1.txt')\n",
    "map_2.get_map()\n",
    "print(map_2.map_board)\n",
    "print(map_2.industrial)\n",
    "print(map_2.commercial)\n",
    "print(map_2.residential)\n",
    "print(map_2.toxic_positions)"
   ]
  },
  {
   "cell_type": "code",
   "execution_count": 37,
   "metadata": {},
   "outputs": [
    {
     "data": {
      "text/plain": [
       "array([[ 0.,  0.,  0.,  0.],\n",
       "       [12.,  0.,  0.,  0.],\n",
       "       [ 0., 14.,  0.,  0.]])"
      ]
     },
     "execution_count": 37,
     "metadata": {},
     "output_type": "execute_result"
    }
   ],
   "source": [
    "initial_map_1 = initial_map(map_2)\n",
    "initial_map_1"
   ]
  },
  {
   "cell_type": "code",
   "execution_count": 40,
   "metadata": {},
   "outputs": [
    {
     "name": "stdout",
     "output_type": "stream",
     "text": [
      "build i cost: \n",
      "-5\n",
      "build c cost: \n",
      "-5\n",
      "build r cost: \n",
      "-7\n",
      "penalty: \n",
      "-17\n"
     ]
    },
    {
     "data": {
      "text/plain": [
       "-7"
      ]
     },
     "execution_count": 40,
     "metadata": {},
     "output_type": "execute_result"
    }
   ],
   "source": [
    "score(map_2, initial_map_1)"
   ]
  },
  {
   "cell_type": "code",
   "execution_count": null,
   "metadata": {},
   "outputs": [],
   "source": []
  },
  {
   "cell_type": "code",
   "execution_count": null,
   "metadata": {},
   "outputs": [],
   "source": []
  },
  {
   "cell_type": "code",
   "execution_count": null,
   "metadata": {},
   "outputs": [],
   "source": []
  },
  {
   "cell_type": "code",
   "execution_count": null,
   "metadata": {},
   "outputs": [],
   "source": []
  },
  {
   "cell_type": "code",
   "execution_count": null,
   "metadata": {},
   "outputs": [],
   "source": [
    "print(score)"
   ]
  },
  {
   "cell_type": "code",
   "execution_count": 127,
   "metadata": {},
   "outputs": [
    {
     "data": {
      "text/plain": [
       "[array([0, 0])]"
      ]
     },
     "execution_count": 127,
     "metadata": {},
     "output_type": "execute_result"
    }
   ],
   "source": [
    "toxic_positions = map_1.toxic_positions\n",
    "toxic_positions"
   ]
  },
  {
   "cell_type": "code",
   "execution_count": 135,
   "metadata": {},
   "outputs": [],
   "source": [
    "residential_positions = np.asarray(np.where(initial_map == 14)).T"
   ]
  },
  {
   "cell_type": "code",
   "execution_count": 136,
   "metadata": {},
   "outputs": [
    {
     "data": {
      "text/plain": [
       "array([[0, 2]])"
      ]
     },
     "execution_count": 136,
     "metadata": {},
     "output_type": "execute_result"
    }
   ],
   "source": [
    "residential_positions"
   ]
  },
  {
   "cell_type": "code",
   "execution_count": 71,
   "metadata": {},
   "outputs": [
    {
     "data": {
      "text/plain": [
       "1"
      ]
     },
     "execution_count": 71,
     "metadata": {},
     "output_type": "execute_result"
    }
   ],
   "source": [
    "abs(industrial_positions[0,0]- industrial_positions[0,1])"
   ]
  },
  {
   "cell_type": "code",
   "execution_count": 66,
   "metadata": {},
   "outputs": [],
   "source": [
    "industrial_positions = np.asarray(np.where(initial_map == 14)).T"
   ]
  },
  {
   "cell_type": "code",
   "execution_count": 92,
   "metadata": {},
   "outputs": [
    {
     "name": "stdout",
     "output_type": "stream",
     "text": [
      "2 1\n"
     ]
    }
   ],
   "source": [
    "i = industrial_positions[0][0]\n",
    "j = industrial_positions[0][1]\n",
    "print(i,j)"
   ]
  },
  {
   "cell_type": "code",
   "execution_count": 132,
   "metadata": {},
   "outputs": [
    {
     "data": {
      "text/plain": [
       "[[0, 0], [0, 1]]"
      ]
     },
     "execution_count": 132,
     "metadata": {},
     "output_type": "execute_result"
    }
   ],
   "source": [
    "a = [[0,0],[0,1]]\n",
    "a"
   ]
  },
  {
   "cell_type": "code",
   "execution_count": 133,
   "metadata": {},
   "outputs": [],
   "source": [
    "a.remove([0,0])"
   ]
  },
  {
   "cell_type": "code",
   "execution_count": 37,
   "metadata": {},
   "outputs": [
    {
     "data": {
      "text/plain": [
       "[[1, 2], [0, 2], [0, 1]]"
      ]
     },
     "execution_count": 37,
     "metadata": {},
     "output_type": "execute_result"
    }
   ],
   "source": [
    "random_position = random.sample(available_position,3)\n",
    "random_position"
   ]
  },
  {
   "cell_type": "code",
   "execution_count": 41,
   "metadata": {},
   "outputs": [
    {
     "data": {
      "text/plain": [
       "[1, 2]"
      ]
     },
     "execution_count": 41,
     "metadata": {},
     "output_type": "execute_result"
    }
   ],
   "source": [
    "random_position[0]"
   ]
  },
  {
   "cell_type": "code",
   "execution_count": 46,
   "metadata": {},
   "outputs": [
    {
     "data": {
      "text/plain": [
       "0.0"
      ]
     },
     "execution_count": 46,
     "metadata": {},
     "output_type": "execute_result"
    }
   ],
   "source": [
    "draft_map[random_position[0][0],random_position[0][1]]"
   ]
  },
  {
   "cell_type": "code",
   "execution_count": 25,
   "metadata": {},
   "outputs": [
    {
     "data": {
      "text/plain": [
       "[[2, 1, 0], [2, 0, 0], [1, 1, 0]]"
      ]
     },
     "execution_count": 25,
     "metadata": {},
     "output_type": "execute_result"
    }
   ],
   "source": [
    "position =[]\n",
    "for n in range(len(random_position)):\n",
    "    position.append([available_position[random_position[n]][0],available_position[random_position[n]][1],0])\n",
    "position\n",
    "    "
   ]
  },
  {
   "cell_type": "code",
   "execution_count": 36,
   "metadata": {},
   "outputs": [
    {
     "data": {
      "text/plain": [
       "array([[0., 0., 0., 0.],\n",
       "       [0., 0., 0., 0.],\n",
       "       [0., 0., 0., 0.]])"
      ]
     },
     "execution_count": 36,
     "metadata": {},
     "output_type": "execute_result"
    }
   ],
   "source": [
    "np.zeros(map_1.map.shape)"
   ]
  },
  {
   "cell_type": "code",
   "execution_count": 68,
   "metadata": {},
   "outputs": [
    {
     "data": {
      "text/plain": [
       "[5, 1, 0, 7, 9]"
      ]
     },
     "execution_count": 68,
     "metadata": {},
     "output_type": "execute_result"
    }
   ],
   "source": [
    "random_position = random.sample(range(0,10),5)\n",
    "random_position"
   ]
  },
  {
   "cell_type": "code",
   "execution_count": 163,
   "metadata": {},
   "outputs": [
    {
     "data": {
      "text/plain": [
       "<function __main__.exp_schedule.<locals>.<lambda>(t)>"
      ]
     },
     "execution_count": 163,
     "metadata": {},
     "output_type": "execute_result"
    }
   ],
   "source": [
    "def exp_schedule(k=4, alpha=0.001, limit=20000):\n",
    "    return lambda t: (k * math.exp(-alpha * t) if t < limit else 0)\n"
   ]
  },
  {
   "cell_type": "code",
   "execution_count": 164,
   "metadata": {},
   "outputs": [],
   "source": [
    "import sys"
   ]
  },
  {
   "cell_type": "code",
   "execution_count": 165,
   "metadata": {},
   "outputs": [
    {
     "data": {
      "text/plain": [
       "9223372036854775807"
      ]
     },
     "execution_count": 165,
     "metadata": {},
     "output_type": "execute_result"
    }
   ],
   "source": [
    "sys.maxsize"
   ]
  },
  {
   "cell_type": "code",
   "execution_count": null,
   "metadata": {},
   "outputs": [],
   "source": []
  }
 ],
 "metadata": {
  "kernelspec": {
   "display_name": "Python 3",
   "language": "python",
   "name": "python3"
  },
  "language_info": {
   "codemirror_mode": {
    "name": "ipython",
    "version": 3
   },
   "file_extension": ".py",
   "mimetype": "text/x-python",
   "name": "python",
   "nbconvert_exporter": "python",
   "pygments_lexer": "ipython3",
   "version": "3.7.2"
  }
 },
 "nbformat": 4,
 "nbformat_minor": 2
}
