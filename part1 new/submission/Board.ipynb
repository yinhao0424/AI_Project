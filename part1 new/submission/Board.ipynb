{
 "cells": [
  {
   "cell_type": "code",
   "execution_count": 2,
   "metadata": {},
   "outputs": [],
   "source": [
    "import numpy as np\n",
    "import copy"
   ]
  },
  {
   "cell_type": "code",
   "execution_count": 3,
   "metadata": {},
   "outputs": [],
   "source": [
    "class queen_astar():\n",
    "\n",
    "    def input_board(self, filename):\n",
    "        \"\"\"\n",
    "        input: filename\n",
    "        output: a array like matrix\n",
    "        ex:\n",
    "        array([[0., 0., 0., 0., 0.],\n",
    "           [0., 0., 0., 0., 2.],\n",
    "           [0., 0., 0., 4., 0.],\n",
    "           [0., 3., 0., 0., 0.],\n",
    "           [9., 0., 1., 0., 0.]])\n",
    "        \"\"\"\n",
    "        state = np.genfromtxt(filename, delimiter=',')\n",
    "        state[np.isnan(state)] = 0\n",
    "        return state\n",
    "    \n",
    "    def board_value(self,state):\n",
    "        board = np.nonzero(state.T)[1]\n",
    "        value = []\n",
    "        for i in range(len(board)):\n",
    "            value.append(state[board[i],i]**2)\n",
    "        return value\n",
    "    \n",
    "    \n",
    "    def heuristic_1(self, state):\n",
    "        \"\"\"\n",
    "        H1: The lightest Queen across all pairs of Queens attacking each other.\n",
    "        ex: min(3,9, 9,1, 3,1, 4,2) = 1**1\n",
    "        input: state\n",
    "        ex: \n",
    "        array([[0., 0., 0., 0., 0.],\n",
    "           [0., 0., 0., 0., 2.],\n",
    "           [0., 0., 0., 4., 0.],\n",
    "           [0., 3., 0., 0., 0.],\n",
    "           [9., 0., 1., 0., 0.]])\n",
    "        output: H1 score\n",
    "        \"\"\"\n",
    "        board = np.nonzero(state.T)[1]\n",
    "        min_attact = []\n",
    "        for i in range(len(board)):\n",
    "            for j in range(i+1,len(board)):\n",
    "                # check same rows attack\n",
    "                if board[i] == board[j]:\n",
    "                    min_attact.append(min(state[board[i],i],state[board[j],j]))\n",
    "                # check diagonally attack\n",
    "                offset = j-i\n",
    "                if board[i] == board[j] - offset or board[i] == board[j] + offset:\n",
    "                    min_attact.append(min(state[board[i],i],state[board[j],j]))\n",
    "        if min_attact == []:\n",
    "            return 0\n",
    "        else:\n",
    "            h1 = min(min_attact)**2\n",
    "            return h1\n",
    "    \n",
    "    def heuristic_2(self,state):\n",
    "        \"\"\"\n",
    "        H2: Sum across every pair of attacking Queens the weight of the lightest Queen.\n",
    "        ex: min(3,9)**2 + min(9,1)**2 + min(3,1)**2 + min(4,2)**2 = 3**2 +1**2 +1**2 +2**2  = 15\n",
    "        input: state\n",
    "        output: H2 score\n",
    "        \"\"\"\n",
    "        board = np.nonzero(state.T)[1]\n",
    "        min_attact = []\n",
    "        for i in range(len(board)):\n",
    "            for j in range(i+1,len(board)):\n",
    "                # check same rows attack\n",
    "                if board[i] == board[j]:\n",
    "                    min_attact.append(min(state[board[i],i],state[board[j],j]))\n",
    "                # check diagonally attack\n",
    "                offset = j-i\n",
    "                if board[i] == board[j] - offset or board[i] == board[j] + offset:\n",
    "                    min_attact.append(min(state[board[i],i],state[board[j],j]))\n",
    "\n",
    "        if min_attact == []:\n",
    "            return 0\n",
    "        else:\n",
    "            h2 = sum([i**2 for i in min_attact])        \n",
    "            return h2\n",
    "    \n",
    "    def near_state(self,state):\n",
    "        \"\"\"\n",
    "        input: state\n",
    "        output: a list of all possible neighbours\n",
    "        \"\"\"\n",
    "        board = np.nonzero(state.T)[1]\n",
    "        near_states = []\n",
    "\n",
    "        for col in range(len(board)):\n",
    "            for row in range(len(board)):\n",
    "                if row != board[col]:\n",
    "                    neighbour = copy.deepcopy(state)\n",
    "                    neighbour[row,col] = state[board[col],col]\n",
    "                    neighbour[board[col],col] = 0\n",
    "\n",
    "                    near_states.append(neighbour)\n",
    "                    \n",
    "        return near_states\n",
    "    \n",
    "    def near_state_position(self,state):\n",
    "        \"\"\"\n",
    "        input: state\n",
    "        output: a list of all possible neighbours’ position\n",
    "        \"\"\"\n",
    "        board = np.nonzero(state.T)[1]\n",
    "        near_states_positions = []\n",
    "\n",
    "        for col in range(len(board)):\n",
    "            for row in range(len(board)):\n",
    "                if row != board[col]:\n",
    "                    neighbour_position = list(board)\n",
    "                    neighbour_position[col] = row  # Switch column to empty\n",
    "                    near_states_positions.append(list(neighbour_position))  \n",
    "                  \n",
    "        return near_states_positions   \n",
    "     \n",
    "    def cost(self,state1,state2):\n",
    "        \"\"\"\n",
    "        input: two states\n",
    "        output: cost of taking this step\n",
    "        \"\"\"\n",
    "        board1 = np.nonzero(state1.T)[1] \n",
    "        board2 = np.nonzero(state2.T)[1]      \n",
    "        return np.dot(abs(board1-board2),board_value(state1))"
   ]
  },
  {
   "cell_type": "code",
   "execution_count": 4,
   "metadata": {},
   "outputs": [],
   "source": [
    "class Queen():\n",
    "\n",
    "    def input_board(self, filename):\n",
    "        \"\"\"\n",
    "        input: filename\n",
    "        output: a array like matrix\n",
    "        ex:\n",
    "        array([[0., 0., 0., 0., 0.],\n",
    "           [0., 0., 0., 0., 2.],\n",
    "           [0., 0., 0., 4., 0.],\n",
    "           [0., 3., 0., 0., 0.],\n",
    "           [9., 0., 1., 0., 0.]])\n",
    "        \"\"\"\n",
    "        state = np.genfromtxt(filename, delimiter=',')\n",
    "        state[np.isnan(state)] = 0\n",
    "        return state\n",
    "    \n",
    "    def board_value(self,state):\n",
    "        board = np.nonzero(state.T)[1]\n",
    "        value = []\n",
    "        for i in range(len(board)):\n",
    "            value.append(state[board[i],i]**2)\n",
    "        return value\n",
    "    \n",
    "    \n",
    "    def heuristic_1(self, state):\n",
    "        \"\"\"\n",
    "        H1: The lightest Queen across all pairs of Queens attacking each other.\n",
    "        ex: min(3,9, 9,1, 3,1, 4,2) = 1**1\n",
    "        input: state\n",
    "        ex: \n",
    "        array([[0., 0., 0., 0., 0.],\n",
    "           [0., 0., 0., 0., 2.],\n",
    "           [0., 0., 0., 4., 0.],\n",
    "           [0., 3., 0., 0., 0.],\n",
    "           [9., 0., 1., 0., 0.]])\n",
    "        output: H1 score\n",
    "        \"\"\"\n",
    "        board = np.nonzero(state.T)[1]\n",
    "        min_attact = []\n",
    "        for i in range(len(board)):\n",
    "            for j in range(i+1,len(board)):\n",
    "                # check same rows attack\n",
    "                if board[i] == board[j]:\n",
    "                    min_attact.append(min(state[board[i],i],state[board[j],j]))\n",
    "                # check diagonally attack\n",
    "                offset = j-i\n",
    "                if board[i] == board[j] - offset or board[i] == board[j] + offset:\n",
    "                    min_attact.append(min(state[board[i],i],state[board[j],j]))\n",
    "        if min_attact == []:\n",
    "            return 0\n",
    "        else:\n",
    "            h1 = min(min_attact)**2\n",
    "            return h1\n",
    "    \n",
    "    def heuristic_2(self,state):\n",
    "        \"\"\"\n",
    "        H2: Sum across every pair of attacking Queens the weight of the lightest Queen.\n",
    "        ex: min(3,9)**2 + min(9,1)**2 + min(3,1)**2 + min(4,2)**2 = 3**2 +1**2 +1**2 +2**2  = 15\n",
    "        input: state\n",
    "        output: H2 score\n",
    "        \"\"\"\n",
    "        board = np.nonzero(state.T)[1]\n",
    "        min_attact = []\n",
    "        for i in range(len(board)):\n",
    "            for j in range(i+1,len(board)):\n",
    "                # check same rows attack\n",
    "                if board[i] == board[j]:\n",
    "                    min_attact.append(min(state[board[i],i],state[board[j],j]))\n",
    "                # check diagonally attack\n",
    "                offset = j-i\n",
    "                if board[i] == board[j] - offset or board[i] == board[j] + offset:\n",
    "                    min_attact.append(min(state[board[i],i],state[board[j],j]))\n",
    "\n",
    "        if min_attact == []:\n",
    "            return 0\n",
    "        else:\n",
    "            h2 = sum([i**2 for i in min_attact])        \n",
    "            return h2\n",
    "    \n",
    "    def near_state(self,state):\n",
    "        \"\"\"\n",
    "        input: state\n",
    "        output: a list of all possible neighbours\n",
    "        \"\"\"\n",
    "        board = np.nonzero(state.T)[1]\n",
    "        near_states = []\n",
    "\n",
    "        for col in range(len(board)):\n",
    "            for row in range(len(board)):\n",
    "                if row != board[col]:\n",
    "                    neighbour = copy.deepcopy(state)\n",
    "                    neighbour[row,col] = state[board[col],col]\n",
    "                    neighbour[board[col],col] = 0\n",
    "\n",
    "                    near_states.append(neighbour)\n",
    "                    \n",
    "        return near_states\n",
    "    \n",
    "    def near_state_position(self,state):\n",
    "        \"\"\"\n",
    "        input: state\n",
    "        output: a list of all possible neighbours’ position\n",
    "        \"\"\"\n",
    "        board = np.nonzero(state.T)[1]\n",
    "        near_states_positions = []\n",
    "\n",
    "        for col in range(len(board)):\n",
    "            for row in range(len(board)):\n",
    "                if row != board[col]:\n",
    "                    neighbour_position = list(board)\n",
    "                    neighbour_position[col] = row  # Switch column to empty\n",
    "                    near_states_positions.append(list(neighbour_position))  \n",
    "                  \n",
    "        return near_states_positions   \n",
    "     \n",
    "    def cost(self,state1,state2):\n",
    "        \"\"\"\n",
    "        input: two states\n",
    "        output: cost of taking this step\n",
    "        \"\"\"\n",
    "        board1 = np.nonzero(state1.T)[1] \n",
    "        board2 = np.nonzero(state2.T)[1]      \n",
    "        return np.dot(abs(board1-board2),board_value(state1))\n",
    "        "
   ]
  },
  {
   "cell_type": "code",
   "execution_count": 5,
   "metadata": {},
   "outputs": [
    {
     "name": "stdout",
     "output_type": "stream",
     "text": [
      "[[0. 0. 0. 0. 0.]\n",
      " [0. 0. 0. 0. 2.]\n",
      " [0. 0. 0. 4. 0.]\n",
      " [0. 3. 0. 0. 0.]\n",
      " [9. 0. 1. 0. 0.]]\n",
      "1.0\n",
      "15.0\n",
      "[[0. 0. 0. 0. 0.]\n",
      " [9. 0. 0. 0. 2.]\n",
      " [0. 0. 0. 4. 0.]\n",
      " [0. 3. 0. 0. 0.]\n",
      " [0. 0. 1. 0. 0.]]\n",
      "[81.0, 9.0, 1.0, 16.0, 4.0]\n"
     ]
    }
   ],
   "source": [
    "q = Queen()\n",
    "state = q.input_board('heavy queens board.csv')\n",
    "h1 = q.heuristic_1(state)\n",
    "h2 = q.heuristic_2(state)\n",
    "neighbour = q.near_state(state)\n",
    "print(state)\n",
    "print(h1)\n",
    "print(h2)\n",
    "print(neighbour[1])\n",
    "print(q.board_value(state))"
   ]
  },
  {
   "cell_type": "code",
   "execution_count": 16,
   "metadata": {},
   "outputs": [],
   "source": [
    "list1 =[[1,2],[3,4]]\n",
    "list2 = [[5,6],[7,8]]\n",
    "list1.extend(list2)"
   ]
  },
  {
   "cell_type": "code",
   "execution_count": 18,
   "metadata": {},
   "outputs": [
    {
     "data": {
      "text/plain": [
       "5"
      ]
     },
     "execution_count": 18,
     "metadata": {},
     "output_type": "execute_result"
    }
   ],
   "source": [
    "a = 5\n",
    "b = a\n",
    "b"
   ]
  },
  {
   "cell_type": "code",
   "execution_count": 19,
   "metadata": {},
   "outputs": [
    {
     "data": {
      "text/plain": [
       "8"
      ]
     },
     "execution_count": 19,
     "metadata": {},
     "output_type": "execute_result"
    }
   ],
   "source": [
    "a = 3\n",
    "b += a\n",
    "b"
   ]
  },
  {
   "cell_type": "code",
   "execution_count": null,
   "metadata": {},
   "outputs": [],
   "source": []
  },
  {
   "cell_type": "code",
   "execution_count": 10,
   "metadata": {},
   "outputs": [
    {
     "data": {
      "text/plain": [
       "array([[10.,  0.,  0.,  0.,  0.],\n",
       "       [ 0.,  0.,  0.,  0.,  2.],\n",
       "       [ 0.,  0.,  0.,  4.,  0.],\n",
       "       [ 0.,  3.,  0.,  0.,  0.],\n",
       "       [ 9.,  0.,  1.,  0.,  0.]])"
      ]
     },
     "execution_count": 10,
     "metadata": {},
     "output_type": "execute_result"
    }
   ],
   "source": [
    "a = copy.deepcopy(state)\n",
    "a"
   ]
  },
  {
   "cell_type": "code",
   "execution_count": 11,
   "metadata": {},
   "outputs": [
    {
     "data": {
      "text/plain": [
       "array([[11.,  0.,  0.,  0.,  0.],\n",
       "       [ 0.,  0.,  0.,  0.,  2.],\n",
       "       [ 0.,  0.,  0.,  4.,  0.],\n",
       "       [ 0.,  3.,  0.,  0.,  0.],\n",
       "       [ 9.,  0.,  1.,  0.,  0.]])"
      ]
     },
     "execution_count": 11,
     "metadata": {},
     "output_type": "execute_result"
    }
   ],
   "source": [
    "a[0,0] =11\n",
    "a"
   ]
  },
  {
   "cell_type": "code",
   "execution_count": 12,
   "metadata": {},
   "outputs": [
    {
     "data": {
      "text/plain": [
       "array([[10.,  0.,  0.,  0.,  0.],\n",
       "       [ 0.,  0.,  0.,  0.,  2.],\n",
       "       [ 0.,  0.,  0.,  4.,  0.],\n",
       "       [ 0.,  3.,  0.,  0.,  0.],\n",
       "       [ 9.,  0.,  1.,  0.,  0.]])"
      ]
     },
     "execution_count": 12,
     "metadata": {},
     "output_type": "execute_result"
    }
   ],
   "source": [
    "state"
   ]
  },
  {
   "cell_type": "code",
   "execution_count": 108,
   "metadata": {},
   "outputs": [
    {
     "data": {
      "text/plain": [
       "324.0"
      ]
     },
     "execution_count": 108,
     "metadata": {},
     "output_type": "execute_result"
    }
   ],
   "source": [
    "q.cost(state,neighbour[0])"
   ]
  },
  {
   "cell_type": "code",
   "execution_count": 101,
   "metadata": {},
   "outputs": [
    {
     "data": {
      "text/plain": [
       "array([[0., 0., 0., 0., 0.],\n",
       "       [9., 0., 0., 0., 2.],\n",
       "       [0., 0., 0., 4., 0.],\n",
       "       [0., 3., 0., 0., 0.],\n",
       "       [0., 0., 1., 0., 0.]])"
      ]
     },
     "execution_count": 101,
     "metadata": {},
     "output_type": "execute_result"
    }
   ],
   "source": [
    "neighbour[1]"
   ]
  },
  {
   "cell_type": "code",
   "execution_count": 103,
   "metadata": {},
   "outputs": [
    {
     "data": {
      "text/plain": [
       "array([18.,  0.,  0.,  0.,  0.])"
      ]
     },
     "execution_count": 103,
     "metadata": {},
     "output_type": "execute_result"
    }
   ],
   "source": []
  },
  {
   "cell_type": "code",
   "execution_count": 95,
   "metadata": {},
   "outputs": [
    {
     "name": "stdout",
     "output_type": "stream",
     "text": [
      "7.0\n"
     ]
    }
   ],
   "source": [
    "print(q.cost(state,neighbour[1]))"
   ]
  },
  {
   "cell_type": "code",
   "execution_count": 94,
   "metadata": {},
   "outputs": [
    {
     "name": "stdout",
     "output_type": "stream",
     "text": [
      "[[0. 0. 1. 0. 0.]\n",
      " [9. 0. 0. 0. 0.]\n",
      " [0. 0. 0. 0. 0.]\n",
      " [0. 3. 0. 4. 0.]\n",
      " [0. 0. 0. 0. 2.]]\n",
      "4.0\n",
      "13.0\n",
      "[81.0, 9.0, 1.0, 16.0, 4.0]\n"
     ]
    }
   ],
   "source": [
    "q = Queen()\n",
    "state = q.input_board('hc_test.csv')\n",
    "h1 = q.heuristic_1(state)\n",
    "h2 = q.heuristic_2(state)\n",
    "print(state)\n",
    "print(h1)\n",
    "print(h2)\n",
    "print(q.board_value(state))"
   ]
  },
  {
   "cell_type": "code",
   "execution_count": null,
   "metadata": {},
   "outputs": [],
   "source": [
    "def cost(state1,state2):\n",
    "    cost_of_columns = sum(abs(state-neighbour[1]))/2\n",
    "    return sum(cost_of_columns)\n",
    "    "
   ]
  },
  {
   "cell_type": "code",
   "execution_count": 92,
   "metadata": {},
   "outputs": [],
   "source": [
    "def board_value(state):\n",
    "    board = np.nonzero(state.T)[1]\n",
    "    value = []\n",
    "    for i in range(len(board)):\n",
    "        value.append(state[board[i],i]**2)\n",
    "    return value\n"
   ]
  },
  {
   "cell_type": "code",
   "execution_count": 93,
   "metadata": {},
   "outputs": [
    {
     "data": {
      "text/plain": [
       "[81.0, 9.0, 1.0, 16.0, 4.0]"
      ]
     },
     "execution_count": 93,
     "metadata": {},
     "output_type": "execute_result"
    }
   ],
   "source": [
    "board_value(state)"
   ]
  },
  {
   "cell_type": "code",
   "execution_count": null,
   "metadata": {},
   "outputs": [],
   "source": []
  },
  {
   "cell_type": "code",
   "execution_count": 51,
   "metadata": {},
   "outputs": [],
   "source": [
    "board1 = np.nonzero(state.T)[1] \n",
    "board2 = np.nonzero(neighbour[1].T)[1]\n",
    "np.dot(abs(board1-board2),board_value(state))"
   ]
  },
  {
   "cell_type": "code",
   "execution_count": 104,
   "metadata": {},
   "outputs": [
    {
     "data": {
      "text/plain": [
       "243.0"
      ]
     },
     "execution_count": 104,
     "metadata": {},
     "output_type": "execute_result"
    }
   ],
   "source": [
    "np.dot(abs(board1-board2),board_value(state))"
   ]
  },
  {
   "cell_type": "code",
   "execution_count": 75,
   "metadata": {},
   "outputs": [
    {
     "data": {
      "text/plain": [
       "[9.0, 3.0, 1.0, 4.0, 2.0]"
      ]
     },
     "execution_count": 75,
     "metadata": {},
     "output_type": "execute_result"
    }
   ],
   "source": [
    "board_value(state)"
   ]
  },
  {
   "cell_type": "code",
   "execution_count": 71,
   "metadata": {},
   "outputs": [
    {
     "data": {
      "text/plain": [
       "array([[0., 0., 0., 0., 0.],\n",
       "       [9., 0., 0., 0., 0.],\n",
       "       [0., 0., 0., 0., 0.],\n",
       "       [0., 0., 0., 0., 0.],\n",
       "       [9., 0., 0., 0., 0.]])"
      ]
     },
     "execution_count": 71,
     "metadata": {},
     "output_type": "execute_result"
    }
   ],
   "source": [
    "abs(state-neighbour[1])"
   ]
  },
  {
   "cell_type": "code",
   "execution_count": 79,
   "metadata": {},
   "outputs": [],
   "source": [
    "value = [9.0, 3.0, 1.0, 4.0, 2.0]"
   ]
  },
  {
   "cell_type": "code",
   "execution_count": 81,
   "metadata": {},
   "outputs": [
    {
     "data": {
      "text/plain": [
       "[81.0, 9.0, 1.0, 16.0, 4.0]"
      ]
     },
     "execution_count": 81,
     "metadata": {},
     "output_type": "execute_result"
    }
   ],
   "source": [
    "[ x**2 for x in value ]"
   ]
  },
  {
   "cell_type": "code",
   "execution_count": 57,
   "metadata": {},
   "outputs": [
    {
     "data": {
      "text/plain": [
       "list"
      ]
     },
     "execution_count": 57,
     "metadata": {},
     "output_type": "execute_result"
    }
   ],
   "source": [
    "type(board1-board2)\n",
    "type(board_value(state))"
   ]
  },
  {
   "cell_type": "code",
   "execution_count": 58,
   "metadata": {},
   "outputs": [
    {
     "data": {
      "text/plain": [
       "numpy.float64"
      ]
     },
     "execution_count": 58,
     "metadata": {},
     "output_type": "execute_result"
    }
   ],
   "source": [
    "np.dot((board1-board2),(board_value(state)))"
   ]
  },
  {
   "cell_type": "code",
   "execution_count": 50,
   "metadata": {},
   "outputs": [
    {
     "name": "stdout",
     "output_type": "stream",
     "text": [
      "[4 3 4 2 1]\n",
      "[0 4 3 1 2]\n"
     ]
    }
   ],
   "source": [
    "print(board1)\n",
    "print(board2)\n"
   ]
  },
  {
   "cell_type": "code",
   "execution_count": null,
   "metadata": {},
   "outputs": [],
   "source": []
  },
  {
   "cell_type": "code",
   "execution_count": 21,
   "metadata": {},
   "outputs": [
    {
     "data": {
      "text/plain": [
       "array([[0., 0., 0., 0., 0.],\n",
       "       [0., 0., 0., 0., 2.],\n",
       "       [0., 0., 0., 4., 0.],\n",
       "       [0., 3., 0., 0., 0.],\n",
       "       [9., 0., 1., 0., 0.]])"
      ]
     },
     "execution_count": 21,
     "metadata": {},
     "output_type": "execute_result"
    }
   ],
   "source": [
    "x = 'heavy queens board.csv'\n",
    "def input_board(x):\n",
    "    file_array = np.genfromtxt(x, delimiter=',')\n",
    "    file_array[np.isnan(file_array)] = 0\n",
    "    return file_array\n",
    "state = input_board(x)\n",
    "state"
   ]
  },
  {
   "cell_type": "code",
   "execution_count": 28,
   "metadata": {},
   "outputs": [
    {
     "data": {
      "text/plain": [
       "[9.0, 3.0, 1.0, 4.0, 2.0]"
      ]
     },
     "execution_count": 28,
     "metadata": {},
     "output_type": "execute_result"
    }
   ],
   "source": [
    "def board_value(state):\n",
    "    board = np.nonzero(state.T)[1]\n",
    "    \n",
    "    value = []\n",
    "    for i in range(len(board)):\n",
    "        value.append(state[board[i],i])\n",
    "    return value\n",
    "board_value(state)"
   ]
  },
  {
   "cell_type": "code",
   "execution_count": 117,
   "metadata": {},
   "outputs": [],
   "source": [
    "## h1\n",
    "def h1(board):\n",
    "    \n",
    "    min_attact = []\n",
    "    for i in range(len(board)):\n",
    "        for j in range(i+1,len(board)):\n",
    "            # check same rows attack\n",
    "            if board[i] == board[j]:\n",
    "                min_attact.append(min(state[board[i],i],state[board[j],j]))\n",
    "            # check diagonally attack\n",
    "            offset = j-i\n",
    "            if board[i] == board[j] - offset or board[i] == board[j] + offset:\n",
    "                min_attact.append(min(state[board[i],i],state[board[j],j]))\n",
    "                \n",
    "    if min_attact == []:\n",
    "        return 0\n",
    "    else:\n",
    "        h = min(min_attact)**2\n",
    "        return h"
   ]
  },
  {
   "cell_type": "code",
   "execution_count": 12,
   "metadata": {},
   "outputs": [],
   "source": [
    "## h2\n",
    "def h2(board):\n",
    "    \n",
    "    min_attact = []\n",
    "    for i in range(len(board)):\n",
    "        for j in range(i+1,len(board)):\n",
    "            # check same rows attack\n",
    "            if board[i] == board[j]:\n",
    "                min_attact.append(min(state[board[i],i],state[board[j],j]))\n",
    "            # check diagonally attack\n",
    "            offset = j-i\n",
    "            if board[i] == board[j] - offset or board[i] == board[j] + offset:\n",
    "                min_attact.append(min(state[board[i],i],state[board[j],j]))\n",
    "    \n",
    "    if min_attact == []:\n",
    "        return 0\n",
    "    else:\n",
    "        h = sum([i**2 for i in min_attact])\n",
    "        return h"
   ]
  },
  {
   "cell_type": "code",
   "execution_count": 82,
   "metadata": {},
   "outputs": [],
   "source": [
    "row_attact=dict()\n",
    "diagonal_attact_left = dict()\n",
    "diagonal_attact_right = dict()\n",
    "for col,row in enumerate([4,3,4,2,1]):\n",
    "    row_attact.setdefault(row, []).append([row,col])\n",
    "    diagonal_attact_left.setdefault(col-row, []).append([row,col])\n",
    "    diagonal_attact_right.setdefault(row+col, []).append([row,col])\n",
    "print(row_attact)\n",
    "print(diagonal_attact_left)\n",
    "print(diagonal_attact_right)"
   ]
  },
  {
   "cell_type": "code",
   "execution_count": 142,
   "metadata": {},
   "outputs": [
    {
     "data": {
      "text/plain": [
       "array([[0., 0., 0., 0., 0.],\n",
       "       [0., 0., 0., 0., 2.],\n",
       "       [0., 0., 0., 4., 0.],\n",
       "       [0., 3., 0., 0., 0.],\n",
       "       [9., 0., 1., 0., 0.]])"
      ]
     },
     "execution_count": 142,
     "metadata": {},
     "output_type": "execute_result"
    }
   ],
   "source": [
    "state"
   ]
  },
  {
   "cell_type": "code",
   "execution_count": 143,
   "metadata": {},
   "outputs": [],
   "source": [
    "board = np.nonzero(state.T)[1]"
   ]
  },
  {
   "cell_type": "code",
   "execution_count": 151,
   "metadata": {},
   "outputs": [
    {
     "name": "stdout",
     "output_type": "stream",
     "text": [
      "[[9. 0. 0. 0. 0.]\n",
      " [0. 0. 0. 0. 2.]\n",
      " [0. 0. 0. 4. 0.]\n",
      " [0. 3. 0. 0. 0.]\n",
      " [0. 0. 1. 0. 0.]]\n",
      "20\n"
     ]
    }
   ],
   "source": [
    "near_states = []\n",
    "\n",
    "# For each state [column] it checks if the neighboring columns are empty\n",
    "for col in range(len(board)):\n",
    "    for row in range(len(board)):\n",
    "        if row != board[col]:\n",
    "            neighbour = copy.deepcopy(state)\n",
    "            neighbour[row,col] = state[board[col],col]\n",
    "            neighbour[board[col],col] = 0\n",
    "            \n",
    "            near_states.append(neighbour)\n",
    "print(near_states[0])\n",
    "print(len(near_states))"
   ]
  },
  {
   "cell_type": "code",
   "execution_count": 32,
   "metadata": {},
   "outputs": [],
   "source": [
    "def near_state_positions(state):\n",
    "    \"\"\"\n",
    "    input: state\n",
    "    output: a list of all possible neighbours’ position\n",
    "    \"\"\"\n",
    "    board = np.nonzero(state.T)[1]\n",
    "    near_states_position = []\n",
    "\n",
    "    for col in range(len(board)):\n",
    "        for row in range(len(board)):\n",
    "            if row != board[col]:\n",
    "                neighbour_position = list(board)\n",
    "                neighbour_position[col] = row  # Switch column to empty\n",
    "                near_states_position.append(list(neighbour_position))   \n",
    "\n",
    "    return near_states_position  "
   ]
  },
  {
   "cell_type": "code",
   "execution_count": 45,
   "metadata": {},
   "outputs": [],
   "source": [
    "# a = near_state_positions(state)\n",
    "# near_state_positions(state)\n"
   ]
  },
  {
   "cell_type": "code",
   "execution_count": null,
   "metadata": {},
   "outputs": [],
   "source": []
  },
  {
   "cell_type": "code",
   "execution_count": null,
   "metadata": {},
   "outputs": [],
   "source": []
  }
 ],
 "metadata": {
  "kernelspec": {
   "display_name": "Python 3",
   "language": "python",
   "name": "python3"
  },
  "language_info": {
   "codemirror_mode": {
    "name": "ipython",
    "version": 3
   },
   "file_extension": ".py",
   "mimetype": "text/x-python",
   "name": "python",
   "nbconvert_exporter": "python",
   "pygments_lexer": "ipython3",
   "version": "3.7.2"
  }
 },
 "nbformat": 4,
 "nbformat_minor": 2
}
